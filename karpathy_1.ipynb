{
 "cells": [
  {
   "cell_type": "code",
   "execution_count": 3,
   "metadata": {},
   "outputs": [
    {
     "name": "stdout",
     "output_type": "stream",
     "text": [
      "24.7041\n",
      "138.8338\n",
      "645.5773\n"
     ]
    }
   ],
   "source": [
    "#<--------------------------MicroGrad Intro -------------------------------------------------------->\n",
    "from micrograd.engine import Value\n",
    "a = Value(-4.0)\n",
    "b = Value(2.0)\n",
    "c = a + b\n",
    "d = a *b + b**3\n",
    "c += c + 1\n",
    "c += 1 + c + (-a)\n",
    "d += d*2 + (b+a).relu()\n",
    "d += 3 * d + (b-a).relu()\n",
    "e = c-d \n",
    "f = e**2\n",
    "g = f/2.0\n",
    "g += 10.0/f\n",
    "print(f'{g.data:.4f}') # outcome of first forward pass\n",
    "g.backward()\n",
    "print(f'{a.grad:.4f}') # Prints numerical value of dg/da\n",
    "print(f'{b.grad:.4f}') # prints numerical value of dg/db\n",
    "#<------------------------------------------------------------>"
   ]
  },
  {
   "cell_type": "code",
   "execution_count": 4,
   "metadata": {},
   "outputs": [
    {
     "name": "stdout",
     "output_type": "stream",
     "text": [
      "20.0\n"
     ]
    }
   ],
   "source": [
    "import numpy as np,math,matplotlib.pyplot as plt\n",
    "\n",
    "def f(x):\n",
    "    return 3*x**2-4*x +5\n",
    "\n",
    "print(f(3.0))"
   ]
  },
  {
   "cell_type": "code",
   "execution_count": 5,
   "metadata": {},
   "outputs": [
    {
     "data": {
      "text/plain": [
       "(array([-5.  , -4.75, -4.5 , -4.25, -4.  , -3.75, -3.5 , -3.25, -3.  ,\n",
       "        -2.75, -2.5 , -2.25, -2.  , -1.75, -1.5 , -1.25, -1.  , -0.75,\n",
       "        -0.5 , -0.25,  0.  ,  0.25,  0.5 ,  0.75,  1.  ,  1.25,  1.5 ,\n",
       "         1.75,  2.  ,  2.25,  2.5 ,  2.75,  3.  ,  3.25,  3.5 ,  3.75,\n",
       "         4.  ,  4.25,  4.5 ,  4.75]),\n",
       " array([100.    ,  91.6875,  83.75  ,  76.1875,  69.    ,  62.1875,\n",
       "         55.75  ,  49.6875,  44.    ,  38.6875,  33.75  ,  29.1875,\n",
       "         25.    ,  21.1875,  17.75  ,  14.6875,  12.    ,   9.6875,\n",
       "          7.75  ,   6.1875,   5.    ,   4.1875,   3.75  ,   3.6875,\n",
       "          4.    ,   4.6875,   5.75  ,   7.1875,   9.    ,  11.1875,\n",
       "         13.75  ,  16.6875,  20.    ,  23.6875,  27.75  ,  32.1875,\n",
       "         37.    ,  42.1875,  47.75  ,  53.6875]))"
      ]
     },
     "execution_count": 5,
     "metadata": {},
     "output_type": "execute_result"
    }
   ],
   "source": [
    "\n",
    "xs = np.arange(-5,5,0.25)\n",
    "ys = f(xs)\n",
    "xs,ys\n",
    "\n"
   ]
  },
  {
   "cell_type": "code",
   "execution_count": 6,
   "metadata": {},
   "outputs": [
    {
     "data": {
      "text/plain": [
       "[<matplotlib.lines.Line2D at 0x1f04d62ca30>]"
      ]
     },
     "execution_count": 6,
     "metadata": {},
     "output_type": "execute_result"
    },
    {
     "data": {
      "image/png": "[encoded data removed]",
      "text/plain": [
       "<Figure size 640x480 with 1 Axes>"
      ]
     },
     "metadata": {},
     "output_type": "display_data"
    }
   ],
   "source": [
    "plt.plot(xs,ys)"
   ]
  },
  {
   "cell_type": "code",
   "execution_count": 7,
   "metadata": {},
   "outputs": [
    {
     "data": {
      "text/plain": [
       "14.00300000000243"
      ]
     },
     "execution_count": 7,
     "metadata": {},
     "output_type": "execute_result"
    }
   ],
   "source": [
    "h = 0.001 #run\n",
    "x = 3.0\n",
    "y = x+h\n",
    "(f(y)-f(x))/h # rise/run"
   ]
  },
  {
   "cell_type": "code",
   "execution_count": 8,
   "metadata": {},
   "outputs": [
    {
     "data": {
      "text/plain": [
       "-21.996999999998934"
      ]
     },
     "execution_count": 8,
     "metadata": {},
     "output_type": "execute_result"
    }
   ],
   "source": [
    "h = 0.001 #run\n",
    "x = -3.0\n",
    "y = x+h\n",
    "(f(y)-f(x))/h # rise/run"
   ]
  },
  {
   "cell_type": "code",
   "execution_count": 9,
   "metadata": {},
   "outputs": [
    {
     "name": "stdout",
     "output_type": "stream",
     "text": [
      "4.0\n"
     ]
    },
    {
     "data": {
      "text/plain": [
       "(4.0, 3.999699999999999, -3.000000000010772)"
      ]
     },
     "execution_count": 9,
     "metadata": {},
     "output_type": "execute_result"
    }
   ],
   "source": [
    "a =2.0\n",
    "b = -3.0\n",
    "c = 10.0\n",
    "d = a*b + c\n",
    "print(d)\n",
    "# derivate of d w.r.t. a,b,c\n",
    "\n",
    "h = 0.0001\n",
    "d1 =a*b + c\n",
    "a+=h\n",
    "d2 = a*b+c\n",
    "# slope = (d2-d1)/h\n",
    "d1,d2,(d2-d1)/h\n"
   ]
  },
  {
   "cell_type": "code",
   "execution_count": 10,
   "metadata": {},
   "outputs": [
    {
     "data": {
      "text/plain": [
       "(4.0, 4.0002, 2.0000000000042206)"
      ]
     },
     "execution_count": 10,
     "metadata": {},
     "output_type": "execute_result"
    }
   ],
   "source": [
    "a =2.0\n",
    "b = -3.0\n",
    "c = 10.0\n",
    "d = a*b + c\n",
    "h = 0.0001\n",
    "d1 =a*b + c\n",
    "b+=h\n",
    "d2 = a*b+c\n",
    "# slope = (d2-d1)/h\n",
    "d1,d2,(d2-d1)/h"
   ]
  },
  {
   "cell_type": "code",
   "execution_count": 11,
   "metadata": {},
   "outputs": [
    {
     "data": {
      "text/plain": [
       "(4.0, 4.0001, 0.9999999999976694)"
      ]
     },
     "execution_count": 11,
     "metadata": {},
     "output_type": "execute_result"
    }
   ],
   "source": [
    "a =2.0\n",
    "b = -3.0\n",
    "c = 10.0\n",
    "d = a*b + c\n",
    "h = 0.0001\n",
    "d1 =a*b + c\n",
    "c+=h\n",
    "d2 = a*b+c\n",
    "# slope = (d2-d1)/h\n",
    "d1,d2,(d2-d1)/h"
   ]
  },
  {
   "attachments": {},
   "cell_type": "markdown",
   "metadata": {},
   "source": [
    "# Intro to  Neural Networks starts "
   ]
  },
  {
   "cell_type": "code",
   "execution_count": 12,
   "metadata": {},
   "outputs": [
    {
     "data": {
      "text/plain": [
       "(Value(data=-1.0), Value(data=-6.0), Value(data=4.0))"
      ]
     },
     "execution_count": 12,
     "metadata": {},
     "output_type": "execute_result"
    }
   ],
   "source": [
    "class Value:\n",
    "    def __init__(self,data):\n",
    "        self.data = data\n",
    "    def __repr__(self):\n",
    "        return f\"Value(data={self.data})\"\n",
    "    def __add__(self,other):\n",
    "        out = Value(self.data+other.data)\n",
    "        return out\n",
    "    def __mul__(self,other):\n",
    "        out = Value(self.data*other.data)\n",
    "        return out\n",
    "a = Value(2.0)\n",
    "b = Value(-3.0)\n",
    "c = Value(10.0)\n",
    "a+b,a*b,a*b+c"
   ]
  },
  {
   "attachments": {},
   "cell_type": "markdown",
   "metadata": {},
   "source": [
    "We want to know what values produce other values so we add children tuple to our Class"
   ]
  },
  {
   "cell_type": "code",
   "execution_count": 13,
   "metadata": {},
   "outputs": [],
   "source": [
    "class Value:\n",
    "    def __init__(self,data,_children=(),_op='',label=''):\n",
    "        self.data = data\n",
    "        self.grad = 0.0 # means no effect, ie at initialisation every value does not effect the output\n",
    "        self._prev = set(_children)\n",
    "        self._op = _op\n",
    "        self.label = label\n",
    "    def __repr__(self):\n",
    "        return f\"Value(data={self.data})\"\n",
    "    def __add__(self,other):\n",
    "        out = Value(self.data+other.data,(self,other),'+')\n",
    "        return out\n",
    "    def __mul__(self,other):\n",
    "        out = Value(self.data*other.data,(self,other),'*')\n",
    "        return out\n",
    "a = Value(2.0,label='a')\n",
    "b = Value(-3.0,label='b')\n",
    "c = Value(10.0,label='c')\n",
    "e = a*b;e.label='e'\n",
    "d= e+c;d.label='d'\n",
    "f = Value(-2.0,label='f')\n",
    "L = d*f;L.label='L'\n"
   ]
  },
  {
   "attachments": {},
   "cell_type": "markdown",
   "metadata": {},
   "source": [
    "To Visualise this we create some code"
   ]
  },
  {
   "cell_type": "code",
   "execution_count": 14,
   "metadata": {},
   "outputs": [],
   "source": [
    "from graphviz import Digraph\n",
    "def trace(root):\n",
    "    # builds a set of all nodes and edges in a graph\n",
    "    nodes,edges = set(),set()\n",
    "    def build(v):\n",
    "        if v not in nodes:\n",
    "            nodes.add(v)\n",
    "            for child in v._prev:\n",
    "                edges.add((child,v))\n",
    "                build(child)\n",
    "    build(root)\n",
    "    return nodes,edges\n",
    "\n",
    "def draw_dot(root):\n",
    "    dot = Digraph(format='svg',graph_attr={'rankdir':'LR'}) # LR = Left to right\n",
    "    nodes,edges = trace(root)\n",
    "    \n",
    "    for n in nodes: \n",
    "        uid = str(id(n))\n",
    "        # for any value in the graph, create a rectangular ('record') node for it\n",
    "        dot.node(name=uid,label=\"{%s | data %.4f | grad %.4f}\" % (n.label,n.data,n.grad),shape='record')\n",
    "        if n._op:\n",
    "            #if this value is the result of some operation, create an op node for it\n",
    "            dot.node(name=uid+n._op,label=n._op)\n",
    "            # and connect this node to it\n",
    "            dot.edge(uid+n._op,uid)\n",
    "    for n1,n2 in edges:\n",
    "        # connect n1 to the op node of n2\n",
    "        dot.edge(str(id(n1)),str(id(n2))+n2._op)\n",
    "    return dot\n"
   ]
  },
  {
   "attachments": {},
   "cell_type": "markdown",
   "metadata": {},
   "source": [
    "Make sure to install graphviz on system as well as on python"
   ]
  },
  {
   "cell_type": "code",
   "execution_count": 15,
   "metadata": {},
   "outputs": [
    {
     "data": {
      "image/svg+xml": "<?xml version=\"1.0\" encoding=\"UTF-8\" standalone=\"no\"?>\n<!DOCTYPE svg PUBLIC \"-//W3C//DTD SVG 1.1//EN\"\n \"http://www.w3.org/Graphics/SVG/1.1/DTD/svg11.dtd\">\n<!-- Generated by graphviz version 7.1.0 (20230121.1956)\n -->\n<!-- Pages: 1 -->\n<svg width=\"1157pt\" height=\"128pt\"\n viewBox=\"0.00 0.00 1157.00 128.00\" xmlns=\"http://www.w3.org/2000/svg\" xmlns:xlink=\"http://www.w3.org/1999/xlink\">\n<g id=\"graph0\" class=\"graph\" transform=\"scale(1 1) rotate(0) translate(4 124)\">\n<polygon fill=\"white\" stroke=\"none\" points=\"-4,4 -4,-124 1153,-124 1153,4 -4,4\"/>\n<!-- 2131637803520 -->\n<g id=\"node1\" class=\"node\">\n<title>2131637803520</title>\n<polygon fill=\"none\" stroke=\"black\" points=\"640,-27.5 640,-63.5 828,-63.5 828,-27.5 640,-27.5\"/>\n<text text-anchor=\"middle\" x=\"652\" y=\"-41.8\" font-family=\"Times New Roman,serif\" font-size=\"14.00\">d</text>\n<polyline fill=\"none\" stroke=\"black\" points=\"664,-27.5 664,-63.5\"/>\n<text text-anchor=\"middle\" x=\"704.5\" y=\"-41.8\" font-family=\"Times New Roman,serif\" font-size=\"14.00\">data 4.0000</text>\n<polyline fill=\"none\" stroke=\"black\" points=\"745,-27.5 745,-63.5\"/>\n<text text-anchor=\"middle\" x=\"786.5\" y=\"-41.8\" font-family=\"Times New Roman,serif\" font-size=\"14.00\">grad 0.0000</text>\n</g>\n<!-- 2131637803328* -->\n<g id=\"node8\" class=\"node\">\n<title>2131637803328*</title>\n<ellipse fill=\"none\" stroke=\"black\" cx=\"892\" cy=\"-72.5\" rx=\"27\" ry=\"18\"/>\n<text text-anchor=\"middle\" x=\"892\" y=\"-68.8\" font-family=\"Times New Roman,serif\" font-size=\"14.00\">*</text>\n</g>\n<!-- 2131637803520&#45;&gt;2131637803328* -->\n<g id=\"edge9\" class=\"edge\">\n<title>2131637803520&#45;&gt;2131637803328*</title>\n<path fill=\"none\" stroke=\"black\" d=\"M828,-61.6C837.2,-63.19 846.12,-64.73 854.21,-66.13\"/>\n<polygon fill=\"black\" stroke=\"black\" points=\"853.46,-69.55 863.91,-67.81 854.65,-62.66 853.46,-69.55\"/>\n</g>\n<!-- 2131637803520+ -->\n<g id=\"node2\" class=\"node\">\n<title>2131637803520+</title>\n<ellipse fill=\"none\" stroke=\"black\" cx=\"576\" cy=\"-45.5\" rx=\"27\" ry=\"18\"/>\n<text text-anchor=\"middle\" x=\"576\" y=\"-41.8\" font-family=\"Times New Roman,serif\" font-size=\"14.00\">+</text>\n</g>\n<!-- 2131637803520+&#45;&gt;2131637803520 -->\n<g id=\"edge1\" class=\"edge\">\n<title>2131637803520+&#45;&gt;2131637803520</title>\n<path fill=\"none\" stroke=\"black\" d=\"M603.46,-45.5C610.94,-45.5 619.56,-45.5 628.73,-45.5\"/>\n<polygon fill=\"black\" stroke=\"black\" points=\"628.64,-49 638.64,-45.5 628.64,-42 628.64,-49\"/>\n</g>\n<!-- 2131602099312 -->\n<g id=\"node3\" class=\"node\">\n<title>2131602099312</title>\n<polygon fill=\"none\" stroke=\"black\" points=\"320,-55.5 320,-91.5 512,-91.5 512,-55.5 320,-55.5\"/>\n<text text-anchor=\"middle\" x=\"331.5\" y=\"-69.8\" font-family=\"Times New Roman,serif\" font-size=\"14.00\">e</text>\n<polyline fill=\"none\" stroke=\"black\" points=\"343,-55.5 343,-91.5\"/>\n<text text-anchor=\"middle\" x=\"386\" y=\"-69.8\" font-family=\"Times New Roman,serif\" font-size=\"14.00\">data &#45;6.0000</text>\n<polyline fill=\"none\" stroke=\"black\" points=\"429,-55.5 429,-91.5\"/>\n<text text-anchor=\"middle\" x=\"470.5\" y=\"-69.8\" font-family=\"Times New Roman,serif\" font-size=\"14.00\">grad 0.0000</text>\n</g>\n<!-- 2131602099312&#45;&gt;2131637803520+ -->\n<g id=\"edge7\" class=\"edge\">\n<title>2131602099312&#45;&gt;2131637803520+</title>\n<path fill=\"none\" stroke=\"black\" d=\"M511.65,-56.73C521.01,-55.07 530.06,-53.46 538.26,-52.01\"/>\n<polygon fill=\"black\" stroke=\"black\" points=\"538.86,-55.46 548.1,-50.27 537.64,-48.57 538.86,-55.46\"/>\n</g>\n<!-- 2131602099312* -->\n<g id=\"node4\" class=\"node\">\n<title>2131602099312*</title>\n<ellipse fill=\"none\" stroke=\"black\" cx=\"256\" cy=\"-73.5\" rx=\"27\" ry=\"18\"/>\n<text text-anchor=\"middle\" x=\"256\" y=\"-69.8\" font-family=\"Times New Roman,serif\" font-size=\"14.00\">*</text>\n</g>\n<!-- 2131602099312*&#45;&gt;2131602099312 -->\n<g id=\"edge2\" class=\"edge\">\n<title>2131602099312*&#45;&gt;2131602099312</title>\n<path fill=\"none\" stroke=\"black\" d=\"M283.45,-73.5C290.94,-73.5 299.59,-73.5 308.8,-73.5\"/>\n<polygon fill=\"black\" stroke=\"black\" points=\"308.76,-77 318.76,-73.5 308.76,-70 308.76,-77\"/>\n</g>\n<!-- 2131637804192 -->\n<g id=\"node5\" class=\"node\">\n<title>2131637804192</title>\n<polygon fill=\"none\" stroke=\"black\" points=\"0,-83.5 0,-119.5 193,-119.5 193,-83.5 0,-83.5\"/>\n<text text-anchor=\"middle\" x=\"12\" y=\"-97.8\" font-family=\"Times New Roman,serif\" font-size=\"14.00\">b</text>\n<polyline fill=\"none\" stroke=\"black\" points=\"24,-83.5 24,-119.5\"/>\n<text text-anchor=\"middle\" x=\"67\" y=\"-97.8\" font-family=\"Times New Roman,serif\" font-size=\"14.00\">data &#45;3.0000</text>\n<polyline fill=\"none\" stroke=\"black\" points=\"110,-83.5 110,-119.5\"/>\n<text text-anchor=\"middle\" x=\"151.5\" y=\"-97.8\" font-family=\"Times New Roman,serif\" font-size=\"14.00\">grad 0.0000</text>\n</g>\n<!-- 2131637804192&#45;&gt;2131602099312* -->\n<g id=\"edge4\" class=\"edge\">\n<title>2131637804192&#45;&gt;2131602099312*</title>\n<path fill=\"none\" stroke=\"black\" d=\"M192.75,-84.57C201.7,-82.98 210.35,-81.44 218.21,-80.04\"/>\n<polygon fill=\"black\" stroke=\"black\" points=\"218.75,-83.5 227.99,-78.3 217.53,-76.61 218.75,-83.5\"/>\n</g>\n<!-- 2131637331616 -->\n<g id=\"node6\" class=\"node\">\n<title>2131637331616</title>\n<polygon fill=\"none\" stroke=\"black\" points=\"639,-82.5 639,-118.5 829,-118.5 829,-82.5 639,-82.5\"/>\n<text text-anchor=\"middle\" x=\"649.5\" y=\"-96.8\" font-family=\"Times New Roman,serif\" font-size=\"14.00\">f</text>\n<polyline fill=\"none\" stroke=\"black\" points=\"660,-82.5 660,-118.5\"/>\n<text text-anchor=\"middle\" x=\"703\" y=\"-96.8\" font-family=\"Times New Roman,serif\" font-size=\"14.00\">data &#45;2.0000</text>\n<polyline fill=\"none\" stroke=\"black\" points=\"746,-82.5 746,-118.5\"/>\n<text text-anchor=\"middle\" x=\"787.5\" y=\"-96.8\" font-family=\"Times New Roman,serif\" font-size=\"14.00\">grad 0.0000</text>\n</g>\n<!-- 2131637331616&#45;&gt;2131637803328* -->\n<g id=\"edge8\" class=\"edge\">\n<title>2131637331616&#45;&gt;2131637803328*</title>\n<path fill=\"none\" stroke=\"black\" d=\"M828.9,-83.65C837.81,-82.05 846.43,-80.5 854.28,-79.09\"/>\n<polygon fill=\"black\" stroke=\"black\" points=\"854.8,-82.55 864.02,-77.34 853.56,-75.66 854.8,-82.55\"/>\n</g>\n<!-- 2131637803328 -->\n<g id=\"node7\" class=\"node\">\n<title>2131637803328</title>\n<polygon fill=\"none\" stroke=\"black\" points=\"955,-54.5 955,-90.5 1149,-90.5 1149,-54.5 955,-54.5\"/>\n<text text-anchor=\"middle\" x=\"967.5\" y=\"-68.8\" font-family=\"Times New Roman,serif\" font-size=\"14.00\">L</text>\n<polyline fill=\"none\" stroke=\"black\" points=\"980,-54.5 980,-90.5\"/>\n<text text-anchor=\"middle\" x=\"1023\" y=\"-68.8\" font-family=\"Times New Roman,serif\" font-size=\"14.00\">data &#45;8.0000</text>\n<polyline fill=\"none\" stroke=\"black\" points=\"1066,-54.5 1066,-90.5\"/>\n<text text-anchor=\"middle\" x=\"1107.5\" y=\"-68.8\" font-family=\"Times New Roman,serif\" font-size=\"14.00\">grad 0.0000</text>\n</g>\n<!-- 2131637803328*&#45;&gt;2131637803328 -->\n<g id=\"edge3\" class=\"edge\">\n<title>2131637803328*&#45;&gt;2131637803328</title>\n<path fill=\"none\" stroke=\"black\" d=\"M919.45,-72.5C926.67,-72.5 934.97,-72.5 943.82,-72.5\"/>\n<polygon fill=\"black\" stroke=\"black\" points=\"943.75,-76 953.75,-72.5 943.75,-69 943.75,-76\"/>\n</g>\n<!-- 2131637801312 -->\n<g id=\"node9\" class=\"node\">\n<title>2131637801312</title>\n<polygon fill=\"none\" stroke=\"black\" points=\"3,-28.5 3,-64.5 190,-64.5 190,-28.5 3,-28.5\"/>\n<text text-anchor=\"middle\" x=\"14.5\" y=\"-42.8\" font-family=\"Times New Roman,serif\" font-size=\"14.00\">a</text>\n<polyline fill=\"none\" stroke=\"black\" points=\"26,-28.5 26,-64.5\"/>\n<text text-anchor=\"middle\" x=\"66.5\" y=\"-42.8\" font-family=\"Times New Roman,serif\" font-size=\"14.00\">data 2.0000</text>\n<polyline fill=\"none\" stroke=\"black\" points=\"107,-28.5 107,-64.5\"/>\n<text text-anchor=\"middle\" x=\"148.5\" y=\"-42.8\" font-family=\"Times New Roman,serif\" font-size=\"14.00\">grad 0.0000</text>\n</g>\n<!-- 2131637801312&#45;&gt;2131602099312* -->\n<g id=\"edge5\" class=\"edge\">\n<title>2131637801312&#45;&gt;2131602099312*</title>\n<path fill=\"none\" stroke=\"black\" d=\"M189.57,-62.28C199.66,-64.01 209.45,-65.69 218.25,-67.2\"/>\n<polygon fill=\"black\" stroke=\"black\" points=\"217.63,-70.65 228.08,-68.89 218.82,-63.75 217.63,-70.65\"/>\n</g>\n<!-- 2130941243344 -->\n<g id=\"node10\" class=\"node\">\n<title>2130941243344</title>\n<polygon fill=\"none\" stroke=\"black\" points=\"319,-0.5 319,-36.5 513,-36.5 513,-0.5 319,-0.5\"/>\n<text text-anchor=\"middle\" x=\"330.5\" y=\"-14.8\" font-family=\"Times New Roman,serif\" font-size=\"14.00\">c</text>\n<polyline fill=\"none\" stroke=\"black\" points=\"342,-0.5 342,-36.5\"/>\n<text text-anchor=\"middle\" x=\"386\" y=\"-14.8\" font-family=\"Times New Roman,serif\" font-size=\"14.00\">data 10.0000</text>\n<polyline fill=\"none\" stroke=\"black\" points=\"430,-0.5 430,-36.5\"/>\n<text text-anchor=\"middle\" x=\"471.5\" y=\"-14.8\" font-family=\"Times New Roman,serif\" font-size=\"14.00\">grad 0.0000</text>\n</g>\n<!-- 2130941243344&#45;&gt;2131637803520+ -->\n<g id=\"edge6\" class=\"edge\">\n<title>2130941243344&#45;&gt;2131637803520+</title>\n<path fill=\"none\" stroke=\"black\" d=\"M512.55,-34.83C521.53,-36.36 530.21,-37.85 538.1,-39.19\"/>\n<polygon fill=\"black\" stroke=\"black\" points=\"537.46,-42.63 547.9,-40.87 538.64,-35.73 537.46,-42.63\"/>\n</g>\n</g>\n</svg>\n",
      "text/plain": [
       "<graphviz.graphs.Digraph at 0x1f04f84e5e0>"
      ]
     },
     "execution_count": 15,
     "metadata": {},
     "output_type": "execute_result"
    }
   ],
   "source": [
    "draw_dot(L)"
   ]
  },
  {
   "attachments": {},
   "cell_type": "markdown",
   "metadata": {},
   "source": [
    "This is visualising the forward pass.\n",
    "Now we would like to create a backpropogation, and calculate gradients of d,f,c,e w.r.t L \n",
    "essentially meaning the impact these have on L.\n",
    "For this we create a new variable in our class Value called grad."
   ]
  },
  {
   "cell_type": "code",
   "execution_count": 16,
   "metadata": {},
   "outputs": [
    {
     "name": "stdout",
     "output_type": "stream",
     "text": [
      "0.0\n"
     ]
    }
   ],
   "source": [
    "def lol():\n",
    "    h = 0.0001\n",
    "    a = Value(2.0,label='a')\n",
    "    b = Value(-3.0,label='b')\n",
    "    c = Value(10.0,label='c')\n",
    "    e = a*b;e.label='e'\n",
    "    d= e+c;d.label='d'\n",
    "    f = Value(-2.0,label='f')\n",
    "    L = d*f;L.label='L'\n",
    "    L1 = L.data\n",
    "    \n",
    "    a = Value(2.0 ,label='a')\n",
    "    b = Value(-3.0,label='b')\n",
    "    c = Value(10.0,label='c')\n",
    "    e = a*b;e.label='e'\n",
    "    d= e+c;d.label='d'\n",
    "    f = Value(-2.0,label='f')\n",
    "    L = d*f;L.label='L'\n",
    "    L2 = L.data\n",
    "    print((L2-L1)/h)\n",
    "lol()"
   ]
  },
  {
   "cell_type": "code",
   "execution_count": 17,
   "metadata": {},
   "outputs": [
    {
     "data": {
      "image/svg+xml": "<?xml version=\"1.0\" encoding=\"UTF-8\" standalone=\"no\"?>\n<!DOCTYPE svg PUBLIC \"-//W3C//DTD SVG 1.1//EN\"\n \"http://www.w3.org/Graphics/SVG/1.1/DTD/svg11.dtd\">\n<!-- Generated by graphviz version 7.1.0 (20230121.1956)\n -->\n<!-- Pages: 1 -->\n<svg width=\"1157pt\" height=\"128pt\"\n viewBox=\"0.00 0.00 1157.00 128.00\" xmlns=\"http://www.w3.org/2000/svg\" xmlns:xlink=\"http://www.w3.org/1999/xlink\">\n<g id=\"graph0\" class=\"graph\" transform=\"scale(1 1) rotate(0) translate(4 124)\">\n<polygon fill=\"white\" stroke=\"none\" points=\"-4,4 -4,-124 1153,-124 1153,4 -4,4\"/>\n<!-- 2131637803520 -->\n<g id=\"node1\" class=\"node\">\n<title>2131637803520</title>\n<polygon fill=\"none\" stroke=\"black\" points=\"640,-27.5 640,-63.5 828,-63.5 828,-27.5 640,-27.5\"/>\n<text text-anchor=\"middle\" x=\"652\" y=\"-41.8\" font-family=\"Times New Roman,serif\" font-size=\"14.00\">d</text>\n<polyline fill=\"none\" stroke=\"black\" points=\"664,-27.5 664,-63.5\"/>\n<text text-anchor=\"middle\" x=\"704.5\" y=\"-41.8\" font-family=\"Times New Roman,serif\" font-size=\"14.00\">data 4.0000</text>\n<polyline fill=\"none\" stroke=\"black\" points=\"745,-27.5 745,-63.5\"/>\n<text text-anchor=\"middle\" x=\"786.5\" y=\"-41.8\" font-family=\"Times New Roman,serif\" font-size=\"14.00\">grad 0.0000</text>\n</g>\n<!-- 2131637803328* -->\n<g id=\"node8\" class=\"node\">\n<title>2131637803328*</title>\n<ellipse fill=\"none\" stroke=\"black\" cx=\"892\" cy=\"-72.5\" rx=\"27\" ry=\"18\"/>\n<text text-anchor=\"middle\" x=\"892\" y=\"-68.8\" font-family=\"Times New Roman,serif\" font-size=\"14.00\">*</text>\n</g>\n<!-- 2131637803520&#45;&gt;2131637803328* -->\n<g id=\"edge9\" class=\"edge\">\n<title>2131637803520&#45;&gt;2131637803328*</title>\n<path fill=\"none\" stroke=\"black\" d=\"M828,-61.6C837.2,-63.19 846.12,-64.73 854.21,-66.13\"/>\n<polygon fill=\"black\" stroke=\"black\" points=\"853.46,-69.55 863.91,-67.81 854.65,-62.66 853.46,-69.55\"/>\n</g>\n<!-- 2131637803520+ -->\n<g id=\"node2\" class=\"node\">\n<title>2131637803520+</title>\n<ellipse fill=\"none\" stroke=\"black\" cx=\"576\" cy=\"-45.5\" rx=\"27\" ry=\"18\"/>\n<text text-anchor=\"middle\" x=\"576\" y=\"-41.8\" font-family=\"Times New Roman,serif\" font-size=\"14.00\">+</text>\n</g>\n<!-- 2131637803520+&#45;&gt;2131637803520 -->\n<g id=\"edge1\" class=\"edge\">\n<title>2131637803520+&#45;&gt;2131637803520</title>\n<path fill=\"none\" stroke=\"black\" d=\"M603.46,-45.5C610.94,-45.5 619.56,-45.5 628.73,-45.5\"/>\n<polygon fill=\"black\" stroke=\"black\" points=\"628.64,-49 638.64,-45.5 628.64,-42 628.64,-49\"/>\n</g>\n<!-- 2131602099312 -->\n<g id=\"node3\" class=\"node\">\n<title>2131602099312</title>\n<polygon fill=\"none\" stroke=\"black\" points=\"320,-55.5 320,-91.5 512,-91.5 512,-55.5 320,-55.5\"/>\n<text text-anchor=\"middle\" x=\"331.5\" y=\"-69.8\" font-family=\"Times New Roman,serif\" font-size=\"14.00\">e</text>\n<polyline fill=\"none\" stroke=\"black\" points=\"343,-55.5 343,-91.5\"/>\n<text text-anchor=\"middle\" x=\"386\" y=\"-69.8\" font-family=\"Times New Roman,serif\" font-size=\"14.00\">data &#45;6.0000</text>\n<polyline fill=\"none\" stroke=\"black\" points=\"429,-55.5 429,-91.5\"/>\n<text text-anchor=\"middle\" x=\"470.5\" y=\"-69.8\" font-family=\"Times New Roman,serif\" font-size=\"14.00\">grad 0.0000</text>\n</g>\n<!-- 2131602099312&#45;&gt;2131637803520+ -->\n<g id=\"edge7\" class=\"edge\">\n<title>2131602099312&#45;&gt;2131637803520+</title>\n<path fill=\"none\" stroke=\"black\" d=\"M511.65,-56.73C521.01,-55.07 530.06,-53.46 538.26,-52.01\"/>\n<polygon fill=\"black\" stroke=\"black\" points=\"538.86,-55.46 548.1,-50.27 537.64,-48.57 538.86,-55.46\"/>\n</g>\n<!-- 2131602099312* -->\n<g id=\"node4\" class=\"node\">\n<title>2131602099312*</title>\n<ellipse fill=\"none\" stroke=\"black\" cx=\"256\" cy=\"-73.5\" rx=\"27\" ry=\"18\"/>\n<text text-anchor=\"middle\" x=\"256\" y=\"-69.8\" font-family=\"Times New Roman,serif\" font-size=\"14.00\">*</text>\n</g>\n<!-- 2131602099312*&#45;&gt;2131602099312 -->\n<g id=\"edge2\" class=\"edge\">\n<title>2131602099312*&#45;&gt;2131602099312</title>\n<path fill=\"none\" stroke=\"black\" d=\"M283.45,-73.5C290.94,-73.5 299.59,-73.5 308.8,-73.5\"/>\n<polygon fill=\"black\" stroke=\"black\" points=\"308.76,-77 318.76,-73.5 308.76,-70 308.76,-77\"/>\n</g>\n<!-- 2131637804192 -->\n<g id=\"node5\" class=\"node\">\n<title>2131637804192</title>\n<polygon fill=\"none\" stroke=\"black\" points=\"0,-83.5 0,-119.5 193,-119.5 193,-83.5 0,-83.5\"/>\n<text text-anchor=\"middle\" x=\"12\" y=\"-97.8\" font-family=\"Times New Roman,serif\" font-size=\"14.00\">b</text>\n<polyline fill=\"none\" stroke=\"black\" points=\"24,-83.5 24,-119.5\"/>\n<text text-anchor=\"middle\" x=\"67\" y=\"-97.8\" font-family=\"Times New Roman,serif\" font-size=\"14.00\">data &#45;3.0000</text>\n<polyline fill=\"none\" stroke=\"black\" points=\"110,-83.5 110,-119.5\"/>\n<text text-anchor=\"middle\" x=\"151.5\" y=\"-97.8\" font-family=\"Times New Roman,serif\" font-size=\"14.00\">grad 0.0000</text>\n</g>\n<!-- 2131637804192&#45;&gt;2131602099312* -->\n<g id=\"edge4\" class=\"edge\">\n<title>2131637804192&#45;&gt;2131602099312*</title>\n<path fill=\"none\" stroke=\"black\" d=\"M192.75,-84.57C201.7,-82.98 210.35,-81.44 218.21,-80.04\"/>\n<polygon fill=\"black\" stroke=\"black\" points=\"218.75,-83.5 227.99,-78.3 217.53,-76.61 218.75,-83.5\"/>\n</g>\n<!-- 2131637331616 -->\n<g id=\"node6\" class=\"node\">\n<title>2131637331616</title>\n<polygon fill=\"none\" stroke=\"black\" points=\"639,-82.5 639,-118.5 829,-118.5 829,-82.5 639,-82.5\"/>\n<text text-anchor=\"middle\" x=\"649.5\" y=\"-96.8\" font-family=\"Times New Roman,serif\" font-size=\"14.00\">f</text>\n<polyline fill=\"none\" stroke=\"black\" points=\"660,-82.5 660,-118.5\"/>\n<text text-anchor=\"middle\" x=\"703\" y=\"-96.8\" font-family=\"Times New Roman,serif\" font-size=\"14.00\">data &#45;2.0000</text>\n<polyline fill=\"none\" stroke=\"black\" points=\"746,-82.5 746,-118.5\"/>\n<text text-anchor=\"middle\" x=\"787.5\" y=\"-96.8\" font-family=\"Times New Roman,serif\" font-size=\"14.00\">grad 0.0000</text>\n</g>\n<!-- 2131637331616&#45;&gt;2131637803328* -->\n<g id=\"edge8\" class=\"edge\">\n<title>2131637331616&#45;&gt;2131637803328*</title>\n<path fill=\"none\" stroke=\"black\" d=\"M828.9,-83.65C837.81,-82.05 846.43,-80.5 854.28,-79.09\"/>\n<polygon fill=\"black\" stroke=\"black\" points=\"854.8,-82.55 864.02,-77.34 853.56,-75.66 854.8,-82.55\"/>\n</g>\n<!-- 2131637803328 -->\n<g id=\"node7\" class=\"node\">\n<title>2131637803328</title>\n<polygon fill=\"none\" stroke=\"black\" points=\"955,-54.5 955,-90.5 1149,-90.5 1149,-54.5 955,-54.5\"/>\n<text text-anchor=\"middle\" x=\"967.5\" y=\"-68.8\" font-family=\"Times New Roman,serif\" font-size=\"14.00\">L</text>\n<polyline fill=\"none\" stroke=\"black\" points=\"980,-54.5 980,-90.5\"/>\n<text text-anchor=\"middle\" x=\"1023\" y=\"-68.8\" font-family=\"Times New Roman,serif\" font-size=\"14.00\">data &#45;8.0000</text>\n<polyline fill=\"none\" stroke=\"black\" points=\"1066,-54.5 1066,-90.5\"/>\n<text text-anchor=\"middle\" x=\"1107.5\" y=\"-68.8\" font-family=\"Times New Roman,serif\" font-size=\"14.00\">grad 1.0000</text>\n</g>\n<!-- 2131637803328*&#45;&gt;2131637803328 -->\n<g id=\"edge3\" class=\"edge\">\n<title>2131637803328*&#45;&gt;2131637803328</title>\n<path fill=\"none\" stroke=\"black\" d=\"M919.45,-72.5C926.67,-72.5 934.97,-72.5 943.82,-72.5\"/>\n<polygon fill=\"black\" stroke=\"black\" points=\"943.75,-76 953.75,-72.5 943.75,-69 943.75,-76\"/>\n</g>\n<!-- 2131637801312 -->\n<g id=\"node9\" class=\"node\">\n<title>2131637801312</title>\n<polygon fill=\"none\" stroke=\"black\" points=\"3,-28.5 3,-64.5 190,-64.5 190,-28.5 3,-28.5\"/>\n<text text-anchor=\"middle\" x=\"14.5\" y=\"-42.8\" font-family=\"Times New Roman,serif\" font-size=\"14.00\">a</text>\n<polyline fill=\"none\" stroke=\"black\" points=\"26,-28.5 26,-64.5\"/>\n<text text-anchor=\"middle\" x=\"66.5\" y=\"-42.8\" font-family=\"Times New Roman,serif\" font-size=\"14.00\">data 2.0000</text>\n<polyline fill=\"none\" stroke=\"black\" points=\"107,-28.5 107,-64.5\"/>\n<text text-anchor=\"middle\" x=\"148.5\" y=\"-42.8\" font-family=\"Times New Roman,serif\" font-size=\"14.00\">grad 0.0000</text>\n</g>\n<!-- 2131637801312&#45;&gt;2131602099312* -->\n<g id=\"edge5\" class=\"edge\">\n<title>2131637801312&#45;&gt;2131602099312*</title>\n<path fill=\"none\" stroke=\"black\" d=\"M189.57,-62.28C199.66,-64.01 209.45,-65.69 218.25,-67.2\"/>\n<polygon fill=\"black\" stroke=\"black\" points=\"217.63,-70.65 228.08,-68.89 218.82,-63.75 217.63,-70.65\"/>\n</g>\n<!-- 2130941243344 -->\n<g id=\"node10\" class=\"node\">\n<title>2130941243344</title>\n<polygon fill=\"none\" stroke=\"black\" points=\"319,-0.5 319,-36.5 513,-36.5 513,-0.5 319,-0.5\"/>\n<text text-anchor=\"middle\" x=\"330.5\" y=\"-14.8\" font-family=\"Times New Roman,serif\" font-size=\"14.00\">c</text>\n<polyline fill=\"none\" stroke=\"black\" points=\"342,-0.5 342,-36.5\"/>\n<text text-anchor=\"middle\" x=\"386\" y=\"-14.8\" font-family=\"Times New Roman,serif\" font-size=\"14.00\">data 10.0000</text>\n<polyline fill=\"none\" stroke=\"black\" points=\"430,-0.5 430,-36.5\"/>\n<text text-anchor=\"middle\" x=\"471.5\" y=\"-14.8\" font-family=\"Times New Roman,serif\" font-size=\"14.00\">grad 0.0000</text>\n</g>\n<!-- 2130941243344&#45;&gt;2131637803520+ -->\n<g id=\"edge6\" class=\"edge\">\n<title>2130941243344&#45;&gt;2131637803520+</title>\n<path fill=\"none\" stroke=\"black\" d=\"M512.55,-34.83C521.53,-36.36 530.21,-37.85 538.1,-39.19\"/>\n<polygon fill=\"black\" stroke=\"black\" points=\"537.46,-42.63 547.9,-40.87 538.64,-35.73 537.46,-42.63\"/>\n</g>\n</g>\n</svg>\n",
      "text/plain": [
       "<graphviz.graphs.Digraph at 0x1f026005bb0>"
      ]
     },
     "execution_count": 17,
     "metadata": {},
     "output_type": "execute_result"
    }
   ],
   "source": [
    "L.grad=1 # using lol function manually\n",
    "draw_dot(L)"
   ]
  },
  {
   "attachments": {},
   "cell_type": "markdown",
   "metadata": {},
   "source": [
    "L = d*f\n",
    "dL/dd = f"
   ]
  },
  {
   "cell_type": "code",
   "execution_count": 18,
   "metadata": {},
   "outputs": [
    {
     "data": {
      "image/svg+xml": "<?xml version=\"1.0\" encoding=\"UTF-8\" standalone=\"no\"?>\n<!DOCTYPE svg PUBLIC \"-//W3C//DTD SVG 1.1//EN\"\n \"http://www.w3.org/Graphics/SVG/1.1/DTD/svg11.dtd\">\n<!-- Generated by graphviz version 7.1.0 (20230121.1956)\n -->\n<!-- Pages: 1 -->\n<svg width=\"1159pt\" height=\"128pt\"\n viewBox=\"0.00 0.00 1159.00 128.00\" xmlns=\"http://www.w3.org/2000/svg\" xmlns:xlink=\"http://www.w3.org/1999/xlink\">\n<g id=\"graph0\" class=\"graph\" transform=\"scale(1 1) rotate(0) translate(4 124)\">\n<polygon fill=\"white\" stroke=\"none\" points=\"-4,4 -4,-124 1155,-124 1155,4 -4,4\"/>\n<!-- 2131637803520 -->\n<g id=\"node1\" class=\"node\">\n<title>2131637803520</title>\n<polygon fill=\"none\" stroke=\"black\" points=\"639,-27.5 639,-63.5 831,-63.5 831,-27.5 639,-27.5\"/>\n<text text-anchor=\"middle\" x=\"651\" y=\"-41.8\" font-family=\"Times New Roman,serif\" font-size=\"14.00\">d</text>\n<polyline fill=\"none\" stroke=\"black\" points=\"663,-27.5 663,-63.5\"/>\n<text text-anchor=\"middle\" x=\"703.5\" y=\"-41.8\" font-family=\"Times New Roman,serif\" font-size=\"14.00\">data 4.0000</text>\n<polyline fill=\"none\" stroke=\"black\" points=\"744,-27.5 744,-63.5\"/>\n<text text-anchor=\"middle\" x=\"787.5\" y=\"-41.8\" font-family=\"Times New Roman,serif\" font-size=\"14.00\">grad &#45;2.0000</text>\n</g>\n<!-- 2131637803328* -->\n<g id=\"node8\" class=\"node\">\n<title>2131637803328*</title>\n<ellipse fill=\"none\" stroke=\"black\" cx=\"894\" cy=\"-72.5\" rx=\"27\" ry=\"18\"/>\n<text text-anchor=\"middle\" x=\"894\" y=\"-68.8\" font-family=\"Times New Roman,serif\" font-size=\"14.00\">*</text>\n</g>\n<!-- 2131637803520&#45;&gt;2131637803328* -->\n<g id=\"edge9\" class=\"edge\">\n<title>2131637803520&#45;&gt;2131637803328*</title>\n<path fill=\"none\" stroke=\"black\" d=\"M830.95,-61.83C839.87,-63.36 848.49,-64.85 856.33,-66.19\"/>\n<polygon fill=\"black\" stroke=\"black\" points=\"855.62,-69.62 866.07,-67.87 856.8,-62.72 855.62,-69.62\"/>\n</g>\n<!-- 2131637803520+ -->\n<g id=\"node2\" class=\"node\">\n<title>2131637803520+</title>\n<ellipse fill=\"none\" stroke=\"black\" cx=\"576\" cy=\"-45.5\" rx=\"27\" ry=\"18\"/>\n<text text-anchor=\"middle\" x=\"576\" y=\"-41.8\" font-family=\"Times New Roman,serif\" font-size=\"14.00\">+</text>\n</g>\n<!-- 2131637803520+&#45;&gt;2131637803520 -->\n<g id=\"edge1\" class=\"edge\">\n<title>2131637803520+&#45;&gt;2131637803520</title>\n<path fill=\"none\" stroke=\"black\" d=\"M603.28,-45.5C610.52,-45.5 618.85,-45.5 627.72,-45.5\"/>\n<polygon fill=\"black\" stroke=\"black\" points=\"627.69,-49 637.69,-45.5 627.69,-42 627.69,-49\"/>\n</g>\n<!-- 2131602099312 -->\n<g id=\"node3\" class=\"node\">\n<title>2131602099312</title>\n<polygon fill=\"none\" stroke=\"black\" points=\"320,-55.5 320,-91.5 512,-91.5 512,-55.5 320,-55.5\"/>\n<text text-anchor=\"middle\" x=\"331.5\" y=\"-69.8\" font-family=\"Times New Roman,serif\" font-size=\"14.00\">e</text>\n<polyline fill=\"none\" stroke=\"black\" points=\"343,-55.5 343,-91.5\"/>\n<text text-anchor=\"middle\" x=\"386\" y=\"-69.8\" font-family=\"Times New Roman,serif\" font-size=\"14.00\">data &#45;6.0000</text>\n<polyline fill=\"none\" stroke=\"black\" points=\"429,-55.5 429,-91.5\"/>\n<text text-anchor=\"middle\" x=\"470.5\" y=\"-69.8\" font-family=\"Times New Roman,serif\" font-size=\"14.00\">grad 0.0000</text>\n</g>\n<!-- 2131602099312&#45;&gt;2131637803520+ -->\n<g id=\"edge7\" class=\"edge\">\n<title>2131602099312&#45;&gt;2131637803520+</title>\n<path fill=\"none\" stroke=\"black\" d=\"M511.65,-56.73C521.01,-55.07 530.06,-53.46 538.26,-52.01\"/>\n<polygon fill=\"black\" stroke=\"black\" points=\"538.86,-55.46 548.1,-50.27 537.64,-48.57 538.86,-55.46\"/>\n</g>\n<!-- 2131602099312* -->\n<g id=\"node4\" class=\"node\">\n<title>2131602099312*</title>\n<ellipse fill=\"none\" stroke=\"black\" cx=\"256\" cy=\"-73.5\" rx=\"27\" ry=\"18\"/>\n<text text-anchor=\"middle\" x=\"256\" y=\"-69.8\" font-family=\"Times New Roman,serif\" font-size=\"14.00\">*</text>\n</g>\n<!-- 2131602099312*&#45;&gt;2131602099312 -->\n<g id=\"edge2\" class=\"edge\">\n<title>2131602099312*&#45;&gt;2131602099312</title>\n<path fill=\"none\" stroke=\"black\" d=\"M283.45,-73.5C290.94,-73.5 299.59,-73.5 308.8,-73.5\"/>\n<polygon fill=\"black\" stroke=\"black\" points=\"308.76,-77 318.76,-73.5 308.76,-70 308.76,-77\"/>\n</g>\n<!-- 2131637804192 -->\n<g id=\"node5\" class=\"node\">\n<title>2131637804192</title>\n<polygon fill=\"none\" stroke=\"black\" points=\"0,-83.5 0,-119.5 193,-119.5 193,-83.5 0,-83.5\"/>\n<text text-anchor=\"middle\" x=\"12\" y=\"-97.8\" font-family=\"Times New Roman,serif\" font-size=\"14.00\">b</text>\n<polyline fill=\"none\" stroke=\"black\" points=\"24,-83.5 24,-119.5\"/>\n<text text-anchor=\"middle\" x=\"67\" y=\"-97.8\" font-family=\"Times New Roman,serif\" font-size=\"14.00\">data &#45;3.0000</text>\n<polyline fill=\"none\" stroke=\"black\" points=\"110,-83.5 110,-119.5\"/>\n<text text-anchor=\"middle\" x=\"151.5\" y=\"-97.8\" font-family=\"Times New Roman,serif\" font-size=\"14.00\">grad 0.0000</text>\n</g>\n<!-- 2131637804192&#45;&gt;2131602099312* -->\n<g id=\"edge4\" class=\"edge\">\n<title>2131637804192&#45;&gt;2131602099312*</title>\n<path fill=\"none\" stroke=\"black\" d=\"M192.75,-84.57C201.7,-82.98 210.35,-81.44 218.21,-80.04\"/>\n<polygon fill=\"black\" stroke=\"black\" points=\"218.75,-83.5 227.99,-78.3 217.53,-76.61 218.75,-83.5\"/>\n</g>\n<!-- 2131637331616 -->\n<g id=\"node6\" class=\"node\">\n<title>2131637331616</title>\n<polygon fill=\"none\" stroke=\"black\" points=\"640,-82.5 640,-118.5 830,-118.5 830,-82.5 640,-82.5\"/>\n<text text-anchor=\"middle\" x=\"650.5\" y=\"-96.8\" font-family=\"Times New Roman,serif\" font-size=\"14.00\">f</text>\n<polyline fill=\"none\" stroke=\"black\" points=\"661,-82.5 661,-118.5\"/>\n<text text-anchor=\"middle\" x=\"704\" y=\"-96.8\" font-family=\"Times New Roman,serif\" font-size=\"14.00\">data &#45;2.0000</text>\n<polyline fill=\"none\" stroke=\"black\" points=\"747,-82.5 747,-118.5\"/>\n<text text-anchor=\"middle\" x=\"788.5\" y=\"-96.8\" font-family=\"Times New Roman,serif\" font-size=\"14.00\">grad 4.0000</text>\n</g>\n<!-- 2131637331616&#45;&gt;2131637803328* -->\n<g id=\"edge8\" class=\"edge\">\n<title>2131637331616&#45;&gt;2131637803328*</title>\n<path fill=\"none\" stroke=\"black\" d=\"M829.59,-83.81C839.06,-82.12 848.22,-80.49 856.49,-79.01\"/>\n<polygon fill=\"black\" stroke=\"black\" points=\"856.82,-82.51 866.05,-77.31 855.59,-75.62 856.82,-82.51\"/>\n</g>\n<!-- 2131637803328 -->\n<g id=\"node7\" class=\"node\">\n<title>2131637803328</title>\n<polygon fill=\"none\" stroke=\"black\" points=\"957,-54.5 957,-90.5 1151,-90.5 1151,-54.5 957,-54.5\"/>\n<text text-anchor=\"middle\" x=\"969.5\" y=\"-68.8\" font-family=\"Times New Roman,serif\" font-size=\"14.00\">L</text>\n<polyline fill=\"none\" stroke=\"black\" points=\"982,-54.5 982,-90.5\"/>\n<text text-anchor=\"middle\" x=\"1025\" y=\"-68.8\" font-family=\"Times New Roman,serif\" font-size=\"14.00\">data &#45;8.0000</text>\n<polyline fill=\"none\" stroke=\"black\" points=\"1068,-54.5 1068,-90.5\"/>\n<text text-anchor=\"middle\" x=\"1109.5\" y=\"-68.8\" font-family=\"Times New Roman,serif\" font-size=\"14.00\">grad 1.0000</text>\n</g>\n<!-- 2131637803328*&#45;&gt;2131637803328 -->\n<g id=\"edge3\" class=\"edge\">\n<title>2131637803328*&#45;&gt;2131637803328</title>\n<path fill=\"none\" stroke=\"black\" d=\"M921.45,-72.5C928.67,-72.5 936.97,-72.5 945.82,-72.5\"/>\n<polygon fill=\"black\" stroke=\"black\" points=\"945.75,-76 955.75,-72.5 945.75,-69 945.75,-76\"/>\n</g>\n<!-- 2131637801312 -->\n<g id=\"node9\" class=\"node\">\n<title>2131637801312</title>\n<polygon fill=\"none\" stroke=\"black\" points=\"3,-28.5 3,-64.5 190,-64.5 190,-28.5 3,-28.5\"/>\n<text text-anchor=\"middle\" x=\"14.5\" y=\"-42.8\" font-family=\"Times New Roman,serif\" font-size=\"14.00\">a</text>\n<polyline fill=\"none\" stroke=\"black\" points=\"26,-28.5 26,-64.5\"/>\n<text text-anchor=\"middle\" x=\"66.5\" y=\"-42.8\" font-family=\"Times New Roman,serif\" font-size=\"14.00\">data 2.0000</text>\n<polyline fill=\"none\" stroke=\"black\" points=\"107,-28.5 107,-64.5\"/>\n<text text-anchor=\"middle\" x=\"148.5\" y=\"-42.8\" font-family=\"Times New Roman,serif\" font-size=\"14.00\">grad 0.0000</text>\n</g>\n<!-- 2131637801312&#45;&gt;2131602099312* -->\n<g id=\"edge5\" class=\"edge\">\n<title>2131637801312&#45;&gt;2131602099312*</title>\n<path fill=\"none\" stroke=\"black\" d=\"M189.57,-62.28C199.66,-64.01 209.45,-65.69 218.25,-67.2\"/>\n<polygon fill=\"black\" stroke=\"black\" points=\"217.63,-70.65 228.08,-68.89 218.82,-63.75 217.63,-70.65\"/>\n</g>\n<!-- 2130941243344 -->\n<g id=\"node10\" class=\"node\">\n<title>2130941243344</title>\n<polygon fill=\"none\" stroke=\"black\" points=\"319,-0.5 319,-36.5 513,-36.5 513,-0.5 319,-0.5\"/>\n<text text-anchor=\"middle\" x=\"330.5\" y=\"-14.8\" font-family=\"Times New Roman,serif\" font-size=\"14.00\">c</text>\n<polyline fill=\"none\" stroke=\"black\" points=\"342,-0.5 342,-36.5\"/>\n<text text-anchor=\"middle\" x=\"386\" y=\"-14.8\" font-family=\"Times New Roman,serif\" font-size=\"14.00\">data 10.0000</text>\n<polyline fill=\"none\" stroke=\"black\" points=\"430,-0.5 430,-36.5\"/>\n<text text-anchor=\"middle\" x=\"471.5\" y=\"-14.8\" font-family=\"Times New Roman,serif\" font-size=\"14.00\">grad 0.0000</text>\n</g>\n<!-- 2130941243344&#45;&gt;2131637803520+ -->\n<g id=\"edge6\" class=\"edge\">\n<title>2130941243344&#45;&gt;2131637803520+</title>\n<path fill=\"none\" stroke=\"black\" d=\"M512.55,-34.83C521.53,-36.36 530.21,-37.85 538.1,-39.19\"/>\n<polygon fill=\"black\" stroke=\"black\" points=\"537.46,-42.63 547.9,-40.87 538.64,-35.73 537.46,-42.63\"/>\n</g>\n</g>\n</svg>\n",
      "text/plain": [
       "<graphviz.graphs.Digraph at 0x1f04f824f70>"
      ]
     },
     "execution_count": 18,
     "metadata": {},
     "output_type": "execute_result"
    }
   ],
   "source": [
    "d.grad = f.data\n",
    "f.grad = d.data\n",
    "draw_dot(L)"
   ]
  },
  {
   "attachments": {},
   "cell_type": "markdown",
   "metadata": {},
   "source": [
    "by calculating dL/dd we know how d impacts L, to calculate dL/dc we want to know how c impacts L through d.\n",
    "therefore , what is dd/dc?{local gradient} \n",
    "d = c + e\n",
    "dd/dc = 1.0\n",
    "(f(x+h) - f(x))/h\n",
    "((c+h+e) - (c +e))/h\n",
    "(c + h + e - c - e)/h\n",
    "h/h = 1.0\n",
    "Also by symmetry dd/de = 1.0\n",
    "to calculate dL/dc we use chain rule{dz/dx = (dz/dy)*(dy/dx)}, where a variable z depends upon a variable y which itself depends upon a variable x.\n",
    "dL/dc = dL/dd * dd/dc\n",
    "So dL/dc = -2.0"
   ]
  },
  {
   "cell_type": "code",
   "execution_count": 19,
   "metadata": {},
   "outputs": [
    {
     "data": {
      "image/svg+xml": "<?xml version=\"1.0\" encoding=\"UTF-8\" standalone=\"no\"?>\n<!DOCTYPE svg PUBLIC \"-//W3C//DTD SVG 1.1//EN\"\n \"http://www.w3.org/Graphics/SVG/1.1/DTD/svg11.dtd\">\n<!-- Generated by graphviz version 7.1.0 (20230121.1956)\n -->\n<!-- Pages: 1 -->\n<svg width=\"1163pt\" height=\"128pt\"\n viewBox=\"0.00 0.00 1163.00 128.00\" xmlns=\"http://www.w3.org/2000/svg\" xmlns:xlink=\"http://www.w3.org/1999/xlink\">\n<g id=\"graph0\" class=\"graph\" transform=\"scale(1 1) rotate(0) translate(4 124)\">\n<polygon fill=\"white\" stroke=\"none\" points=\"-4,4 -4,-124 1159,-124 1159,4 -4,4\"/>\n<!-- 2131637803520 -->\n<g id=\"node1\" class=\"node\">\n<title>2131637803520</title>\n<polygon fill=\"none\" stroke=\"black\" points=\"643,-27.5 643,-63.5 835,-63.5 835,-27.5 643,-27.5\"/>\n<text text-anchor=\"middle\" x=\"655\" y=\"-41.8\" font-family=\"Times New Roman,serif\" font-size=\"14.00\">d</text>\n<polyline fill=\"none\" stroke=\"black\" points=\"667,-27.5 667,-63.5\"/>\n<text text-anchor=\"middle\" x=\"707.5\" y=\"-41.8\" font-family=\"Times New Roman,serif\" font-size=\"14.00\">data 4.0000</text>\n<polyline fill=\"none\" stroke=\"black\" points=\"748,-27.5 748,-63.5\"/>\n<text text-anchor=\"middle\" x=\"791.5\" y=\"-41.8\" font-family=\"Times New Roman,serif\" font-size=\"14.00\">grad &#45;2.0000</text>\n</g>\n<!-- 2131637803328* -->\n<g id=\"node8\" class=\"node\">\n<title>2131637803328*</title>\n<ellipse fill=\"none\" stroke=\"black\" cx=\"898\" cy=\"-72.5\" rx=\"27\" ry=\"18\"/>\n<text text-anchor=\"middle\" x=\"898\" y=\"-68.8\" font-family=\"Times New Roman,serif\" font-size=\"14.00\">*</text>\n</g>\n<!-- 2131637803520&#45;&gt;2131637803328* -->\n<g id=\"edge9\" class=\"edge\">\n<title>2131637803520&#45;&gt;2131637803328*</title>\n<path fill=\"none\" stroke=\"black\" d=\"M834.95,-61.83C843.87,-63.36 852.49,-64.85 860.33,-66.19\"/>\n<polygon fill=\"black\" stroke=\"black\" points=\"859.62,-69.62 870.07,-67.87 860.8,-62.72 859.62,-69.62\"/>\n</g>\n<!-- 2131637803520+ -->\n<g id=\"node2\" class=\"node\">\n<title>2131637803520+</title>\n<ellipse fill=\"none\" stroke=\"black\" cx=\"580\" cy=\"-45.5\" rx=\"27\" ry=\"18\"/>\n<text text-anchor=\"middle\" x=\"580\" y=\"-41.8\" font-family=\"Times New Roman,serif\" font-size=\"14.00\">+</text>\n</g>\n<!-- 2131637803520+&#45;&gt;2131637803520 -->\n<g id=\"edge1\" class=\"edge\">\n<title>2131637803520+&#45;&gt;2131637803520</title>\n<path fill=\"none\" stroke=\"black\" d=\"M607.28,-45.5C614.52,-45.5 622.85,-45.5 631.72,-45.5\"/>\n<polygon fill=\"black\" stroke=\"black\" points=\"631.69,-49 641.69,-45.5 631.69,-42 631.69,-49\"/>\n</g>\n<!-- 2131602099312 -->\n<g id=\"node3\" class=\"node\">\n<title>2131602099312</title>\n<polygon fill=\"none\" stroke=\"black\" points=\"320,-55.5 320,-91.5 516,-91.5 516,-55.5 320,-55.5\"/>\n<text text-anchor=\"middle\" x=\"331.5\" y=\"-69.8\" font-family=\"Times New Roman,serif\" font-size=\"14.00\">e</text>\n<polyline fill=\"none\" stroke=\"black\" points=\"343,-55.5 343,-91.5\"/>\n<text text-anchor=\"middle\" x=\"386\" y=\"-69.8\" font-family=\"Times New Roman,serif\" font-size=\"14.00\">data &#45;6.0000</text>\n<polyline fill=\"none\" stroke=\"black\" points=\"429,-55.5 429,-91.5\"/>\n<text text-anchor=\"middle\" x=\"472.5\" y=\"-69.8\" font-family=\"Times New Roman,serif\" font-size=\"14.00\">grad &#45;2.0000</text>\n</g>\n<!-- 2131602099312&#45;&gt;2131637803520+ -->\n<g id=\"edge7\" class=\"edge\">\n<title>2131602099312&#45;&gt;2131637803520+</title>\n<path fill=\"none\" stroke=\"black\" d=\"M515.76,-56.57C525.05,-54.94 534.02,-53.37 542.14,-51.95\"/>\n<polygon fill=\"black\" stroke=\"black\" points=\"542.64,-55.42 551.89,-50.25 541.43,-48.52 542.64,-55.42\"/>\n</g>\n<!-- 2131602099312* -->\n<g id=\"node4\" class=\"node\">\n<title>2131602099312*</title>\n<ellipse fill=\"none\" stroke=\"black\" cx=\"256\" cy=\"-73.5\" rx=\"27\" ry=\"18\"/>\n<text text-anchor=\"middle\" x=\"256\" y=\"-69.8\" font-family=\"Times New Roman,serif\" font-size=\"14.00\">*</text>\n</g>\n<!-- 2131602099312*&#45;&gt;2131602099312 -->\n<g id=\"edge2\" class=\"edge\">\n<title>2131602099312*&#45;&gt;2131602099312</title>\n<path fill=\"none\" stroke=\"black\" d=\"M283.42,-73.5C290.87,-73.5 299.46,-73.5 308.62,-73.5\"/>\n<polygon fill=\"black\" stroke=\"black\" points=\"308.53,-77 318.53,-73.5 308.53,-70 308.53,-77\"/>\n</g>\n<!-- 2131637804192 -->\n<g id=\"node5\" class=\"node\">\n<title>2131637804192</title>\n<polygon fill=\"none\" stroke=\"black\" points=\"0,-83.5 0,-119.5 193,-119.5 193,-83.5 0,-83.5\"/>\n<text text-anchor=\"middle\" x=\"12\" y=\"-97.8\" font-family=\"Times New Roman,serif\" font-size=\"14.00\">b</text>\n<polyline fill=\"none\" stroke=\"black\" points=\"24,-83.5 24,-119.5\"/>\n<text text-anchor=\"middle\" x=\"67\" y=\"-97.8\" font-family=\"Times New Roman,serif\" font-size=\"14.00\">data &#45;3.0000</text>\n<polyline fill=\"none\" stroke=\"black\" points=\"110,-83.5 110,-119.5\"/>\n<text text-anchor=\"middle\" x=\"151.5\" y=\"-97.8\" font-family=\"Times New Roman,serif\" font-size=\"14.00\">grad 0.0000</text>\n</g>\n<!-- 2131637804192&#45;&gt;2131602099312* -->\n<g id=\"edge4\" class=\"edge\">\n<title>2131637804192&#45;&gt;2131602099312*</title>\n<path fill=\"none\" stroke=\"black\" d=\"M192.75,-84.57C201.7,-82.98 210.35,-81.44 218.21,-80.04\"/>\n<polygon fill=\"black\" stroke=\"black\" points=\"218.75,-83.5 227.99,-78.3 217.53,-76.61 218.75,-83.5\"/>\n</g>\n<!-- 2131637331616 -->\n<g id=\"node6\" class=\"node\">\n<title>2131637331616</title>\n<polygon fill=\"none\" stroke=\"black\" points=\"644,-82.5 644,-118.5 834,-118.5 834,-82.5 644,-82.5\"/>\n<text text-anchor=\"middle\" x=\"654.5\" y=\"-96.8\" font-family=\"Times New Roman,serif\" font-size=\"14.00\">f</text>\n<polyline fill=\"none\" stroke=\"black\" points=\"665,-82.5 665,-118.5\"/>\n<text text-anchor=\"middle\" x=\"708\" y=\"-96.8\" font-family=\"Times New Roman,serif\" font-size=\"14.00\">data &#45;2.0000</text>\n<polyline fill=\"none\" stroke=\"black\" points=\"751,-82.5 751,-118.5\"/>\n<text text-anchor=\"middle\" x=\"792.5\" y=\"-96.8\" font-family=\"Times New Roman,serif\" font-size=\"14.00\">grad 4.0000</text>\n</g>\n<!-- 2131637331616&#45;&gt;2131637803328* -->\n<g id=\"edge8\" class=\"edge\">\n<title>2131637331616&#45;&gt;2131637803328*</title>\n<path fill=\"none\" stroke=\"black\" d=\"M833.59,-83.81C843.06,-82.12 852.22,-80.49 860.49,-79.01\"/>\n<polygon fill=\"black\" stroke=\"black\" points=\"860.82,-82.51 870.05,-77.31 859.59,-75.62 860.82,-82.51\"/>\n</g>\n<!-- 2131637803328 -->\n<g id=\"node7\" class=\"node\">\n<title>2131637803328</title>\n<polygon fill=\"none\" stroke=\"black\" points=\"961,-54.5 961,-90.5 1155,-90.5 1155,-54.5 961,-54.5\"/>\n<text text-anchor=\"middle\" x=\"973.5\" y=\"-68.8\" font-family=\"Times New Roman,serif\" font-size=\"14.00\">L</text>\n<polyline fill=\"none\" stroke=\"black\" points=\"986,-54.5 986,-90.5\"/>\n<text text-anchor=\"middle\" x=\"1029\" y=\"-68.8\" font-family=\"Times New Roman,serif\" font-size=\"14.00\">data &#45;8.0000</text>\n<polyline fill=\"none\" stroke=\"black\" points=\"1072,-54.5 1072,-90.5\"/>\n<text text-anchor=\"middle\" x=\"1113.5\" y=\"-68.8\" font-family=\"Times New Roman,serif\" font-size=\"14.00\">grad 1.0000</text>\n</g>\n<!-- 2131637803328*&#45;&gt;2131637803328 -->\n<g id=\"edge3\" class=\"edge\">\n<title>2131637803328*&#45;&gt;2131637803328</title>\n<path fill=\"none\" stroke=\"black\" d=\"M925.45,-72.5C932.67,-72.5 940.97,-72.5 949.82,-72.5\"/>\n<polygon fill=\"black\" stroke=\"black\" points=\"949.75,-76 959.75,-72.5 949.75,-69 949.75,-76\"/>\n</g>\n<!-- 2131637801312 -->\n<g id=\"node9\" class=\"node\">\n<title>2131637801312</title>\n<polygon fill=\"none\" stroke=\"black\" points=\"3,-28.5 3,-64.5 190,-64.5 190,-28.5 3,-28.5\"/>\n<text text-anchor=\"middle\" x=\"14.5\" y=\"-42.8\" font-family=\"Times New Roman,serif\" font-size=\"14.00\">a</text>\n<polyline fill=\"none\" stroke=\"black\" points=\"26,-28.5 26,-64.5\"/>\n<text text-anchor=\"middle\" x=\"66.5\" y=\"-42.8\" font-family=\"Times New Roman,serif\" font-size=\"14.00\">data 2.0000</text>\n<polyline fill=\"none\" stroke=\"black\" points=\"107,-28.5 107,-64.5\"/>\n<text text-anchor=\"middle\" x=\"148.5\" y=\"-42.8\" font-family=\"Times New Roman,serif\" font-size=\"14.00\">grad 0.0000</text>\n</g>\n<!-- 2131637801312&#45;&gt;2131602099312* -->\n<g id=\"edge5\" class=\"edge\">\n<title>2131637801312&#45;&gt;2131602099312*</title>\n<path fill=\"none\" stroke=\"black\" d=\"M189.57,-62.28C199.66,-64.01 209.45,-65.69 218.25,-67.2\"/>\n<polygon fill=\"black\" stroke=\"black\" points=\"217.63,-70.65 228.08,-68.89 218.82,-63.75 217.63,-70.65\"/>\n</g>\n<!-- 2130941243344 -->\n<g id=\"node10\" class=\"node\">\n<title>2130941243344</title>\n<polygon fill=\"none\" stroke=\"black\" points=\"319,-0.5 319,-36.5 517,-36.5 517,-0.5 319,-0.5\"/>\n<text text-anchor=\"middle\" x=\"330.5\" y=\"-14.8\" font-family=\"Times New Roman,serif\" font-size=\"14.00\">c</text>\n<polyline fill=\"none\" stroke=\"black\" points=\"342,-0.5 342,-36.5\"/>\n<text text-anchor=\"middle\" x=\"386\" y=\"-14.8\" font-family=\"Times New Roman,serif\" font-size=\"14.00\">data 10.0000</text>\n<polyline fill=\"none\" stroke=\"black\" points=\"430,-0.5 430,-36.5\"/>\n<text text-anchor=\"middle\" x=\"473.5\" y=\"-14.8\" font-family=\"Times New Roman,serif\" font-size=\"14.00\">grad &#45;2.0000</text>\n</g>\n<!-- 2130941243344&#45;&gt;2131637803520+ -->\n<g id=\"edge6\" class=\"edge\">\n<title>2130941243344&#45;&gt;2131637803520+</title>\n<path fill=\"none\" stroke=\"black\" d=\"M516.68,-34.98C525.67,-36.5 534.34,-37.96 542.22,-39.29\"/>\n<polygon fill=\"black\" stroke=\"black\" points=\"541.56,-42.73 552,-40.94 542.72,-35.83 541.56,-42.73\"/>\n</g>\n</g>\n</svg>\n",
      "text/plain": [
       "<graphviz.graphs.Digraph at 0x1f04f84e4c0>"
      ]
     },
     "execution_count": 19,
     "metadata": {},
     "output_type": "execute_result"
    }
   ],
   "source": [
    "c.grad = -2.0\n",
    "e.grad = -2.0\n",
    "draw_dot(L)"
   ]
  },
  {
   "attachments": {},
   "cell_type": "markdown",
   "metadata": {},
   "source": [
    "dL/da = dL/de * de/da = 6.00\n",
    "dL/db = -2 * 2 = 4\n",
    "de/da = b = -3\n",
    "de/db = a = 2\n"
   ]
  },
  {
   "cell_type": "code",
   "execution_count": 20,
   "metadata": {},
   "outputs": [
    {
     "data": {
      "image/svg+xml": "<?xml version=\"1.0\" encoding=\"UTF-8\" standalone=\"no\"?>\n<!DOCTYPE svg PUBLIC \"-//W3C//DTD SVG 1.1//EN\"\n \"http://www.w3.org/Graphics/SVG/1.1/DTD/svg11.dtd\">\n<!-- Generated by graphviz version 7.1.0 (20230121.1956)\n -->\n<!-- Pages: 1 -->\n<svg width=\"1167pt\" height=\"128pt\"\n viewBox=\"0.00 0.00 1167.00 128.00\" xmlns=\"http://www.w3.org/2000/svg\" xmlns:xlink=\"http://www.w3.org/1999/xlink\">\n<g id=\"graph0\" class=\"graph\" transform=\"scale(1 1) rotate(0) translate(4 124)\">\n<polygon fill=\"white\" stroke=\"none\" points=\"-4,4 -4,-124 1163,-124 1163,4 -4,4\"/>\n<!-- 2131637803520 -->\n<g id=\"node1\" class=\"node\">\n<title>2131637803520</title>\n<polygon fill=\"none\" stroke=\"black\" points=\"647,-27.5 647,-63.5 839,-63.5 839,-27.5 647,-27.5\"/>\n<text text-anchor=\"middle\" x=\"659\" y=\"-41.8\" font-family=\"Times New Roman,serif\" font-size=\"14.00\">d</text>\n<polyline fill=\"none\" stroke=\"black\" points=\"671,-27.5 671,-63.5\"/>\n<text text-anchor=\"middle\" x=\"711.5\" y=\"-41.8\" font-family=\"Times New Roman,serif\" font-size=\"14.00\">data 4.0000</text>\n<polyline fill=\"none\" stroke=\"black\" points=\"752,-27.5 752,-63.5\"/>\n<text text-anchor=\"middle\" x=\"795.5\" y=\"-41.8\" font-family=\"Times New Roman,serif\" font-size=\"14.00\">grad &#45;2.0000</text>\n</g>\n<!-- 2131637803328* -->\n<g id=\"node8\" class=\"node\">\n<title>2131637803328*</title>\n<ellipse fill=\"none\" stroke=\"black\" cx=\"902\" cy=\"-72.5\" rx=\"27\" ry=\"18\"/>\n<text text-anchor=\"middle\" x=\"902\" y=\"-68.8\" font-family=\"Times New Roman,serif\" font-size=\"14.00\">*</text>\n</g>\n<!-- 2131637803520&#45;&gt;2131637803328* -->\n<g id=\"edge9\" class=\"edge\">\n<title>2131637803520&#45;&gt;2131637803328*</title>\n<path fill=\"none\" stroke=\"black\" d=\"M838.95,-61.83C847.87,-63.36 856.49,-64.85 864.33,-66.19\"/>\n<polygon fill=\"black\" stroke=\"black\" points=\"863.62,-69.62 874.07,-67.87 864.8,-62.72 863.62,-69.62\"/>\n</g>\n<!-- 2131637803520+ -->\n<g id=\"node2\" class=\"node\">\n<title>2131637803520+</title>\n<ellipse fill=\"none\" stroke=\"black\" cx=\"584\" cy=\"-45.5\" rx=\"27\" ry=\"18\"/>\n<text text-anchor=\"middle\" x=\"584\" y=\"-41.8\" font-family=\"Times New Roman,serif\" font-size=\"14.00\">+</text>\n</g>\n<!-- 2131637803520+&#45;&gt;2131637803520 -->\n<g id=\"edge1\" class=\"edge\">\n<title>2131637803520+&#45;&gt;2131637803520</title>\n<path fill=\"none\" stroke=\"black\" d=\"M611.28,-45.5C618.52,-45.5 626.85,-45.5 635.72,-45.5\"/>\n<polygon fill=\"black\" stroke=\"black\" points=\"635.69,-49 645.69,-45.5 635.69,-42 635.69,-49\"/>\n</g>\n<!-- 2131602099312 -->\n<g id=\"node3\" class=\"node\">\n<title>2131602099312</title>\n<polygon fill=\"none\" stroke=\"black\" points=\"324,-55.5 324,-91.5 520,-91.5 520,-55.5 324,-55.5\"/>\n<text text-anchor=\"middle\" x=\"335.5\" y=\"-69.8\" font-family=\"Times New Roman,serif\" font-size=\"14.00\">e</text>\n<polyline fill=\"none\" stroke=\"black\" points=\"347,-55.5 347,-91.5\"/>\n<text text-anchor=\"middle\" x=\"390\" y=\"-69.8\" font-family=\"Times New Roman,serif\" font-size=\"14.00\">data &#45;6.0000</text>\n<polyline fill=\"none\" stroke=\"black\" points=\"433,-55.5 433,-91.5\"/>\n<text text-anchor=\"middle\" x=\"476.5\" y=\"-69.8\" font-family=\"Times New Roman,serif\" font-size=\"14.00\">grad &#45;2.0000</text>\n</g>\n<!-- 2131602099312&#45;&gt;2131637803520+ -->\n<g id=\"edge7\" class=\"edge\">\n<title>2131602099312&#45;&gt;2131637803520+</title>\n<path fill=\"none\" stroke=\"black\" d=\"M519.76,-56.57C529.05,-54.94 538.02,-53.37 546.14,-51.95\"/>\n<polygon fill=\"black\" stroke=\"black\" points=\"546.64,-55.42 555.89,-50.25 545.43,-48.52 546.64,-55.42\"/>\n</g>\n<!-- 2131602099312* -->\n<g id=\"node4\" class=\"node\">\n<title>2131602099312*</title>\n<ellipse fill=\"none\" stroke=\"black\" cx=\"260\" cy=\"-73.5\" rx=\"27\" ry=\"18\"/>\n<text text-anchor=\"middle\" x=\"260\" y=\"-69.8\" font-family=\"Times New Roman,serif\" font-size=\"14.00\">*</text>\n</g>\n<!-- 2131602099312*&#45;&gt;2131602099312 -->\n<g id=\"edge2\" class=\"edge\">\n<title>2131602099312*&#45;&gt;2131602099312</title>\n<path fill=\"none\" stroke=\"black\" d=\"M287.42,-73.5C294.87,-73.5 303.46,-73.5 312.62,-73.5\"/>\n<polygon fill=\"black\" stroke=\"black\" points=\"312.53,-77 322.53,-73.5 312.53,-70 312.53,-77\"/>\n</g>\n<!-- 2131637804192 -->\n<g id=\"node5\" class=\"node\">\n<title>2131637804192</title>\n<polygon fill=\"none\" stroke=\"black\" points=\"0,-83.5 0,-119.5 197,-119.5 197,-83.5 0,-83.5\"/>\n<text text-anchor=\"middle\" x=\"12\" y=\"-97.8\" font-family=\"Times New Roman,serif\" font-size=\"14.00\">b</text>\n<polyline fill=\"none\" stroke=\"black\" points=\"24,-83.5 24,-119.5\"/>\n<text text-anchor=\"middle\" x=\"67\" y=\"-97.8\" font-family=\"Times New Roman,serif\" font-size=\"14.00\">data &#45;3.0000</text>\n<polyline fill=\"none\" stroke=\"black\" points=\"110,-83.5 110,-119.5\"/>\n<text text-anchor=\"middle\" x=\"153.5\" y=\"-97.8\" font-family=\"Times New Roman,serif\" font-size=\"14.00\">grad &#45;4.0000</text>\n</g>\n<!-- 2131637804192&#45;&gt;2131602099312* -->\n<g id=\"edge4\" class=\"edge\">\n<title>2131637804192&#45;&gt;2131602099312*</title>\n<path fill=\"none\" stroke=\"black\" d=\"M196.88,-84.41C205.84,-82.83 214.48,-81.32 222.33,-79.94\"/>\n<polygon fill=\"black\" stroke=\"black\" points=\"222.84,-83.4 232.08,-78.23 221.63,-76.51 222.84,-83.4\"/>\n</g>\n<!-- 2131637331616 -->\n<g id=\"node6\" class=\"node\">\n<title>2131637331616</title>\n<polygon fill=\"none\" stroke=\"black\" points=\"648,-82.5 648,-118.5 838,-118.5 838,-82.5 648,-82.5\"/>\n<text text-anchor=\"middle\" x=\"658.5\" y=\"-96.8\" font-family=\"Times New Roman,serif\" font-size=\"14.00\">f</text>\n<polyline fill=\"none\" stroke=\"black\" points=\"669,-82.5 669,-118.5\"/>\n<text text-anchor=\"middle\" x=\"712\" y=\"-96.8\" font-family=\"Times New Roman,serif\" font-size=\"14.00\">data &#45;2.0000</text>\n<polyline fill=\"none\" stroke=\"black\" points=\"755,-82.5 755,-118.5\"/>\n<text text-anchor=\"middle\" x=\"796.5\" y=\"-96.8\" font-family=\"Times New Roman,serif\" font-size=\"14.00\">grad 4.0000</text>\n</g>\n<!-- 2131637331616&#45;&gt;2131637803328* -->\n<g id=\"edge8\" class=\"edge\">\n<title>2131637331616&#45;&gt;2131637803328*</title>\n<path fill=\"none\" stroke=\"black\" d=\"M837.59,-83.81C847.06,-82.12 856.22,-80.49 864.49,-79.01\"/>\n<polygon fill=\"black\" stroke=\"black\" points=\"864.82,-82.51 874.05,-77.31 863.59,-75.62 864.82,-82.51\"/>\n</g>\n<!-- 2131637803328 -->\n<g id=\"node7\" class=\"node\">\n<title>2131637803328</title>\n<polygon fill=\"none\" stroke=\"black\" points=\"965,-54.5 965,-90.5 1159,-90.5 1159,-54.5 965,-54.5\"/>\n<text text-anchor=\"middle\" x=\"977.5\" y=\"-68.8\" font-family=\"Times New Roman,serif\" font-size=\"14.00\">L</text>\n<polyline fill=\"none\" stroke=\"black\" points=\"990,-54.5 990,-90.5\"/>\n<text text-anchor=\"middle\" x=\"1033\" y=\"-68.8\" font-family=\"Times New Roman,serif\" font-size=\"14.00\">data &#45;8.0000</text>\n<polyline fill=\"none\" stroke=\"black\" points=\"1076,-54.5 1076,-90.5\"/>\n<text text-anchor=\"middle\" x=\"1117.5\" y=\"-68.8\" font-family=\"Times New Roman,serif\" font-size=\"14.00\">grad 1.0000</text>\n</g>\n<!-- 2131637803328*&#45;&gt;2131637803328 -->\n<g id=\"edge3\" class=\"edge\">\n<title>2131637803328*&#45;&gt;2131637803328</title>\n<path fill=\"none\" stroke=\"black\" d=\"M929.45,-72.5C936.67,-72.5 944.97,-72.5 953.82,-72.5\"/>\n<polygon fill=\"black\" stroke=\"black\" points=\"953.75,-76 963.75,-72.5 953.75,-69 953.75,-76\"/>\n</g>\n<!-- 2131637801312 -->\n<g id=\"node9\" class=\"node\">\n<title>2131637801312</title>\n<polygon fill=\"none\" stroke=\"black\" points=\"5,-28.5 5,-64.5 192,-64.5 192,-28.5 5,-28.5\"/>\n<text text-anchor=\"middle\" x=\"16.5\" y=\"-42.8\" font-family=\"Times New Roman,serif\" font-size=\"14.00\">a</text>\n<polyline fill=\"none\" stroke=\"black\" points=\"28,-28.5 28,-64.5\"/>\n<text text-anchor=\"middle\" x=\"68.5\" y=\"-42.8\" font-family=\"Times New Roman,serif\" font-size=\"14.00\">data 2.0000</text>\n<polyline fill=\"none\" stroke=\"black\" points=\"109,-28.5 109,-64.5\"/>\n<text text-anchor=\"middle\" x=\"150.5\" y=\"-42.8\" font-family=\"Times New Roman,serif\" font-size=\"14.00\">grad 6.0000</text>\n</g>\n<!-- 2131637801312&#45;&gt;2131602099312* -->\n<g id=\"edge5\" class=\"edge\">\n<title>2131637801312&#45;&gt;2131602099312*</title>\n<path fill=\"none\" stroke=\"black\" d=\"M191.82,-62.13C202.57,-63.95 213.01,-65.72 222.33,-67.29\"/>\n<polygon fill=\"black\" stroke=\"black\" points=\"221.54,-70.71 231.98,-68.93 222.71,-63.81 221.54,-70.71\"/>\n</g>\n<!-- 2130941243344 -->\n<g id=\"node10\" class=\"node\">\n<title>2130941243344</title>\n<polygon fill=\"none\" stroke=\"black\" points=\"323,-0.5 323,-36.5 521,-36.5 521,-0.5 323,-0.5\"/>\n<text text-anchor=\"middle\" x=\"334.5\" y=\"-14.8\" font-family=\"Times New Roman,serif\" font-size=\"14.00\">c</text>\n<polyline fill=\"none\" stroke=\"black\" points=\"346,-0.5 346,-36.5\"/>\n<text text-anchor=\"middle\" x=\"390\" y=\"-14.8\" font-family=\"Times New Roman,serif\" font-size=\"14.00\">data 10.0000</text>\n<polyline fill=\"none\" stroke=\"black\" points=\"434,-0.5 434,-36.5\"/>\n<text text-anchor=\"middle\" x=\"477.5\" y=\"-14.8\" font-family=\"Times New Roman,serif\" font-size=\"14.00\">grad &#45;2.0000</text>\n</g>\n<!-- 2130941243344&#45;&gt;2131637803520+ -->\n<g id=\"edge6\" class=\"edge\">\n<title>2130941243344&#45;&gt;2131637803520+</title>\n<path fill=\"none\" stroke=\"black\" d=\"M520.68,-34.98C529.67,-36.5 538.34,-37.96 546.22,-39.29\"/>\n<polygon fill=\"black\" stroke=\"black\" points=\"545.56,-42.73 556,-40.94 546.72,-35.83 545.56,-42.73\"/>\n</g>\n</g>\n</svg>\n",
      "text/plain": [
       "<graphviz.graphs.Digraph at 0x1f04d5b7a30>"
      ]
     },
     "execution_count": 20,
     "metadata": {},
     "output_type": "execute_result"
    }
   ],
   "source": [
    "a.grad=6.0\n",
    "b.grad = -4.0\n",
    "draw_dot(L)"
   ]
  },
  {
   "attachments": {},
   "cell_type": "markdown",
   "metadata": {},
   "source": [
    "Backpropogation is just recursive application of Chain Rule"
   ]
  },
  {
   "attachments": {},
   "cell_type": "markdown",
   "metadata": {},
   "source": [
    "Now we our going to nudge our inputs to try to make L go up"
   ]
  },
  {
   "cell_type": "code",
   "execution_count": 21,
   "metadata": {},
   "outputs": [
    {
     "data": {
      "image/svg+xml": "<?xml version=\"1.0\" encoding=\"UTF-8\" standalone=\"no\"?>\n<!DOCTYPE svg PUBLIC \"-//W3C//DTD SVG 1.1//EN\"\n \"http://www.w3.org/Graphics/SVG/1.1/DTD/svg11.dtd\">\n<!-- Generated by graphviz version 7.1.0 (20230121.1956)\n -->\n<!-- Pages: 1 -->\n<svg width=\"1153pt\" height=\"128pt\"\n viewBox=\"0.00 0.00 1153.00 128.00\" xmlns=\"http://www.w3.org/2000/svg\" xmlns:xlink=\"http://www.w3.org/1999/xlink\">\n<g id=\"graph0\" class=\"graph\" transform=\"scale(1 1) rotate(0) translate(4 124)\">\n<polygon fill=\"white\" stroke=\"none\" points=\"-4,4 -4,-124 1149,-124 1149,4 -4,4\"/>\n<!-- 2131637847040 -->\n<g id=\"node1\" class=\"node\">\n<title>2131637847040</title>\n<polygon fill=\"none\" stroke=\"black\" points=\"643,-27.5 643,-63.5 827,-63.5 827,-27.5 643,-27.5\"/>\n<text text-anchor=\"middle\" x=\"653\" y=\"-41.8\" font-family=\"Times New Roman,serif\" font-size=\"14.00\"> </text>\n<polyline fill=\"none\" stroke=\"black\" points=\"663,-27.5 663,-63.5\"/>\n<text text-anchor=\"middle\" x=\"703.5\" y=\"-41.8\" font-family=\"Times New Roman,serif\" font-size=\"14.00\">data 3.7176</text>\n<polyline fill=\"none\" stroke=\"black\" points=\"744,-27.5 744,-63.5\"/>\n<text text-anchor=\"middle\" x=\"785.5\" y=\"-41.8\" font-family=\"Times New Roman,serif\" font-size=\"14.00\">grad 0.0000</text>\n</g>\n<!-- 2131637848240* -->\n<g id=\"node5\" class=\"node\">\n<title>2131637848240*</title>\n<ellipse fill=\"none\" stroke=\"black\" cx=\"893\" cy=\"-72.5\" rx=\"27\" ry=\"18\"/>\n<text text-anchor=\"middle\" x=\"893\" y=\"-68.8\" font-family=\"Times New Roman,serif\" font-size=\"14.00\">*</text>\n</g>\n<!-- 2131637847040&#45;&gt;2131637848240* -->\n<g id=\"edge4\" class=\"edge\">\n<title>2131637847040&#45;&gt;2131637848240*</title>\n<path fill=\"none\" stroke=\"black\" d=\"M826.75,-61.21C836.79,-62.94 846.55,-64.63 855.32,-66.15\"/>\n<polygon fill=\"black\" stroke=\"black\" points=\"854.67,-69.59 865.12,-67.85 855.87,-62.69 854.67,-69.59\"/>\n</g>\n<!-- 2131637847040+ -->\n<g id=\"node2\" class=\"node\">\n<title>2131637847040+</title>\n<ellipse fill=\"none\" stroke=\"black\" cx=\"577\" cy=\"-45.5\" rx=\"27\" ry=\"18\"/>\n<text text-anchor=\"middle\" x=\"577\" y=\"-41.8\" font-family=\"Times New Roman,serif\" font-size=\"14.00\">+</text>\n</g>\n<!-- 2131637847040+&#45;&gt;2131637847040 -->\n<g id=\"edge1\" class=\"edge\">\n<title>2131637847040+&#45;&gt;2131637847040</title>\n<path fill=\"none\" stroke=\"black\" d=\"M604.46,-45.5C612.48,-45.5 621.82,-45.5 631.74,-45.5\"/>\n<polygon fill=\"black\" stroke=\"black\" points=\"631.63,-49 641.63,-45.5 631.63,-42 631.63,-49\"/>\n</g>\n<!-- 2131637804192 -->\n<g id=\"node3\" class=\"node\">\n<title>2131637804192</title>\n<polygon fill=\"none\" stroke=\"black\" points=\"0,-83.5 0,-119.5 197,-119.5 197,-83.5 0,-83.5\"/>\n<text text-anchor=\"middle\" x=\"12\" y=\"-97.8\" font-family=\"Times New Roman,serif\" font-size=\"14.00\">b</text>\n<polyline fill=\"none\" stroke=\"black\" points=\"24,-83.5 24,-119.5\"/>\n<text text-anchor=\"middle\" x=\"67\" y=\"-97.8\" font-family=\"Times New Roman,serif\" font-size=\"14.00\">data &#45;3.0400</text>\n<polyline fill=\"none\" stroke=\"black\" points=\"110,-83.5 110,-119.5\"/>\n<text text-anchor=\"middle\" x=\"153.5\" y=\"-97.8\" font-family=\"Times New Roman,serif\" font-size=\"14.00\">grad &#45;4.0000</text>\n</g>\n<!-- 2131637847760* -->\n<g id=\"node8\" class=\"node\">\n<title>2131637847760*</title>\n<ellipse fill=\"none\" stroke=\"black\" cx=\"260\" cy=\"-73.5\" rx=\"27\" ry=\"18\"/>\n<text text-anchor=\"middle\" x=\"260\" y=\"-69.8\" font-family=\"Times New Roman,serif\" font-size=\"14.00\">*</text>\n</g>\n<!-- 2131637804192&#45;&gt;2131637847760* -->\n<g id=\"edge8\" class=\"edge\">\n<title>2131637804192&#45;&gt;2131637847760*</title>\n<path fill=\"none\" stroke=\"black\" d=\"M196.88,-84.41C205.84,-82.83 214.48,-81.32 222.33,-79.94\"/>\n<polygon fill=\"black\" stroke=\"black\" points=\"222.84,-83.4 232.08,-78.23 221.63,-76.51 222.84,-83.4\"/>\n</g>\n<!-- 2131637848240 -->\n<g id=\"node4\" class=\"node\">\n<title>2131637848240</title>\n<polygon fill=\"none\" stroke=\"black\" points=\"956,-54.5 956,-90.5 1145,-90.5 1145,-54.5 956,-54.5\"/>\n<text text-anchor=\"middle\" x=\"966\" y=\"-68.8\" font-family=\"Times New Roman,serif\" font-size=\"14.00\"> </text>\n<polyline fill=\"none\" stroke=\"black\" points=\"976,-54.5 976,-90.5\"/>\n<text text-anchor=\"middle\" x=\"1019\" y=\"-68.8\" font-family=\"Times New Roman,serif\" font-size=\"14.00\">data &#45;7.2865</text>\n<polyline fill=\"none\" stroke=\"black\" points=\"1062,-54.5 1062,-90.5\"/>\n<text text-anchor=\"middle\" x=\"1103.5\" y=\"-68.8\" font-family=\"Times New Roman,serif\" font-size=\"14.00\">grad 0.0000</text>\n</g>\n<!-- 2131637848240*&#45;&gt;2131637848240 -->\n<g id=\"edge2\" class=\"edge\">\n<title>2131637848240*&#45;&gt;2131637848240</title>\n<path fill=\"none\" stroke=\"black\" d=\"M920.38,-72.5C927.63,-72.5 935.96,-72.5 944.82,-72.5\"/>\n<polygon fill=\"black\" stroke=\"black\" points=\"944.77,-76 954.77,-72.5 944.77,-69 944.77,-76\"/>\n</g>\n<!-- 2131637331616 -->\n<g id=\"node6\" class=\"node\">\n<title>2131637331616</title>\n<polygon fill=\"none\" stroke=\"black\" points=\"640,-82.5 640,-118.5 830,-118.5 830,-82.5 640,-82.5\"/>\n<text text-anchor=\"middle\" x=\"650.5\" y=\"-96.8\" font-family=\"Times New Roman,serif\" font-size=\"14.00\">f</text>\n<polyline fill=\"none\" stroke=\"black\" points=\"661,-82.5 661,-118.5\"/>\n<text text-anchor=\"middle\" x=\"704\" y=\"-96.8\" font-family=\"Times New Roman,serif\" font-size=\"14.00\">data &#45;1.9600</text>\n<polyline fill=\"none\" stroke=\"black\" points=\"747,-82.5 747,-118.5\"/>\n<text text-anchor=\"middle\" x=\"788.5\" y=\"-96.8\" font-family=\"Times New Roman,serif\" font-size=\"14.00\">grad 4.0000</text>\n</g>\n<!-- 2131637331616&#45;&gt;2131637848240* -->\n<g id=\"edge5\" class=\"edge\">\n<title>2131637331616&#45;&gt;2131637848240*</title>\n<path fill=\"none\" stroke=\"black\" d=\"M829.9,-83.65C838.81,-82.05 847.43,-80.5 855.28,-79.09\"/>\n<polygon fill=\"black\" stroke=\"black\" points=\"855.8,-82.55 865.02,-77.34 854.56,-75.66 855.8,-82.55\"/>\n</g>\n<!-- 2131637847760 -->\n<g id=\"node7\" class=\"node\">\n<title>2131637847760</title>\n<polygon fill=\"none\" stroke=\"black\" points=\"324,-55.5 324,-91.5 513,-91.5 513,-55.5 324,-55.5\"/>\n<text text-anchor=\"middle\" x=\"334\" y=\"-69.8\" font-family=\"Times New Roman,serif\" font-size=\"14.00\"> </text>\n<polyline fill=\"none\" stroke=\"black\" points=\"344,-55.5 344,-91.5\"/>\n<text text-anchor=\"middle\" x=\"387\" y=\"-69.8\" font-family=\"Times New Roman,serif\" font-size=\"14.00\">data &#45;6.2624</text>\n<polyline fill=\"none\" stroke=\"black\" points=\"430,-55.5 430,-91.5\"/>\n<text text-anchor=\"middle\" x=\"471.5\" y=\"-69.8\" font-family=\"Times New Roman,serif\" font-size=\"14.00\">grad 0.0000</text>\n</g>\n<!-- 2131637847760&#45;&gt;2131637847040+ -->\n<g id=\"edge9\" class=\"edge\">\n<title>2131637847760&#45;&gt;2131637847040+</title>\n<path fill=\"none\" stroke=\"black\" d=\"M512.8,-56.81C522.12,-55.14 531.15,-53.52 539.32,-52.06\"/>\n<polygon fill=\"black\" stroke=\"black\" points=\"539.91,-55.51 549.13,-50.31 538.67,-48.62 539.91,-55.51\"/>\n</g>\n<!-- 2131637847760*&#45;&gt;2131637847760 -->\n<g id=\"edge3\" class=\"edge\">\n<title>2131637847760*&#45;&gt;2131637847760</title>\n<path fill=\"none\" stroke=\"black\" d=\"M287.19,-73.5C294.68,-73.5 303.33,-73.5 312.54,-73.5\"/>\n<polygon fill=\"black\" stroke=\"black\" points=\"312.5,-77 322.5,-73.5 312.5,-70 312.5,-77\"/>\n</g>\n<!-- 2131637801312 -->\n<g id=\"node9\" class=\"node\">\n<title>2131637801312</title>\n<polygon fill=\"none\" stroke=\"black\" points=\"5,-28.5 5,-64.5 192,-64.5 192,-28.5 5,-28.5\"/>\n<text text-anchor=\"middle\" x=\"16.5\" y=\"-42.8\" font-family=\"Times New Roman,serif\" font-size=\"14.00\">a</text>\n<polyline fill=\"none\" stroke=\"black\" points=\"28,-28.5 28,-64.5\"/>\n<text text-anchor=\"middle\" x=\"68.5\" y=\"-42.8\" font-family=\"Times New Roman,serif\" font-size=\"14.00\">data 2.0600</text>\n<polyline fill=\"none\" stroke=\"black\" points=\"109,-28.5 109,-64.5\"/>\n<text text-anchor=\"middle\" x=\"150.5\" y=\"-42.8\" font-family=\"Times New Roman,serif\" font-size=\"14.00\">grad 6.0000</text>\n</g>\n<!-- 2131637801312&#45;&gt;2131637847760* -->\n<g id=\"edge7\" class=\"edge\">\n<title>2131637801312&#45;&gt;2131637847760*</title>\n<path fill=\"none\" stroke=\"black\" d=\"M191.82,-62.13C202.57,-63.95 213.01,-65.72 222.33,-67.29\"/>\n<polygon fill=\"black\" stroke=\"black\" points=\"221.54,-70.71 231.98,-68.93 222.71,-63.81 221.54,-70.71\"/>\n</g>\n<!-- 2130941243344 -->\n<g id=\"node10\" class=\"node\">\n<title>2130941243344</title>\n<polygon fill=\"none\" stroke=\"black\" points=\"323,-0.5 323,-36.5 514,-36.5 514,-0.5 323,-0.5\"/>\n<text text-anchor=\"middle\" x=\"334.5\" y=\"-14.8\" font-family=\"Times New Roman,serif\" font-size=\"14.00\">c</text>\n<polyline fill=\"none\" stroke=\"black\" points=\"346,-0.5 346,-36.5\"/>\n<text text-anchor=\"middle\" x=\"386.5\" y=\"-14.8\" font-family=\"Times New Roman,serif\" font-size=\"14.00\">data 9.9800</text>\n<polyline fill=\"none\" stroke=\"black\" points=\"427,-0.5 427,-36.5\"/>\n<text text-anchor=\"middle\" x=\"470.5\" y=\"-14.8\" font-family=\"Times New Roman,serif\" font-size=\"14.00\">grad &#45;2.0000</text>\n</g>\n<!-- 2130941243344&#45;&gt;2131637847040+ -->\n<g id=\"edge6\" class=\"edge\">\n<title>2130941243344&#45;&gt;2131637847040+</title>\n<path fill=\"none\" stroke=\"black\" d=\"M513.7,-34.75C522.64,-36.29 531.29,-37.79 539.16,-39.14\"/>\n<polygon fill=\"black\" stroke=\"black\" points=\"538.49,-42.58 548.94,-40.83 539.68,-35.68 538.49,-42.58\"/>\n</g>\n</g>\n</svg>\n",
      "text/plain": [
       "<graphviz.graphs.Digraph at 0x1f04f844670>"
      ]
     },
     "execution_count": 21,
     "metadata": {},
     "output_type": "execute_result"
    }
   ],
   "source": [
    "a.data += 0.01 * a.grad\n",
    "b.data += 0.01 * b.grad\n",
    "c.data += 0.01 * c.grad\n",
    "\n",
    "f.data += 0.01 * f.grad\n",
    "# Implementing the forward pass again\n",
    "e = a*b\n",
    "d= e+c\n",
    "L = d*f\n",
    "draw_dot(L)"
   ]
  },
  {
   "attachments": {},
   "cell_type": "markdown",
   "metadata": {},
   "source": [
    "## Backpropogation Through a Neuron below:\n"
   ]
  },
  {
   "cell_type": "code",
   "execution_count": 22,
   "metadata": {},
   "outputs": [
    {
     "data": {
      "image/png": "[encoded data removed]",
      "text/plain": [
       "<Figure size 640x480 with 1 Axes>"
      ]
     },
     "metadata": {},
     "output_type": "display_data"
    }
   ],
   "source": [
    "plt.plot(np.arange(-5,5,0.2),np.tanh(np.arange(-5,5,0.2)));plt.grid();"
   ]
  },
  {
   "attachments": {},
   "cell_type": "markdown",
   "metadata": {},
   "source": [
    "Redefine our Value class to add exponentiation to implement tanh activation function"
   ]
  },
  {
   "cell_type": "code",
   "execution_count": 23,
   "metadata": {},
   "outputs": [],
   "source": [
    "class Value:\n",
    "    def __init__(self,data,_children=(),_op='',label=''):\n",
    "        self.data = data\n",
    "        self.grad = 0.0 # means no effect, ie at initialisation every value does not effect the output\n",
    "        self._prev = set(_children)\n",
    "        self._op = _op\n",
    "        self.label = label\n",
    "    def __repr__(self):\n",
    "        return f\"Value(data={self.data})\"\n",
    "    def __add__(self,other):\n",
    "        out = Value(self.data+other.data,(self,other),'+')\n",
    "        return out\n",
    "    def __mul__(self,other):\n",
    "        out = Value(self.data*other.data,(self,other),'*')\n",
    "        return out\n",
    "    #Implementing tanh function\n",
    "    def tanh(self):\n",
    "        n = self.data\n",
    "        t=(math.exp(2*n)-1)/(math.exp(2*n)+1)#tanh function \n",
    "        out = Value(t,(self,),'tanh')\n",
    "        return out\n",
    "        "
   ]
  },
  {
   "cell_type": "code",
   "execution_count": 24,
   "metadata": {},
   "outputs": [
    {
     "data": {
      "image/svg+xml": "<?xml version=\"1.0\" encoding=\"UTF-8\" standalone=\"no\"?>\n<!DOCTYPE svg PUBLIC \"-//W3C//DTD SVG 1.1//EN\"\n \"http://www.w3.org/Graphics/SVG/1.1/DTD/svg11.dtd\">\n<!-- Generated by graphviz version 7.1.0 (20230121.1956)\n -->\n<!-- Pages: 1 -->\n<svg width=\"1255pt\" height=\"210pt\"\n viewBox=\"0.00 0.00 1255.00 210.00\" xmlns=\"http://www.w3.org/2000/svg\" xmlns:xlink=\"http://www.w3.org/1999/xlink\">\n<g id=\"graph0\" class=\"graph\" transform=\"scale(1 1) rotate(0) translate(4 206)\">\n<polygon fill=\"white\" stroke=\"none\" points=\"-4,4 -4,-206 1251,-206 1251,4 -4,4\"/>\n<!-- 2130941469312 -->\n<g id=\"node1\" class=\"node\">\n<title>2130941469312</title>\n<polygon fill=\"none\" stroke=\"black\" points=\"330.5,-55.5 330.5,-91.5 547.5,-91.5 547.5,-55.5 330.5,-55.5\"/>\n<text text-anchor=\"middle\" x=\"357\" y=\"-69.8\" font-family=\"Times New Roman,serif\" font-size=\"14.00\">x2*w2</text>\n<polyline fill=\"none\" stroke=\"black\" points=\"383.5,-55.5 383.5,-91.5\"/>\n<text text-anchor=\"middle\" x=\"424\" y=\"-69.8\" font-family=\"Times New Roman,serif\" font-size=\"14.00\">data 0.0000</text>\n<polyline fill=\"none\" stroke=\"black\" points=\"464.5,-55.5 464.5,-91.5\"/>\n<text text-anchor=\"middle\" x=\"506\" y=\"-69.8\" font-family=\"Times New Roman,serif\" font-size=\"14.00\">grad 0.0000</text>\n</g>\n<!-- 2131603098496+ -->\n<g id=\"node11\" class=\"node\">\n<title>2131603098496+</title>\n<ellipse fill=\"none\" stroke=\"black\" cx=\"613\" cy=\"-100.5\" rx=\"27\" ry=\"18\"/>\n<text text-anchor=\"middle\" x=\"613\" y=\"-96.8\" font-family=\"Times New Roman,serif\" font-size=\"14.00\">+</text>\n</g>\n<!-- 2130941469312&#45;&gt;2131603098496+ -->\n<g id=\"edge10\" class=\"edge\">\n<title>2130941469312&#45;&gt;2131603098496+</title>\n<path fill=\"none\" stroke=\"black\" d=\"M547.46,-90.37C557.25,-91.91 566.64,-93.38 575.08,-94.7\"/>\n<polygon fill=\"black\" stroke=\"black\" points=\"574.41,-98.14 584.83,-96.23 575.49,-91.23 574.41,-98.14\"/>\n</g>\n<!-- 2130941469312* -->\n<g id=\"node2\" class=\"node\">\n<title>2130941469312*</title>\n<ellipse fill=\"none\" stroke=\"black\" cx=\"265\" cy=\"-73.5\" rx=\"27\" ry=\"18\"/>\n<text text-anchor=\"middle\" x=\"265\" y=\"-69.8\" font-family=\"Times New Roman,serif\" font-size=\"14.00\">*</text>\n</g>\n<!-- 2130941469312*&#45;&gt;2130941469312 -->\n<g id=\"edge1\" class=\"edge\">\n<title>2130941469312*&#45;&gt;2130941469312</title>\n<path fill=\"none\" stroke=\"black\" d=\"M292.5,-73.5C300.37,-73.5 309.55,-73.5 319.4,-73.5\"/>\n<polygon fill=\"black\" stroke=\"black\" points=\"319.25,-77 329.25,-73.5 319.25,-70 319.25,-77\"/>\n</g>\n<!-- 2131603040384 -->\n<g id=\"node3\" class=\"node\">\n<title>2131603040384</title>\n<polygon fill=\"none\" stroke=\"black\" points=\"4,-165.5 4,-201.5 198,-201.5 198,-165.5 4,-165.5\"/>\n<text text-anchor=\"middle\" x=\"19\" y=\"-179.8\" font-family=\"Times New Roman,serif\" font-size=\"14.00\">x1</text>\n<polyline fill=\"none\" stroke=\"black\" points=\"34,-165.5 34,-201.5\"/>\n<text text-anchor=\"middle\" x=\"74.5\" y=\"-179.8\" font-family=\"Times New Roman,serif\" font-size=\"14.00\">data 2.0000</text>\n<polyline fill=\"none\" stroke=\"black\" points=\"115,-165.5 115,-201.5\"/>\n<text text-anchor=\"middle\" x=\"156.5\" y=\"-179.8\" font-family=\"Times New Roman,serif\" font-size=\"14.00\">grad 0.0000</text>\n</g>\n<!-- 2131603098592* -->\n<g id=\"node13\" class=\"node\">\n<title>2131603098592*</title>\n<ellipse fill=\"none\" stroke=\"black\" cx=\"265\" cy=\"-128.5\" rx=\"27\" ry=\"18\"/>\n<text text-anchor=\"middle\" x=\"265\" y=\"-124.8\" font-family=\"Times New Roman,serif\" font-size=\"14.00\">*</text>\n</g>\n<!-- 2131603040384&#45;&gt;2131603098592* -->\n<g id=\"edge5\" class=\"edge\">\n<title>2131603040384&#45;&gt;2131603098592*</title>\n<path fill=\"none\" stroke=\"black\" d=\"M173.99,-165.56C183.48,-162.75 193.03,-159.71 202,-156.5 212.1,-152.88 222.83,-148.31 232.49,-143.91\"/>\n<polygon fill=\"black\" stroke=\"black\" points=\"233.88,-147.12 241.46,-139.72 230.92,-140.78 233.88,-147.12\"/>\n</g>\n<!-- 2131603039424 -->\n<g id=\"node4\" class=\"node\">\n<title>2131603039424</title>\n<polygon fill=\"none\" stroke=\"black\" points=\"2.5,-55.5 2.5,-91.5 199.5,-91.5 199.5,-55.5 2.5,-55.5\"/>\n<text text-anchor=\"middle\" x=\"19\" y=\"-69.8\" font-family=\"Times New Roman,serif\" font-size=\"14.00\">w2</text>\n<polyline fill=\"none\" stroke=\"black\" points=\"35.5,-55.5 35.5,-91.5\"/>\n<text text-anchor=\"middle\" x=\"76\" y=\"-69.8\" font-family=\"Times New Roman,serif\" font-size=\"14.00\">data 1.0000</text>\n<polyline fill=\"none\" stroke=\"black\" points=\"116.5,-55.5 116.5,-91.5\"/>\n<text text-anchor=\"middle\" x=\"158\" y=\"-69.8\" font-family=\"Times New Roman,serif\" font-size=\"14.00\">grad 0.0000</text>\n</g>\n<!-- 2131603039424&#45;&gt;2130941469312* -->\n<g id=\"edge6\" class=\"edge\">\n<title>2131603039424&#45;&gt;2130941469312*</title>\n<path fill=\"none\" stroke=\"black\" d=\"M199.04,-73.5C208.66,-73.5 217.96,-73.5 226.38,-73.5\"/>\n<polygon fill=\"black\" stroke=\"black\" points=\"226.12,-77 236.12,-73.5 226.12,-70 226.12,-77\"/>\n</g>\n<!-- 2131603098304 -->\n<g id=\"node5\" class=\"node\">\n<title>2131603098304</title>\n<polygon fill=\"none\" stroke=\"black\" points=\"711,-137.5 711,-173.5 899,-173.5 899,-137.5 711,-137.5\"/>\n<text text-anchor=\"middle\" x=\"723\" y=\"-151.8\" font-family=\"Times New Roman,serif\" font-size=\"14.00\">b</text>\n<polyline fill=\"none\" stroke=\"black\" points=\"735,-137.5 735,-173.5\"/>\n<text text-anchor=\"middle\" x=\"775.5\" y=\"-151.8\" font-family=\"Times New Roman,serif\" font-size=\"14.00\">data 8.0000</text>\n<polyline fill=\"none\" stroke=\"black\" points=\"816,-137.5 816,-173.5\"/>\n<text text-anchor=\"middle\" x=\"857.5\" y=\"-151.8\" font-family=\"Times New Roman,serif\" font-size=\"14.00\">grad 0.0000</text>\n</g>\n<!-- 2131637847328+ -->\n<g id=\"node8\" class=\"node\">\n<title>2131637847328+</title>\n<ellipse fill=\"none\" stroke=\"black\" cx=\"997\" cy=\"-127.5\" rx=\"27\" ry=\"18\"/>\n<text text-anchor=\"middle\" x=\"997\" y=\"-123.8\" font-family=\"Times New Roman,serif\" font-size=\"14.00\">+</text>\n</g>\n<!-- 2131603098304&#45;&gt;2131637847328+ -->\n<g id=\"edge11\" class=\"edge\">\n<title>2131603098304&#45;&gt;2131637847328+</title>\n<path fill=\"none\" stroke=\"black\" d=\"M898.77,-141.83C920.2,-138.67 941.79,-135.49 959.15,-132.93\"/>\n<polygon fill=\"black\" stroke=\"black\" points=\"959.57,-136.41 968.95,-131.49 958.55,-129.48 959.57,-136.41\"/>\n</g>\n<!-- 2131603039472 -->\n<g id=\"node6\" class=\"node\">\n<title>2131603039472</title>\n<polygon fill=\"none\" stroke=\"black\" points=\"4,-0.5 4,-36.5 198,-36.5 198,-0.5 4,-0.5\"/>\n<text text-anchor=\"middle\" x=\"19\" y=\"-14.8\" font-family=\"Times New Roman,serif\" font-size=\"14.00\">x2</text>\n<polyline fill=\"none\" stroke=\"black\" points=\"34,-0.5 34,-36.5\"/>\n<text text-anchor=\"middle\" x=\"74.5\" y=\"-14.8\" font-family=\"Times New Roman,serif\" font-size=\"14.00\">data 0.0000</text>\n<polyline fill=\"none\" stroke=\"black\" points=\"115,-0.5 115,-36.5\"/>\n<text text-anchor=\"middle\" x=\"156.5\" y=\"-14.8\" font-family=\"Times New Roman,serif\" font-size=\"14.00\">grad 0.0000</text>\n</g>\n<!-- 2131603039472&#45;&gt;2130941469312* -->\n<g id=\"edge9\" class=\"edge\">\n<title>2131603039472&#45;&gt;2130941469312*</title>\n<path fill=\"none\" stroke=\"black\" d=\"M170.98,-36.47C181.45,-39.58 192.06,-42.96 202,-46.5 211.97,-50.05 222.6,-54.44 232.19,-58.65\"/>\n<polygon fill=\"black\" stroke=\"black\" points=\"230.55,-61.75 241.11,-62.64 233.41,-55.36 230.55,-61.75\"/>\n</g>\n<!-- 2131637847328 -->\n<g id=\"node7\" class=\"node\">\n<title>2131637847328</title>\n<polygon fill=\"none\" stroke=\"black\" points=\"1060,-109.5 1060,-145.5 1247,-145.5 1247,-109.5 1060,-109.5\"/>\n<text text-anchor=\"middle\" x=\"1071.5\" y=\"-123.8\" font-family=\"Times New Roman,serif\" font-size=\"14.00\">n</text>\n<polyline fill=\"none\" stroke=\"black\" points=\"1083,-109.5 1083,-145.5\"/>\n<text text-anchor=\"middle\" x=\"1123.5\" y=\"-123.8\" font-family=\"Times New Roman,serif\" font-size=\"14.00\">data 2.0000</text>\n<polyline fill=\"none\" stroke=\"black\" points=\"1164,-109.5 1164,-145.5\"/>\n<text text-anchor=\"middle\" x=\"1205.5\" y=\"-123.8\" font-family=\"Times New Roman,serif\" font-size=\"14.00\">grad 0.0000</text>\n</g>\n<!-- 2131637847328+&#45;&gt;2131637847328 -->\n<g id=\"edge2\" class=\"edge\">\n<title>2131637847328+&#45;&gt;2131637847328</title>\n<path fill=\"none\" stroke=\"black\" d=\"M1024.21,-127.5C1031.47,-127.5 1039.83,-127.5 1048.71,-127.5\"/>\n<polygon fill=\"black\" stroke=\"black\" points=\"1048.7,-131 1058.7,-127.5 1048.7,-124 1048.7,-131\"/>\n</g>\n<!-- 2131603040048 -->\n<g id=\"node9\" class=\"node\">\n<title>2131603040048</title>\n<polygon fill=\"none\" stroke=\"black\" points=\"0,-110.5 0,-146.5 202,-146.5 202,-110.5 0,-110.5\"/>\n<text text-anchor=\"middle\" x=\"16.5\" y=\"-124.8\" font-family=\"Times New Roman,serif\" font-size=\"14.00\">w1</text>\n<polyline fill=\"none\" stroke=\"black\" points=\"33,-110.5 33,-146.5\"/>\n<text text-anchor=\"middle\" x=\"76\" y=\"-124.8\" font-family=\"Times New Roman,serif\" font-size=\"14.00\">data &#45;3.0000</text>\n<polyline fill=\"none\" stroke=\"black\" points=\"119,-110.5 119,-146.5\"/>\n<text text-anchor=\"middle\" x=\"160.5\" y=\"-124.8\" font-family=\"Times New Roman,serif\" font-size=\"14.00\">grad 0.0000</text>\n</g>\n<!-- 2131603040048&#45;&gt;2131603098592* -->\n<g id=\"edge7\" class=\"edge\">\n<title>2131603040048&#45;&gt;2131603098592*</title>\n<path fill=\"none\" stroke=\"black\" d=\"M201.83,-128.5C210.46,-128.5 218.79,-128.5 226.4,-128.5\"/>\n<polygon fill=\"black\" stroke=\"black\" points=\"226.18,-132 236.18,-128.5 226.18,-125 226.18,-132\"/>\n</g>\n<!-- 2131603098496 -->\n<g id=\"node10\" class=\"node\">\n<title>2131603098496</title>\n<polygon fill=\"none\" stroke=\"black\" points=\"676,-82.5 676,-118.5 934,-118.5 934,-82.5 676,-82.5\"/>\n<text text-anchor=\"middle\" x=\"720.5\" y=\"-96.8\" font-family=\"Times New Roman,serif\" font-size=\"14.00\">x1w1+ x2w2</text>\n<polyline fill=\"none\" stroke=\"black\" points=\"765,-82.5 765,-118.5\"/>\n<text text-anchor=\"middle\" x=\"808\" y=\"-96.8\" font-family=\"Times New Roman,serif\" font-size=\"14.00\">data &#45;6.0000</text>\n<polyline fill=\"none\" stroke=\"black\" points=\"851,-82.5 851,-118.5\"/>\n<text text-anchor=\"middle\" x=\"892.5\" y=\"-96.8\" font-family=\"Times New Roman,serif\" font-size=\"14.00\">grad 0.0000</text>\n</g>\n<!-- 2131603098496&#45;&gt;2131637847328+ -->\n<g id=\"edge12\" class=\"edge\">\n<title>2131603098496&#45;&gt;2131637847328+</title>\n<path fill=\"none\" stroke=\"black\" d=\"M932.47,-118.47C941.92,-119.82 950.91,-121.09 958.99,-122.24\"/>\n<polygon fill=\"black\" stroke=\"black\" points=\"958.23,-125.67 968.63,-123.61 959.22,-118.74 958.23,-125.67\"/>\n</g>\n<!-- 2131603098496+&#45;&gt;2131603098496 -->\n<g id=\"edge3\" class=\"edge\">\n<title>2131603098496+&#45;&gt;2131603098496</title>\n<path fill=\"none\" stroke=\"black\" d=\"M640.42,-100.5C647.6,-100.5 655.89,-100.5 664.86,-100.5\"/>\n<polygon fill=\"black\" stroke=\"black\" points=\"664.59,-104 674.59,-100.5 664.59,-97 664.59,-104\"/>\n</g>\n<!-- 2131603098592 -->\n<g id=\"node12\" class=\"node\">\n<title>2131603098592</title>\n<polygon fill=\"none\" stroke=\"black\" points=\"328,-110.5 328,-146.5 550,-146.5 550,-110.5 328,-110.5\"/>\n<text text-anchor=\"middle\" x=\"354.5\" y=\"-124.8\" font-family=\"Times New Roman,serif\" font-size=\"14.00\">x1*w1</text>\n<polyline fill=\"none\" stroke=\"black\" points=\"381,-110.5 381,-146.5\"/>\n<text text-anchor=\"middle\" x=\"424\" y=\"-124.8\" font-family=\"Times New Roman,serif\" font-size=\"14.00\">data &#45;6.0000</text>\n<polyline fill=\"none\" stroke=\"black\" points=\"467,-110.5 467,-146.5\"/>\n<text text-anchor=\"middle\" x=\"508.5\" y=\"-124.8\" font-family=\"Times New Roman,serif\" font-size=\"14.00\">grad 0.0000</text>\n</g>\n<!-- 2131603098592&#45;&gt;2131603098496+ -->\n<g id=\"edge8\" class=\"edge\">\n<title>2131603098592&#45;&gt;2131603098496+</title>\n<path fill=\"none\" stroke=\"black\" d=\"M549.9,-110.61C558.91,-109.14 567.54,-107.74 575.34,-106.47\"/>\n<polygon fill=\"black\" stroke=\"black\" points=\"575.7,-109.95 585.01,-104.89 574.58,-103.05 575.7,-109.95\"/>\n</g>\n<!-- 2131603098592*&#45;&gt;2131603098592 -->\n<g id=\"edge4\" class=\"edge\">\n<title>2131603098592*&#45;&gt;2131603098592</title>\n<path fill=\"none\" stroke=\"black\" d=\"M292.5,-128.5C299.65,-128.5 307.89,-128.5 316.72,-128.5\"/>\n<polygon fill=\"black\" stroke=\"black\" points=\"316.69,-132 326.68,-128.5 316.68,-125 316.69,-132\"/>\n</g>\n</g>\n</svg>\n",
      "text/plain": [
       "<graphviz.graphs.Digraph at 0x1f04f844310>"
      ]
     },
     "execution_count": 24,
     "metadata": {},
     "output_type": "execute_result"
    }
   ],
   "source": [
    "#inputs - x1,x2\n",
    "x1=Value(2.0,label='x1')\n",
    "x2=Value(0.0,label='x2')\n",
    "# weights- w1,w2\n",
    "w1=Value(-3.0,label='w1')\n",
    "w2=Value(1.0,label='w2')\n",
    "#bias of neuron\n",
    "b=Value(8,label='b')\n",
    "# x1w1 + x2w2 + b\n",
    "x1w1 = x1*w1;x1w1.label='x1*w1'\n",
    "x2w2 = x2*w2;x2w2.label='x2*w2'\n",
    "x1w1x2w2 = x1w1 + x2w2; x1w1x2w2.label='x1w1+ x2w2'\n",
    "n = x1w1x2w2 + b; n.label='n'\n",
    "draw_dot(n)\n"
   ]
  },
  {
   "cell_type": "code",
   "execution_count": 25,
   "metadata": {},
   "outputs": [
    {
     "data": {
      "image/svg+xml": "<?xml version=\"1.0\" encoding=\"UTF-8\" standalone=\"no\"?>\n<!DOCTYPE svg PUBLIC \"-//W3C//DTD SVG 1.1//EN\"\n \"http://www.w3.org/Graphics/SVG/1.1/DTD/svg11.dtd\">\n<!-- Generated by graphviz version 7.1.0 (20230121.1956)\n -->\n<!-- Pages: 1 -->\n<svg width=\"1565pt\" height=\"210pt\"\n viewBox=\"0.00 0.00 1565.00 210.00\" xmlns=\"http://www.w3.org/2000/svg\" xmlns:xlink=\"http://www.w3.org/1999/xlink\">\n<g id=\"graph0\" class=\"graph\" transform=\"scale(1 1) rotate(0) translate(4 206)\">\n<polygon fill=\"white\" stroke=\"none\" points=\"-4,4 -4,-206 1561,-206 1561,4 -4,4\"/>\n<!-- 2130941469312 -->\n<g id=\"node1\" class=\"node\">\n<title>2130941469312</title>\n<polygon fill=\"none\" stroke=\"black\" points=\"330.5,-55.5 330.5,-91.5 547.5,-91.5 547.5,-55.5 330.5,-55.5\"/>\n<text text-anchor=\"middle\" x=\"357\" y=\"-69.8\" font-family=\"Times New Roman,serif\" font-size=\"14.00\">x2*w2</text>\n<polyline fill=\"none\" stroke=\"black\" points=\"383.5,-55.5 383.5,-91.5\"/>\n<text text-anchor=\"middle\" x=\"424\" y=\"-69.8\" font-family=\"Times New Roman,serif\" font-size=\"14.00\">data 0.0000</text>\n<polyline fill=\"none\" stroke=\"black\" points=\"464.5,-55.5 464.5,-91.5\"/>\n<text text-anchor=\"middle\" x=\"506\" y=\"-69.8\" font-family=\"Times New Roman,serif\" font-size=\"14.00\">grad 0.0000</text>\n</g>\n<!-- 2131603098496+ -->\n<g id=\"node11\" class=\"node\">\n<title>2131603098496+</title>\n<ellipse fill=\"none\" stroke=\"black\" cx=\"613\" cy=\"-100.5\" rx=\"27\" ry=\"18\"/>\n<text text-anchor=\"middle\" x=\"613\" y=\"-96.8\" font-family=\"Times New Roman,serif\" font-size=\"14.00\">+</text>\n</g>\n<!-- 2130941469312&#45;&gt;2131603098496+ -->\n<g id=\"edge12\" class=\"edge\">\n<title>2130941469312&#45;&gt;2131603098496+</title>\n<path fill=\"none\" stroke=\"black\" d=\"M547.46,-90.37C557.25,-91.91 566.64,-93.38 575.08,-94.7\"/>\n<polygon fill=\"black\" stroke=\"black\" points=\"574.41,-98.14 584.83,-96.23 575.49,-91.23 574.41,-98.14\"/>\n</g>\n<!-- 2130941469312* -->\n<g id=\"node2\" class=\"node\">\n<title>2130941469312*</title>\n<ellipse fill=\"none\" stroke=\"black\" cx=\"265\" cy=\"-73.5\" rx=\"27\" ry=\"18\"/>\n<text text-anchor=\"middle\" x=\"265\" y=\"-69.8\" font-family=\"Times New Roman,serif\" font-size=\"14.00\">*</text>\n</g>\n<!-- 2130941469312*&#45;&gt;2130941469312 -->\n<g id=\"edge1\" class=\"edge\">\n<title>2130941469312*&#45;&gt;2130941469312</title>\n<path fill=\"none\" stroke=\"black\" d=\"M292.5,-73.5C300.37,-73.5 309.55,-73.5 319.4,-73.5\"/>\n<polygon fill=\"black\" stroke=\"black\" points=\"319.25,-77 329.25,-73.5 319.25,-70 319.25,-77\"/>\n</g>\n<!-- 2131603040384 -->\n<g id=\"node3\" class=\"node\">\n<title>2131603040384</title>\n<polygon fill=\"none\" stroke=\"black\" points=\"4,-165.5 4,-201.5 198,-201.5 198,-165.5 4,-165.5\"/>\n<text text-anchor=\"middle\" x=\"19\" y=\"-179.8\" font-family=\"Times New Roman,serif\" font-size=\"14.00\">x1</text>\n<polyline fill=\"none\" stroke=\"black\" points=\"34,-165.5 34,-201.5\"/>\n<text text-anchor=\"middle\" x=\"74.5\" y=\"-179.8\" font-family=\"Times New Roman,serif\" font-size=\"14.00\">data 2.0000</text>\n<polyline fill=\"none\" stroke=\"black\" points=\"115,-165.5 115,-201.5\"/>\n<text text-anchor=\"middle\" x=\"156.5\" y=\"-179.8\" font-family=\"Times New Roman,serif\" font-size=\"14.00\">grad 0.0000</text>\n</g>\n<!-- 2131603098592* -->\n<g id=\"node15\" class=\"node\">\n<title>2131603098592*</title>\n<ellipse fill=\"none\" stroke=\"black\" cx=\"265\" cy=\"-128.5\" rx=\"27\" ry=\"18\"/>\n<text text-anchor=\"middle\" x=\"265\" y=\"-124.8\" font-family=\"Times New Roman,serif\" font-size=\"14.00\">*</text>\n</g>\n<!-- 2131603040384&#45;&gt;2131603098592* -->\n<g id=\"edge6\" class=\"edge\">\n<title>2131603040384&#45;&gt;2131603098592*</title>\n<path fill=\"none\" stroke=\"black\" d=\"M173.99,-165.56C183.48,-162.75 193.03,-159.71 202,-156.5 212.1,-152.88 222.83,-148.31 232.49,-143.91\"/>\n<polygon fill=\"black\" stroke=\"black\" points=\"233.88,-147.12 241.46,-139.72 230.92,-140.78 233.88,-147.12\"/>\n</g>\n<!-- 2131603039424 -->\n<g id=\"node4\" class=\"node\">\n<title>2131603039424</title>\n<polygon fill=\"none\" stroke=\"black\" points=\"2.5,-55.5 2.5,-91.5 199.5,-91.5 199.5,-55.5 2.5,-55.5\"/>\n<text text-anchor=\"middle\" x=\"19\" y=\"-69.8\" font-family=\"Times New Roman,serif\" font-size=\"14.00\">w2</text>\n<polyline fill=\"none\" stroke=\"black\" points=\"35.5,-55.5 35.5,-91.5\"/>\n<text text-anchor=\"middle\" x=\"76\" y=\"-69.8\" font-family=\"Times New Roman,serif\" font-size=\"14.00\">data 1.0000</text>\n<polyline fill=\"none\" stroke=\"black\" points=\"116.5,-55.5 116.5,-91.5\"/>\n<text text-anchor=\"middle\" x=\"158\" y=\"-69.8\" font-family=\"Times New Roman,serif\" font-size=\"14.00\">grad 0.0000</text>\n</g>\n<!-- 2131603039424&#45;&gt;2130941469312* -->\n<g id=\"edge7\" class=\"edge\">\n<title>2131603039424&#45;&gt;2130941469312*</title>\n<path fill=\"none\" stroke=\"black\" d=\"M199.04,-73.5C208.66,-73.5 217.96,-73.5 226.38,-73.5\"/>\n<polygon fill=\"black\" stroke=\"black\" points=\"226.12,-77 236.12,-73.5 226.12,-70 226.12,-77\"/>\n</g>\n<!-- 2131603098304 -->\n<g id=\"node5\" class=\"node\">\n<title>2131603098304</title>\n<polygon fill=\"none\" stroke=\"black\" points=\"711,-137.5 711,-173.5 899,-173.5 899,-137.5 711,-137.5\"/>\n<text text-anchor=\"middle\" x=\"723\" y=\"-151.8\" font-family=\"Times New Roman,serif\" font-size=\"14.00\">b</text>\n<polyline fill=\"none\" stroke=\"black\" points=\"735,-137.5 735,-173.5\"/>\n<text text-anchor=\"middle\" x=\"775.5\" y=\"-151.8\" font-family=\"Times New Roman,serif\" font-size=\"14.00\">data 8.0000</text>\n<polyline fill=\"none\" stroke=\"black\" points=\"816,-137.5 816,-173.5\"/>\n<text text-anchor=\"middle\" x=\"857.5\" y=\"-151.8\" font-family=\"Times New Roman,serif\" font-size=\"14.00\">grad 0.0000</text>\n</g>\n<!-- 2131637847328+ -->\n<g id=\"node8\" class=\"node\">\n<title>2131637847328+</title>\n<ellipse fill=\"none\" stroke=\"black\" cx=\"997\" cy=\"-127.5\" rx=\"27\" ry=\"18\"/>\n<text text-anchor=\"middle\" x=\"997\" y=\"-123.8\" font-family=\"Times New Roman,serif\" font-size=\"14.00\">+</text>\n</g>\n<!-- 2131603098304&#45;&gt;2131637847328+ -->\n<g id=\"edge13\" class=\"edge\">\n<title>2131603098304&#45;&gt;2131637847328+</title>\n<path fill=\"none\" stroke=\"black\" d=\"M898.77,-141.83C920.2,-138.67 941.79,-135.49 959.15,-132.93\"/>\n<polygon fill=\"black\" stroke=\"black\" points=\"959.57,-136.41 968.95,-131.49 958.55,-129.48 959.57,-136.41\"/>\n</g>\n<!-- 2131603039472 -->\n<g id=\"node6\" class=\"node\">\n<title>2131603039472</title>\n<polygon fill=\"none\" stroke=\"black\" points=\"4,-0.5 4,-36.5 198,-36.5 198,-0.5 4,-0.5\"/>\n<text text-anchor=\"middle\" x=\"19\" y=\"-14.8\" font-family=\"Times New Roman,serif\" font-size=\"14.00\">x2</text>\n<polyline fill=\"none\" stroke=\"black\" points=\"34,-0.5 34,-36.5\"/>\n<text text-anchor=\"middle\" x=\"74.5\" y=\"-14.8\" font-family=\"Times New Roman,serif\" font-size=\"14.00\">data 0.0000</text>\n<polyline fill=\"none\" stroke=\"black\" points=\"115,-0.5 115,-36.5\"/>\n<text text-anchor=\"middle\" x=\"156.5\" y=\"-14.8\" font-family=\"Times New Roman,serif\" font-size=\"14.00\">grad 0.0000</text>\n</g>\n<!-- 2131603039472&#45;&gt;2130941469312* -->\n<g id=\"edge11\" class=\"edge\">\n<title>2131603039472&#45;&gt;2130941469312*</title>\n<path fill=\"none\" stroke=\"black\" d=\"M170.98,-36.47C181.45,-39.58 192.06,-42.96 202,-46.5 211.97,-50.05 222.6,-54.44 232.19,-58.65\"/>\n<polygon fill=\"black\" stroke=\"black\" points=\"230.55,-61.75 241.11,-62.64 233.41,-55.36 230.55,-61.75\"/>\n</g>\n<!-- 2131637847328 -->\n<g id=\"node7\" class=\"node\">\n<title>2131637847328</title>\n<polygon fill=\"none\" stroke=\"black\" points=\"1060,-109.5 1060,-145.5 1247,-145.5 1247,-109.5 1060,-109.5\"/>\n<text text-anchor=\"middle\" x=\"1071.5\" y=\"-123.8\" font-family=\"Times New Roman,serif\" font-size=\"14.00\">n</text>\n<polyline fill=\"none\" stroke=\"black\" points=\"1083,-109.5 1083,-145.5\"/>\n<text text-anchor=\"middle\" x=\"1123.5\" y=\"-123.8\" font-family=\"Times New Roman,serif\" font-size=\"14.00\">data 2.0000</text>\n<polyline fill=\"none\" stroke=\"black\" points=\"1164,-109.5 1164,-145.5\"/>\n<text text-anchor=\"middle\" x=\"1205.5\" y=\"-123.8\" font-family=\"Times New Roman,serif\" font-size=\"14.00\">grad 0.0000</text>\n</g>\n<!-- 2131603040144tanh -->\n<g id=\"node13\" class=\"node\">\n<title>2131603040144tanh</title>\n<ellipse fill=\"none\" stroke=\"black\" cx=\"1310\" cy=\"-127.5\" rx=\"27\" ry=\"18\"/>\n<text text-anchor=\"middle\" x=\"1310\" y=\"-123.8\" font-family=\"Times New Roman,serif\" font-size=\"14.00\">tanh</text>\n</g>\n<!-- 2131637847328&#45;&gt;2131603040144tanh -->\n<g id=\"edge10\" class=\"edge\">\n<title>2131637847328&#45;&gt;2131603040144tanh</title>\n<path fill=\"none\" stroke=\"black\" d=\"M1246.6,-127.5C1255.26,-127.5 1263.65,-127.5 1271.33,-127.5\"/>\n<polygon fill=\"black\" stroke=\"black\" points=\"1271.23,-131 1281.23,-127.5 1271.23,-124 1271.23,-131\"/>\n</g>\n<!-- 2131637847328+&#45;&gt;2131637847328 -->\n<g id=\"edge2\" class=\"edge\">\n<title>2131637847328+&#45;&gt;2131637847328</title>\n<path fill=\"none\" stroke=\"black\" d=\"M1024.21,-127.5C1031.47,-127.5 1039.83,-127.5 1048.71,-127.5\"/>\n<polygon fill=\"black\" stroke=\"black\" points=\"1048.7,-131 1058.7,-127.5 1048.7,-124 1048.7,-131\"/>\n</g>\n<!-- 2131603040048 -->\n<g id=\"node9\" class=\"node\">\n<title>2131603040048</title>\n<polygon fill=\"none\" stroke=\"black\" points=\"0,-110.5 0,-146.5 202,-146.5 202,-110.5 0,-110.5\"/>\n<text text-anchor=\"middle\" x=\"16.5\" y=\"-124.8\" font-family=\"Times New Roman,serif\" font-size=\"14.00\">w1</text>\n<polyline fill=\"none\" stroke=\"black\" points=\"33,-110.5 33,-146.5\"/>\n<text text-anchor=\"middle\" x=\"76\" y=\"-124.8\" font-family=\"Times New Roman,serif\" font-size=\"14.00\">data &#45;3.0000</text>\n<polyline fill=\"none\" stroke=\"black\" points=\"119,-110.5 119,-146.5\"/>\n<text text-anchor=\"middle\" x=\"160.5\" y=\"-124.8\" font-family=\"Times New Roman,serif\" font-size=\"14.00\">grad 0.0000</text>\n</g>\n<!-- 2131603040048&#45;&gt;2131603098592* -->\n<g id=\"edge8\" class=\"edge\">\n<title>2131603040048&#45;&gt;2131603098592*</title>\n<path fill=\"none\" stroke=\"black\" d=\"M201.83,-128.5C210.46,-128.5 218.79,-128.5 226.4,-128.5\"/>\n<polygon fill=\"black\" stroke=\"black\" points=\"226.18,-132 236.18,-128.5 226.18,-125 226.18,-132\"/>\n</g>\n<!-- 2131603098496 -->\n<g id=\"node10\" class=\"node\">\n<title>2131603098496</title>\n<polygon fill=\"none\" stroke=\"black\" points=\"676,-82.5 676,-118.5 934,-118.5 934,-82.5 676,-82.5\"/>\n<text text-anchor=\"middle\" x=\"720.5\" y=\"-96.8\" font-family=\"Times New Roman,serif\" font-size=\"14.00\">x1w1+ x2w2</text>\n<polyline fill=\"none\" stroke=\"black\" points=\"765,-82.5 765,-118.5\"/>\n<text text-anchor=\"middle\" x=\"808\" y=\"-96.8\" font-family=\"Times New Roman,serif\" font-size=\"14.00\">data &#45;6.0000</text>\n<polyline fill=\"none\" stroke=\"black\" points=\"851,-82.5 851,-118.5\"/>\n<text text-anchor=\"middle\" x=\"892.5\" y=\"-96.8\" font-family=\"Times New Roman,serif\" font-size=\"14.00\">grad 0.0000</text>\n</g>\n<!-- 2131603098496&#45;&gt;2131637847328+ -->\n<g id=\"edge14\" class=\"edge\">\n<title>2131603098496&#45;&gt;2131637847328+</title>\n<path fill=\"none\" stroke=\"black\" d=\"M932.47,-118.47C941.92,-119.82 950.91,-121.09 958.99,-122.24\"/>\n<polygon fill=\"black\" stroke=\"black\" points=\"958.23,-125.67 968.63,-123.61 959.22,-118.74 958.23,-125.67\"/>\n</g>\n<!-- 2131603098496+&#45;&gt;2131603098496 -->\n<g id=\"edge3\" class=\"edge\">\n<title>2131603098496+&#45;&gt;2131603098496</title>\n<path fill=\"none\" stroke=\"black\" d=\"M640.42,-100.5C647.6,-100.5 655.89,-100.5 664.86,-100.5\"/>\n<polygon fill=\"black\" stroke=\"black\" points=\"664.59,-104 674.59,-100.5 664.59,-97 664.59,-104\"/>\n</g>\n<!-- 2131603040144 -->\n<g id=\"node12\" class=\"node\">\n<title>2131603040144</title>\n<polygon fill=\"none\" stroke=\"black\" points=\"1373,-109.5 1373,-145.5 1557,-145.5 1557,-109.5 1373,-109.5\"/>\n<text text-anchor=\"middle\" x=\"1383\" y=\"-123.8\" font-family=\"Times New Roman,serif\" font-size=\"14.00\"> </text>\n<polyline fill=\"none\" stroke=\"black\" points=\"1393,-109.5 1393,-145.5\"/>\n<text text-anchor=\"middle\" x=\"1433.5\" y=\"-123.8\" font-family=\"Times New Roman,serif\" font-size=\"14.00\">data 0.9640</text>\n<polyline fill=\"none\" stroke=\"black\" points=\"1474,-109.5 1474,-145.5\"/>\n<text text-anchor=\"middle\" x=\"1515.5\" y=\"-123.8\" font-family=\"Times New Roman,serif\" font-size=\"14.00\">grad 0.0000</text>\n</g>\n<!-- 2131603040144tanh&#45;&gt;2131603040144 -->\n<g id=\"edge4\" class=\"edge\">\n<title>2131603040144tanh&#45;&gt;2131603040144</title>\n<path fill=\"none\" stroke=\"black\" d=\"M1337.3,-127.5C1344.57,-127.5 1352.92,-127.5 1361.8,-127.5\"/>\n<polygon fill=\"black\" stroke=\"black\" points=\"1361.76,-131 1371.76,-127.5 1361.76,-124 1361.76,-131\"/>\n</g>\n<!-- 2131603098592 -->\n<g id=\"node14\" class=\"node\">\n<title>2131603098592</title>\n<polygon fill=\"none\" stroke=\"black\" points=\"328,-110.5 328,-146.5 550,-146.5 550,-110.5 328,-110.5\"/>\n<text text-anchor=\"middle\" x=\"354.5\" y=\"-124.8\" font-family=\"Times New Roman,serif\" font-size=\"14.00\">x1*w1</text>\n<polyline fill=\"none\" stroke=\"black\" points=\"381,-110.5 381,-146.5\"/>\n<text text-anchor=\"middle\" x=\"424\" y=\"-124.8\" font-family=\"Times New Roman,serif\" font-size=\"14.00\">data &#45;6.0000</text>\n<polyline fill=\"none\" stroke=\"black\" points=\"467,-110.5 467,-146.5\"/>\n<text text-anchor=\"middle\" x=\"508.5\" y=\"-124.8\" font-family=\"Times New Roman,serif\" font-size=\"14.00\">grad 0.0000</text>\n</g>\n<!-- 2131603098592&#45;&gt;2131603098496+ -->\n<g id=\"edge9\" class=\"edge\">\n<title>2131603098592&#45;&gt;2131603098496+</title>\n<path fill=\"none\" stroke=\"black\" d=\"M549.9,-110.61C558.91,-109.14 567.54,-107.74 575.34,-106.47\"/>\n<polygon fill=\"black\" stroke=\"black\" points=\"575.7,-109.95 585.01,-104.89 574.58,-103.05 575.7,-109.95\"/>\n</g>\n<!-- 2131603098592*&#45;&gt;2131603098592 -->\n<g id=\"edge5\" class=\"edge\">\n<title>2131603098592*&#45;&gt;2131603098592</title>\n<path fill=\"none\" stroke=\"black\" d=\"M292.5,-128.5C299.65,-128.5 307.89,-128.5 316.72,-128.5\"/>\n<polygon fill=\"black\" stroke=\"black\" points=\"316.69,-132 326.68,-128.5 316.68,-125 316.69,-132\"/>\n</g>\n</g>\n</svg>\n",
      "text/plain": [
       "<graphviz.graphs.Digraph at 0x1f04d7121c0>"
      ]
     },
     "execution_count": 25,
     "metadata": {},
     "output_type": "execute_result"
    }
   ],
   "source": [
    "o = n.tanh()\n",
    "draw_dot(o)"
   ]
  },
  {
   "attachments": {},
   "cell_type": "markdown",
   "metadata": {},
   "source": [
    "tanh squashed the input to 1"
   ]
  },
  {
   "attachments": {},
   "cell_type": "markdown",
   "metadata": {},
   "source": [
    "## Backpropogatiion"
   ]
  },
  {
   "cell_type": "code",
   "execution_count": 26,
   "metadata": {},
   "outputs": [],
   "source": [
    "#inputs - x1,x2\n",
    "x1=Value(2.0,label='x1')\n",
    "x2=Value(0.0,label='x2')\n",
    "# weights- w1,w2\n",
    "w1=Value(-3.0,label='w1')\n",
    "w2=Value(1.0,label='w2')\n",
    "#bias of neuron\n",
    "b=Value(6.8813735870195432,label='b')# this specific number so when doing backprop numbers come out nice\n",
    "# x1w1 + x2w2 + b\n",
    "x1w1 = x1*w1;x1w1.label='x1*w1'\n",
    "x2w2 = x2*w2;x2w2.label='x2*w2'\n",
    "x1w1x2w2 = x1w1 + x2w2; x1w1x2w2.label='x1w1+ x2w2'\n",
    "n = x1w1x2w2 + b; n.label='n'\n",
    "o = n.tanh();o.label='o'\n"
   ]
  },
  {
   "cell_type": "code",
   "execution_count": 27,
   "metadata": {},
   "outputs": [
    {
     "data": {
      "image/svg+xml": "<?xml version=\"1.0\" encoding=\"UTF-8\" standalone=\"no\"?>\n<!DOCTYPE svg PUBLIC \"-//W3C//DTD SVG 1.1//EN\"\n \"http://www.w3.org/Graphics/SVG/1.1/DTD/svg11.dtd\">\n<!-- Generated by graphviz version 7.1.0 (20230121.1956)\n -->\n<!-- Pages: 1 -->\n<svg width=\"1569pt\" height=\"210pt\"\n viewBox=\"0.00 0.00 1569.00 210.00\" xmlns=\"http://www.w3.org/2000/svg\" xmlns:xlink=\"http://www.w3.org/1999/xlink\">\n<g id=\"graph0\" class=\"graph\" transform=\"scale(1 1) rotate(0) translate(4 206)\">\n<polygon fill=\"white\" stroke=\"none\" points=\"-4,4 -4,-206 1565,-206 1565,4 -4,4\"/>\n<!-- 2131603097152 -->\n<g id=\"node1\" class=\"node\">\n<title>2131603097152</title>\n<polygon fill=\"none\" stroke=\"black\" points=\"676,-82.5 676,-118.5 934,-118.5 934,-82.5 676,-82.5\"/>\n<text text-anchor=\"middle\" x=\"720.5\" y=\"-96.8\" font-family=\"Times New Roman,serif\" font-size=\"14.00\">x1w1+ x2w2</text>\n<polyline fill=\"none\" stroke=\"black\" points=\"765,-82.5 765,-118.5\"/>\n<text text-anchor=\"middle\" x=\"808\" y=\"-96.8\" font-family=\"Times New Roman,serif\" font-size=\"14.00\">data &#45;6.0000</text>\n<polyline fill=\"none\" stroke=\"black\" points=\"851,-82.5 851,-118.5\"/>\n<text text-anchor=\"middle\" x=\"892.5\" y=\"-96.8\" font-family=\"Times New Roman,serif\" font-size=\"14.00\">grad 0.0000</text>\n</g>\n<!-- 2131603099360+ -->\n<g id=\"node8\" class=\"node\">\n<title>2131603099360+</title>\n<ellipse fill=\"none\" stroke=\"black\" cx=\"997\" cy=\"-127.5\" rx=\"27\" ry=\"18\"/>\n<text text-anchor=\"middle\" x=\"997\" y=\"-123.8\" font-family=\"Times New Roman,serif\" font-size=\"14.00\">+</text>\n</g>\n<!-- 2131603097152&#45;&gt;2131603099360+ -->\n<g id=\"edge14\" class=\"edge\">\n<title>2131603097152&#45;&gt;2131603099360+</title>\n<path fill=\"none\" stroke=\"black\" d=\"M932.47,-118.47C941.92,-119.82 950.91,-121.09 958.99,-122.24\"/>\n<polygon fill=\"black\" stroke=\"black\" points=\"958.23,-125.67 968.63,-123.61 959.22,-118.74 958.23,-125.67\"/>\n</g>\n<!-- 2131603097152+ -->\n<g id=\"node2\" class=\"node\">\n<title>2131603097152+</title>\n<ellipse fill=\"none\" stroke=\"black\" cx=\"613\" cy=\"-100.5\" rx=\"27\" ry=\"18\"/>\n<text text-anchor=\"middle\" x=\"613\" y=\"-96.8\" font-family=\"Times New Roman,serif\" font-size=\"14.00\">+</text>\n</g>\n<!-- 2131603097152+&#45;&gt;2131603097152 -->\n<g id=\"edge1\" class=\"edge\">\n<title>2131603097152+&#45;&gt;2131603097152</title>\n<path fill=\"none\" stroke=\"black\" d=\"M640.42,-100.5C647.6,-100.5 655.89,-100.5 664.86,-100.5\"/>\n<polygon fill=\"black\" stroke=\"black\" points=\"664.59,-104 674.59,-100.5 664.59,-97 664.59,-104\"/>\n</g>\n<!-- 2131603145296 -->\n<g id=\"node3\" class=\"node\">\n<title>2131603145296</title>\n<polygon fill=\"none\" stroke=\"black\" points=\"4,-55.5 4,-91.5 198,-91.5 198,-55.5 4,-55.5\"/>\n<text text-anchor=\"middle\" x=\"19\" y=\"-69.8\" font-family=\"Times New Roman,serif\" font-size=\"14.00\">x1</text>\n<polyline fill=\"none\" stroke=\"black\" points=\"34,-55.5 34,-91.5\"/>\n<text text-anchor=\"middle\" x=\"74.5\" y=\"-69.8\" font-family=\"Times New Roman,serif\" font-size=\"14.00\">data 2.0000</text>\n<polyline fill=\"none\" stroke=\"black\" points=\"115,-55.5 115,-91.5\"/>\n<text text-anchor=\"middle\" x=\"156.5\" y=\"-69.8\" font-family=\"Times New Roman,serif\" font-size=\"14.00\">grad 0.0000</text>\n</g>\n<!-- 2131603145680* -->\n<g id=\"node14\" class=\"node\">\n<title>2131603145680*</title>\n<ellipse fill=\"none\" stroke=\"black\" cx=\"265\" cy=\"-73.5\" rx=\"27\" ry=\"18\"/>\n<text text-anchor=\"middle\" x=\"265\" y=\"-69.8\" font-family=\"Times New Roman,serif\" font-size=\"14.00\">*</text>\n</g>\n<!-- 2131603145296&#45;&gt;2131603145680* -->\n<g id=\"edge11\" class=\"edge\">\n<title>2131603145296&#45;&gt;2131603145680*</title>\n<path fill=\"none\" stroke=\"black\" d=\"M197.64,-73.5C207.72,-73.5 217.49,-73.5 226.29,-73.5\"/>\n<polygon fill=\"black\" stroke=\"black\" points=\"226.11,-77 236.11,-73.5 226.11,-70 226.11,-77\"/>\n</g>\n<!-- 2131603096720 -->\n<g id=\"node4\" class=\"node\">\n<title>2131603096720</title>\n<polygon fill=\"none\" stroke=\"black\" points=\"330.5,-110.5 330.5,-146.5 547.5,-146.5 547.5,-110.5 330.5,-110.5\"/>\n<text text-anchor=\"middle\" x=\"357\" y=\"-124.8\" font-family=\"Times New Roman,serif\" font-size=\"14.00\">x2*w2</text>\n<polyline fill=\"none\" stroke=\"black\" points=\"383.5,-110.5 383.5,-146.5\"/>\n<text text-anchor=\"middle\" x=\"424\" y=\"-124.8\" font-family=\"Times New Roman,serif\" font-size=\"14.00\">data 0.0000</text>\n<polyline fill=\"none\" stroke=\"black\" points=\"464.5,-110.5 464.5,-146.5\"/>\n<text text-anchor=\"middle\" x=\"506\" y=\"-124.8\" font-family=\"Times New Roman,serif\" font-size=\"14.00\">grad 0.0000</text>\n</g>\n<!-- 2131603096720&#45;&gt;2131603097152+ -->\n<g id=\"edge7\" class=\"edge\">\n<title>2131603096720&#45;&gt;2131603097152+</title>\n<path fill=\"none\" stroke=\"black\" d=\"M547.46,-111.01C557.25,-109.41 566.64,-107.88 575.08,-106.51\"/>\n<polygon fill=\"black\" stroke=\"black\" points=\"575.52,-109.98 584.83,-104.92 574.4,-103.08 575.52,-109.98\"/>\n</g>\n<!-- 2131603096720* -->\n<g id=\"node5\" class=\"node\">\n<title>2131603096720*</title>\n<ellipse fill=\"none\" stroke=\"black\" cx=\"265\" cy=\"-128.5\" rx=\"27\" ry=\"18\"/>\n<text text-anchor=\"middle\" x=\"265\" y=\"-124.8\" font-family=\"Times New Roman,serif\" font-size=\"14.00\">*</text>\n</g>\n<!-- 2131603096720*&#45;&gt;2131603096720 -->\n<g id=\"edge2\" class=\"edge\">\n<title>2131603096720*&#45;&gt;2131603096720</title>\n<path fill=\"none\" stroke=\"black\" d=\"M292.5,-128.5C300.37,-128.5 309.55,-128.5 319.4,-128.5\"/>\n<polygon fill=\"black\" stroke=\"black\" points=\"319.25,-132 329.25,-128.5 319.25,-125 319.25,-132\"/>\n</g>\n<!-- 2131603145392 -->\n<g id=\"node6\" class=\"node\">\n<title>2131603145392</title>\n<polygon fill=\"none\" stroke=\"black\" points=\"0,-0.5 0,-36.5 202,-36.5 202,-0.5 0,-0.5\"/>\n<text text-anchor=\"middle\" x=\"16.5\" y=\"-14.8\" font-family=\"Times New Roman,serif\" font-size=\"14.00\">w1</text>\n<polyline fill=\"none\" stroke=\"black\" points=\"33,-0.5 33,-36.5\"/>\n<text text-anchor=\"middle\" x=\"76\" y=\"-14.8\" font-family=\"Times New Roman,serif\" font-size=\"14.00\">data &#45;3.0000</text>\n<polyline fill=\"none\" stroke=\"black\" points=\"119,-0.5 119,-36.5\"/>\n<text text-anchor=\"middle\" x=\"160.5\" y=\"-14.8\" font-family=\"Times New Roman,serif\" font-size=\"14.00\">grad 0.0000</text>\n</g>\n<!-- 2131603145392&#45;&gt;2131603145680* -->\n<g id=\"edge12\" class=\"edge\">\n<title>2131603145392&#45;&gt;2131603145680*</title>\n<path fill=\"none\" stroke=\"black\" d=\"M170.98,-36.47C181.45,-39.58 192.06,-42.96 202,-46.5 211.97,-50.05 222.6,-54.44 232.19,-58.65\"/>\n<polygon fill=\"black\" stroke=\"black\" points=\"230.55,-61.75 241.11,-62.64 233.41,-55.36 230.55,-61.75\"/>\n</g>\n<!-- 2131603099360 -->\n<g id=\"node7\" class=\"node\">\n<title>2131603099360</title>\n<polygon fill=\"none\" stroke=\"black\" points=\"1060,-109.5 1060,-145.5 1247,-145.5 1247,-109.5 1060,-109.5\"/>\n<text text-anchor=\"middle\" x=\"1071.5\" y=\"-123.8\" font-family=\"Times New Roman,serif\" font-size=\"14.00\">n</text>\n<polyline fill=\"none\" stroke=\"black\" points=\"1083,-109.5 1083,-145.5\"/>\n<text text-anchor=\"middle\" x=\"1123.5\" y=\"-123.8\" font-family=\"Times New Roman,serif\" font-size=\"14.00\">data 0.8814</text>\n<polyline fill=\"none\" stroke=\"black\" points=\"1164,-109.5 1164,-145.5\"/>\n<text text-anchor=\"middle\" x=\"1205.5\" y=\"-123.8\" font-family=\"Times New Roman,serif\" font-size=\"14.00\">grad 0.0000</text>\n</g>\n<!-- 2131603096912tanh -->\n<g id=\"node11\" class=\"node\">\n<title>2131603096912tanh</title>\n<ellipse fill=\"none\" stroke=\"black\" cx=\"1310\" cy=\"-127.5\" rx=\"27\" ry=\"18\"/>\n<text text-anchor=\"middle\" x=\"1310\" y=\"-123.8\" font-family=\"Times New Roman,serif\" font-size=\"14.00\">tanh</text>\n</g>\n<!-- 2131603099360&#45;&gt;2131603096912tanh -->\n<g id=\"edge8\" class=\"edge\">\n<title>2131603099360&#45;&gt;2131603096912tanh</title>\n<path fill=\"none\" stroke=\"black\" d=\"M1246.6,-127.5C1255.26,-127.5 1263.65,-127.5 1271.33,-127.5\"/>\n<polygon fill=\"black\" stroke=\"black\" points=\"1271.23,-131 1281.23,-127.5 1271.23,-124 1271.23,-131\"/>\n</g>\n<!-- 2131603099360+&#45;&gt;2131603099360 -->\n<g id=\"edge3\" class=\"edge\">\n<title>2131603099360+&#45;&gt;2131603099360</title>\n<path fill=\"none\" stroke=\"black\" d=\"M1024.21,-127.5C1031.47,-127.5 1039.83,-127.5 1048.71,-127.5\"/>\n<polygon fill=\"black\" stroke=\"black\" points=\"1048.7,-131 1058.7,-127.5 1048.7,-124 1048.7,-131\"/>\n</g>\n<!-- 2131603145488 -->\n<g id=\"node9\" class=\"node\">\n<title>2131603145488</title>\n<polygon fill=\"none\" stroke=\"black\" points=\"2.5,-165.5 2.5,-201.5 199.5,-201.5 199.5,-165.5 2.5,-165.5\"/>\n<text text-anchor=\"middle\" x=\"19\" y=\"-179.8\" font-family=\"Times New Roman,serif\" font-size=\"14.00\">w2</text>\n<polyline fill=\"none\" stroke=\"black\" points=\"35.5,-165.5 35.5,-201.5\"/>\n<text text-anchor=\"middle\" x=\"76\" y=\"-179.8\" font-family=\"Times New Roman,serif\" font-size=\"14.00\">data 1.0000</text>\n<polyline fill=\"none\" stroke=\"black\" points=\"116.5,-165.5 116.5,-201.5\"/>\n<text text-anchor=\"middle\" x=\"158\" y=\"-179.8\" font-family=\"Times New Roman,serif\" font-size=\"14.00\">grad 0.0000</text>\n</g>\n<!-- 2131603145488&#45;&gt;2131603096720* -->\n<g id=\"edge13\" class=\"edge\">\n<title>2131603145488&#45;&gt;2131603096720*</title>\n<path fill=\"none\" stroke=\"black\" d=\"M173.99,-165.56C183.48,-162.75 193.03,-159.71 202,-156.5 212.1,-152.88 222.83,-148.31 232.49,-143.91\"/>\n<polygon fill=\"black\" stroke=\"black\" points=\"233.88,-147.12 241.46,-139.72 230.92,-140.78 233.88,-147.12\"/>\n</g>\n<!-- 2131603096912 -->\n<g id=\"node10\" class=\"node\">\n<title>2131603096912</title>\n<polygon fill=\"none\" stroke=\"black\" points=\"1373,-109.5 1373,-145.5 1561,-145.5 1561,-109.5 1373,-109.5\"/>\n<text text-anchor=\"middle\" x=\"1385\" y=\"-123.8\" font-family=\"Times New Roman,serif\" font-size=\"14.00\">o</text>\n<polyline fill=\"none\" stroke=\"black\" points=\"1397,-109.5 1397,-145.5\"/>\n<text text-anchor=\"middle\" x=\"1437.5\" y=\"-123.8\" font-family=\"Times New Roman,serif\" font-size=\"14.00\">data 0.7071</text>\n<polyline fill=\"none\" stroke=\"black\" points=\"1478,-109.5 1478,-145.5\"/>\n<text text-anchor=\"middle\" x=\"1519.5\" y=\"-123.8\" font-family=\"Times New Roman,serif\" font-size=\"14.00\">grad 0.0000</text>\n</g>\n<!-- 2131603096912tanh&#45;&gt;2131603096912 -->\n<g id=\"edge4\" class=\"edge\">\n<title>2131603096912tanh&#45;&gt;2131603096912</title>\n<path fill=\"none\" stroke=\"black\" d=\"M1337.29,-127.5C1344.52,-127.5 1352.82,-127.5 1361.66,-127.5\"/>\n<polygon fill=\"black\" stroke=\"black\" points=\"1361.57,-131 1371.57,-127.5 1361.57,-124 1361.57,-131\"/>\n</g>\n<!-- 2131603145584 -->\n<g id=\"node12\" class=\"node\">\n<title>2131603145584</title>\n<polygon fill=\"none\" stroke=\"black\" points=\"711,-137.5 711,-173.5 899,-173.5 899,-137.5 711,-137.5\"/>\n<text text-anchor=\"middle\" x=\"723\" y=\"-151.8\" font-family=\"Times New Roman,serif\" font-size=\"14.00\">b</text>\n<polyline fill=\"none\" stroke=\"black\" points=\"735,-137.5 735,-173.5\"/>\n<text text-anchor=\"middle\" x=\"775.5\" y=\"-151.8\" font-family=\"Times New Roman,serif\" font-size=\"14.00\">data 6.8814</text>\n<polyline fill=\"none\" stroke=\"black\" points=\"816,-137.5 816,-173.5\"/>\n<text text-anchor=\"middle\" x=\"857.5\" y=\"-151.8\" font-family=\"Times New Roman,serif\" font-size=\"14.00\">grad 0.0000</text>\n</g>\n<!-- 2131603145584&#45;&gt;2131603099360+ -->\n<g id=\"edge6\" class=\"edge\">\n<title>2131603145584&#45;&gt;2131603099360+</title>\n<path fill=\"none\" stroke=\"black\" d=\"M898.77,-141.83C920.2,-138.67 941.79,-135.49 959.15,-132.93\"/>\n<polygon fill=\"black\" stroke=\"black\" points=\"959.57,-136.41 968.95,-131.49 958.55,-129.48 959.57,-136.41\"/>\n</g>\n<!-- 2131603145680 -->\n<g id=\"node13\" class=\"node\">\n<title>2131603145680</title>\n<polygon fill=\"none\" stroke=\"black\" points=\"328,-55.5 328,-91.5 550,-91.5 550,-55.5 328,-55.5\"/>\n<text text-anchor=\"middle\" x=\"354.5\" y=\"-69.8\" font-family=\"Times New Roman,serif\" font-size=\"14.00\">x1*w1</text>\n<polyline fill=\"none\" stroke=\"black\" points=\"381,-55.5 381,-91.5\"/>\n<text text-anchor=\"middle\" x=\"424\" y=\"-69.8\" font-family=\"Times New Roman,serif\" font-size=\"14.00\">data &#45;6.0000</text>\n<polyline fill=\"none\" stroke=\"black\" points=\"467,-55.5 467,-91.5\"/>\n<text text-anchor=\"middle\" x=\"508.5\" y=\"-69.8\" font-family=\"Times New Roman,serif\" font-size=\"14.00\">grad 0.0000</text>\n</g>\n<!-- 2131603145680&#45;&gt;2131603097152+ -->\n<g id=\"edge10\" class=\"edge\">\n<title>2131603145680&#45;&gt;2131603097152+</title>\n<path fill=\"none\" stroke=\"black\" d=\"M549.9,-90.75C558.72,-92.14 567.17,-93.46 574.84,-94.67\"/>\n<polygon fill=\"black\" stroke=\"black\" points=\"574.29,-98.12 584.71,-96.22 575.37,-91.21 574.29,-98.12\"/>\n</g>\n<!-- 2131603145680*&#45;&gt;2131603145680 -->\n<g id=\"edge5\" class=\"edge\">\n<title>2131603145680*&#45;&gt;2131603145680</title>\n<path fill=\"none\" stroke=\"black\" d=\"M292.5,-73.5C299.65,-73.5 307.89,-73.5 316.72,-73.5\"/>\n<polygon fill=\"black\" stroke=\"black\" points=\"316.69,-77 326.68,-73.5 316.68,-70 316.69,-77\"/>\n</g>\n<!-- 2131603145200 -->\n<g id=\"node15\" class=\"node\">\n<title>2131603145200</title>\n<polygon fill=\"none\" stroke=\"black\" points=\"4,-110.5 4,-146.5 198,-146.5 198,-110.5 4,-110.5\"/>\n<text text-anchor=\"middle\" x=\"19\" y=\"-124.8\" font-family=\"Times New Roman,serif\" font-size=\"14.00\">x2</text>\n<polyline fill=\"none\" stroke=\"black\" points=\"34,-110.5 34,-146.5\"/>\n<text text-anchor=\"middle\" x=\"74.5\" y=\"-124.8\" font-family=\"Times New Roman,serif\" font-size=\"14.00\">data 0.0000</text>\n<polyline fill=\"none\" stroke=\"black\" points=\"115,-110.5 115,-146.5\"/>\n<text text-anchor=\"middle\" x=\"156.5\" y=\"-124.8\" font-family=\"Times New Roman,serif\" font-size=\"14.00\">grad 0.0000</text>\n</g>\n<!-- 2131603145200&#45;&gt;2131603096720* -->\n<g id=\"edge9\" class=\"edge\">\n<title>2131603145200&#45;&gt;2131603096720*</title>\n<path fill=\"none\" stroke=\"black\" d=\"M197.64,-128.5C207.72,-128.5 217.49,-128.5 226.29,-128.5\"/>\n<polygon fill=\"black\" stroke=\"black\" points=\"226.11,-132 236.11,-128.5 226.11,-125 226.11,-132\"/>\n</g>\n</g>\n</svg>\n",
      "text/plain": [
       "<graphviz.graphs.Digraph at 0x1f04d712a60>"
      ]
     },
     "execution_count": 27,
     "metadata": {},
     "output_type": "execute_result"
    }
   ],
   "source": [
    "draw_dot(o)"
   ]
  },
  {
   "cell_type": "code",
   "execution_count": 28,
   "metadata": {},
   "outputs": [],
   "source": [
    "o.grad=1.0"
   ]
  },
  {
   "cell_type": "code",
   "execution_count": 29,
   "metadata": {},
   "outputs": [],
   "source": [
    "# o = tanh(n)\n",
    "#do/dn = 1-(tanh(n))^2 == 1- o**2\n",
    "n.grad = 1.0 - ((o.data)**2) # ~0.5"
   ]
  },
  {
   "cell_type": "code",
   "execution_count": 30,
   "metadata": {},
   "outputs": [],
   "source": [
    "x1w1x2w2.grad=0.5\n",
    "b.grad = 0.5 # as '+' sign distributes the gradient equally\n",
    "x1w1.grad = 0.5\n",
    "x2w2.grad = 0.5"
   ]
  },
  {
   "cell_type": "code",
   "execution_count": 31,
   "metadata": {},
   "outputs": [],
   "source": [
    "x2.grad = w2.data*x2w2.grad\n",
    "w2.grad = x2.data*x2w2.grad # is zero as x2 = 0 so w2 has no influence i.e gradient == 0 as tweaking w does not change anything\n",
    "x1.grad = w1.data*x1w1.grad\n",
    "w1.grad = x1.data*x1w1.grad"
   ]
  },
  {
   "cell_type": "code",
   "execution_count": 32,
   "metadata": {},
   "outputs": [
    {
     "data": {
      "image/svg+xml": "<?xml version=\"1.0\" encoding=\"UTF-8\" standalone=\"no\"?>\n<!DOCTYPE svg PUBLIC \"-//W3C//DTD SVG 1.1//EN\"\n \"http://www.w3.org/Graphics/SVG/1.1/DTD/svg11.dtd\">\n<!-- Generated by graphviz version 7.1.0 (20230121.1956)\n -->\n<!-- Pages: 1 -->\n<svg width=\"1569pt\" height=\"210pt\"\n viewBox=\"0.00 0.00 1569.00 210.00\" xmlns=\"http://www.w3.org/2000/svg\" xmlns:xlink=\"http://www.w3.org/1999/xlink\">\n<g id=\"graph0\" class=\"graph\" transform=\"scale(1 1) rotate(0) translate(4 206)\">\n<polygon fill=\"white\" stroke=\"none\" points=\"-4,4 -4,-206 1565,-206 1565,4 -4,4\"/>\n<!-- 2131603097152 -->\n<g id=\"node1\" class=\"node\">\n<title>2131603097152</title>\n<polygon fill=\"none\" stroke=\"black\" points=\"676,-82.5 676,-118.5 934,-118.5 934,-82.5 676,-82.5\"/>\n<text text-anchor=\"middle\" x=\"720.5\" y=\"-96.8\" font-family=\"Times New Roman,serif\" font-size=\"14.00\">x1w1+ x2w2</text>\n<polyline fill=\"none\" stroke=\"black\" points=\"765,-82.5 765,-118.5\"/>\n<text text-anchor=\"middle\" x=\"808\" y=\"-96.8\" font-family=\"Times New Roman,serif\" font-size=\"14.00\">data &#45;6.0000</text>\n<polyline fill=\"none\" stroke=\"black\" points=\"851,-82.5 851,-118.5\"/>\n<text text-anchor=\"middle\" x=\"892.5\" y=\"-96.8\" font-family=\"Times New Roman,serif\" font-size=\"14.00\">grad 0.5000</text>\n</g>\n<!-- 2131603099360+ -->\n<g id=\"node8\" class=\"node\">\n<title>2131603099360+</title>\n<ellipse fill=\"none\" stroke=\"black\" cx=\"997\" cy=\"-127.5\" rx=\"27\" ry=\"18\"/>\n<text text-anchor=\"middle\" x=\"997\" y=\"-123.8\" font-family=\"Times New Roman,serif\" font-size=\"14.00\">+</text>\n</g>\n<!-- 2131603097152&#45;&gt;2131603099360+ -->\n<g id=\"edge14\" class=\"edge\">\n<title>2131603097152&#45;&gt;2131603099360+</title>\n<path fill=\"none\" stroke=\"black\" d=\"M932.47,-118.47C941.92,-119.82 950.91,-121.09 958.99,-122.24\"/>\n<polygon fill=\"black\" stroke=\"black\" points=\"958.23,-125.67 968.63,-123.61 959.22,-118.74 958.23,-125.67\"/>\n</g>\n<!-- 2131603097152+ -->\n<g id=\"node2\" class=\"node\">\n<title>2131603097152+</title>\n<ellipse fill=\"none\" stroke=\"black\" cx=\"613\" cy=\"-100.5\" rx=\"27\" ry=\"18\"/>\n<text text-anchor=\"middle\" x=\"613\" y=\"-96.8\" font-family=\"Times New Roman,serif\" font-size=\"14.00\">+</text>\n</g>\n<!-- 2131603097152+&#45;&gt;2131603097152 -->\n<g id=\"edge1\" class=\"edge\">\n<title>2131603097152+&#45;&gt;2131603097152</title>\n<path fill=\"none\" stroke=\"black\" d=\"M640.42,-100.5C647.6,-100.5 655.89,-100.5 664.86,-100.5\"/>\n<polygon fill=\"black\" stroke=\"black\" points=\"664.59,-104 674.59,-100.5 664.59,-97 664.59,-104\"/>\n</g>\n<!-- 2131603145296 -->\n<g id=\"node3\" class=\"node\">\n<title>2131603145296</title>\n<polygon fill=\"none\" stroke=\"black\" points=\"2,-55.5 2,-91.5 200,-91.5 200,-55.5 2,-55.5\"/>\n<text text-anchor=\"middle\" x=\"17\" y=\"-69.8\" font-family=\"Times New Roman,serif\" font-size=\"14.00\">x1</text>\n<polyline fill=\"none\" stroke=\"black\" points=\"32,-55.5 32,-91.5\"/>\n<text text-anchor=\"middle\" x=\"72.5\" y=\"-69.8\" font-family=\"Times New Roman,serif\" font-size=\"14.00\">data 2.0000</text>\n<polyline fill=\"none\" stroke=\"black\" points=\"113,-55.5 113,-91.5\"/>\n<text text-anchor=\"middle\" x=\"156.5\" y=\"-69.8\" font-family=\"Times New Roman,serif\" font-size=\"14.00\">grad &#45;1.5000</text>\n</g>\n<!-- 2131603145680* -->\n<g id=\"node14\" class=\"node\">\n<title>2131603145680*</title>\n<ellipse fill=\"none\" stroke=\"black\" cx=\"265\" cy=\"-73.5\" rx=\"27\" ry=\"18\"/>\n<text text-anchor=\"middle\" x=\"265\" y=\"-69.8\" font-family=\"Times New Roman,serif\" font-size=\"14.00\">*</text>\n</g>\n<!-- 2131603145296&#45;&gt;2131603145680* -->\n<g id=\"edge11\" class=\"edge\">\n<title>2131603145296&#45;&gt;2131603145680*</title>\n<path fill=\"none\" stroke=\"black\" d=\"M199.97,-73.5C209.29,-73.5 218.28,-73.5 226.45,-73.5\"/>\n<polygon fill=\"black\" stroke=\"black\" points=\"226.23,-77 236.23,-73.5 226.23,-70 226.23,-77\"/>\n</g>\n<!-- 2131603096720 -->\n<g id=\"node4\" class=\"node\">\n<title>2131603096720</title>\n<polygon fill=\"none\" stroke=\"black\" points=\"330.5,-110.5 330.5,-146.5 547.5,-146.5 547.5,-110.5 330.5,-110.5\"/>\n<text text-anchor=\"middle\" x=\"357\" y=\"-124.8\" font-family=\"Times New Roman,serif\" font-size=\"14.00\">x2*w2</text>\n<polyline fill=\"none\" stroke=\"black\" points=\"383.5,-110.5 383.5,-146.5\"/>\n<text text-anchor=\"middle\" x=\"424\" y=\"-124.8\" font-family=\"Times New Roman,serif\" font-size=\"14.00\">data 0.0000</text>\n<polyline fill=\"none\" stroke=\"black\" points=\"464.5,-110.5 464.5,-146.5\"/>\n<text text-anchor=\"middle\" x=\"506\" y=\"-124.8\" font-family=\"Times New Roman,serif\" font-size=\"14.00\">grad 0.5000</text>\n</g>\n<!-- 2131603096720&#45;&gt;2131603097152+ -->\n<g id=\"edge7\" class=\"edge\">\n<title>2131603096720&#45;&gt;2131603097152+</title>\n<path fill=\"none\" stroke=\"black\" d=\"M547.46,-111.01C557.25,-109.41 566.64,-107.88 575.08,-106.51\"/>\n<polygon fill=\"black\" stroke=\"black\" points=\"575.52,-109.98 584.83,-104.92 574.4,-103.08 575.52,-109.98\"/>\n</g>\n<!-- 2131603096720* -->\n<g id=\"node5\" class=\"node\">\n<title>2131603096720*</title>\n<ellipse fill=\"none\" stroke=\"black\" cx=\"265\" cy=\"-128.5\" rx=\"27\" ry=\"18\"/>\n<text text-anchor=\"middle\" x=\"265\" y=\"-124.8\" font-family=\"Times New Roman,serif\" font-size=\"14.00\">*</text>\n</g>\n<!-- 2131603096720*&#45;&gt;2131603096720 -->\n<g id=\"edge2\" class=\"edge\">\n<title>2131603096720*&#45;&gt;2131603096720</title>\n<path fill=\"none\" stroke=\"black\" d=\"M292.5,-128.5C300.37,-128.5 309.55,-128.5 319.4,-128.5\"/>\n<polygon fill=\"black\" stroke=\"black\" points=\"319.25,-132 329.25,-128.5 319.25,-125 319.25,-132\"/>\n</g>\n<!-- 2131603145392 -->\n<g id=\"node6\" class=\"node\">\n<title>2131603145392</title>\n<polygon fill=\"none\" stroke=\"black\" points=\"0,-0.5 0,-36.5 202,-36.5 202,-0.5 0,-0.5\"/>\n<text text-anchor=\"middle\" x=\"16.5\" y=\"-14.8\" font-family=\"Times New Roman,serif\" font-size=\"14.00\">w1</text>\n<polyline fill=\"none\" stroke=\"black\" points=\"33,-0.5 33,-36.5\"/>\n<text text-anchor=\"middle\" x=\"76\" y=\"-14.8\" font-family=\"Times New Roman,serif\" font-size=\"14.00\">data &#45;3.0000</text>\n<polyline fill=\"none\" stroke=\"black\" points=\"119,-0.5 119,-36.5\"/>\n<text text-anchor=\"middle\" x=\"160.5\" y=\"-14.8\" font-family=\"Times New Roman,serif\" font-size=\"14.00\">grad 1.0000</text>\n</g>\n<!-- 2131603145392&#45;&gt;2131603145680* -->\n<g id=\"edge12\" class=\"edge\">\n<title>2131603145392&#45;&gt;2131603145680*</title>\n<path fill=\"none\" stroke=\"black\" d=\"M170.98,-36.47C181.45,-39.58 192.06,-42.96 202,-46.5 211.97,-50.05 222.6,-54.44 232.19,-58.65\"/>\n<polygon fill=\"black\" stroke=\"black\" points=\"230.55,-61.75 241.11,-62.64 233.41,-55.36 230.55,-61.75\"/>\n</g>\n<!-- 2131603099360 -->\n<g id=\"node7\" class=\"node\">\n<title>2131603099360</title>\n<polygon fill=\"none\" stroke=\"black\" points=\"1060,-109.5 1060,-145.5 1247,-145.5 1247,-109.5 1060,-109.5\"/>\n<text text-anchor=\"middle\" x=\"1071.5\" y=\"-123.8\" font-family=\"Times New Roman,serif\" font-size=\"14.00\">n</text>\n<polyline fill=\"none\" stroke=\"black\" points=\"1083,-109.5 1083,-145.5\"/>\n<text text-anchor=\"middle\" x=\"1123.5\" y=\"-123.8\" font-family=\"Times New Roman,serif\" font-size=\"14.00\">data 0.8814</text>\n<polyline fill=\"none\" stroke=\"black\" points=\"1164,-109.5 1164,-145.5\"/>\n<text text-anchor=\"middle\" x=\"1205.5\" y=\"-123.8\" font-family=\"Times New Roman,serif\" font-size=\"14.00\">grad 0.5000</text>\n</g>\n<!-- 2131603096912tanh -->\n<g id=\"node11\" class=\"node\">\n<title>2131603096912tanh</title>\n<ellipse fill=\"none\" stroke=\"black\" cx=\"1310\" cy=\"-127.5\" rx=\"27\" ry=\"18\"/>\n<text text-anchor=\"middle\" x=\"1310\" y=\"-123.8\" font-family=\"Times New Roman,serif\" font-size=\"14.00\">tanh</text>\n</g>\n<!-- 2131603099360&#45;&gt;2131603096912tanh -->\n<g id=\"edge8\" class=\"edge\">\n<title>2131603099360&#45;&gt;2131603096912tanh</title>\n<path fill=\"none\" stroke=\"black\" d=\"M1246.6,-127.5C1255.26,-127.5 1263.65,-127.5 1271.33,-127.5\"/>\n<polygon fill=\"black\" stroke=\"black\" points=\"1271.23,-131 1281.23,-127.5 1271.23,-124 1271.23,-131\"/>\n</g>\n<!-- 2131603099360+&#45;&gt;2131603099360 -->\n<g id=\"edge3\" class=\"edge\">\n<title>2131603099360+&#45;&gt;2131603099360</title>\n<path fill=\"none\" stroke=\"black\" d=\"M1024.21,-127.5C1031.47,-127.5 1039.83,-127.5 1048.71,-127.5\"/>\n<polygon fill=\"black\" stroke=\"black\" points=\"1048.7,-131 1058.7,-127.5 1048.7,-124 1048.7,-131\"/>\n</g>\n<!-- 2131603145488 -->\n<g id=\"node9\" class=\"node\">\n<title>2131603145488</title>\n<polygon fill=\"none\" stroke=\"black\" points=\"2.5,-165.5 2.5,-201.5 199.5,-201.5 199.5,-165.5 2.5,-165.5\"/>\n<text text-anchor=\"middle\" x=\"19\" y=\"-179.8\" font-family=\"Times New Roman,serif\" font-size=\"14.00\">w2</text>\n<polyline fill=\"none\" stroke=\"black\" points=\"35.5,-165.5 35.5,-201.5\"/>\n<text text-anchor=\"middle\" x=\"76\" y=\"-179.8\" font-family=\"Times New Roman,serif\" font-size=\"14.00\">data 1.0000</text>\n<polyline fill=\"none\" stroke=\"black\" points=\"116.5,-165.5 116.5,-201.5\"/>\n<text text-anchor=\"middle\" x=\"158\" y=\"-179.8\" font-family=\"Times New Roman,serif\" font-size=\"14.00\">grad 0.0000</text>\n</g>\n<!-- 2131603145488&#45;&gt;2131603096720* -->\n<g id=\"edge13\" class=\"edge\">\n<title>2131603145488&#45;&gt;2131603096720*</title>\n<path fill=\"none\" stroke=\"black\" d=\"M173.99,-165.56C183.48,-162.75 193.03,-159.71 202,-156.5 212.1,-152.88 222.83,-148.31 232.49,-143.91\"/>\n<polygon fill=\"black\" stroke=\"black\" points=\"233.88,-147.12 241.46,-139.72 230.92,-140.78 233.88,-147.12\"/>\n</g>\n<!-- 2131603096912 -->\n<g id=\"node10\" class=\"node\">\n<title>2131603096912</title>\n<polygon fill=\"none\" stroke=\"black\" points=\"1373,-109.5 1373,-145.5 1561,-145.5 1561,-109.5 1373,-109.5\"/>\n<text text-anchor=\"middle\" x=\"1385\" y=\"-123.8\" font-family=\"Times New Roman,serif\" font-size=\"14.00\">o</text>\n<polyline fill=\"none\" stroke=\"black\" points=\"1397,-109.5 1397,-145.5\"/>\n<text text-anchor=\"middle\" x=\"1437.5\" y=\"-123.8\" font-family=\"Times New Roman,serif\" font-size=\"14.00\">data 0.7071</text>\n<polyline fill=\"none\" stroke=\"black\" points=\"1478,-109.5 1478,-145.5\"/>\n<text text-anchor=\"middle\" x=\"1519.5\" y=\"-123.8\" font-family=\"Times New Roman,serif\" font-size=\"14.00\">grad 1.0000</text>\n</g>\n<!-- 2131603096912tanh&#45;&gt;2131603096912 -->\n<g id=\"edge4\" class=\"edge\">\n<title>2131603096912tanh&#45;&gt;2131603096912</title>\n<path fill=\"none\" stroke=\"black\" d=\"M1337.29,-127.5C1344.52,-127.5 1352.82,-127.5 1361.66,-127.5\"/>\n<polygon fill=\"black\" stroke=\"black\" points=\"1361.57,-131 1371.57,-127.5 1361.57,-124 1361.57,-131\"/>\n</g>\n<!-- 2131603145584 -->\n<g id=\"node12\" class=\"node\">\n<title>2131603145584</title>\n<polygon fill=\"none\" stroke=\"black\" points=\"711,-137.5 711,-173.5 899,-173.5 899,-137.5 711,-137.5\"/>\n<text text-anchor=\"middle\" x=\"723\" y=\"-151.8\" font-family=\"Times New Roman,serif\" font-size=\"14.00\">b</text>\n<polyline fill=\"none\" stroke=\"black\" points=\"735,-137.5 735,-173.5\"/>\n<text text-anchor=\"middle\" x=\"775.5\" y=\"-151.8\" font-family=\"Times New Roman,serif\" font-size=\"14.00\">data 6.8814</text>\n<polyline fill=\"none\" stroke=\"black\" points=\"816,-137.5 816,-173.5\"/>\n<text text-anchor=\"middle\" x=\"857.5\" y=\"-151.8\" font-family=\"Times New Roman,serif\" font-size=\"14.00\">grad 0.5000</text>\n</g>\n<!-- 2131603145584&#45;&gt;2131603099360+ -->\n<g id=\"edge6\" class=\"edge\">\n<title>2131603145584&#45;&gt;2131603099360+</title>\n<path fill=\"none\" stroke=\"black\" d=\"M898.77,-141.83C920.2,-138.67 941.79,-135.49 959.15,-132.93\"/>\n<polygon fill=\"black\" stroke=\"black\" points=\"959.57,-136.41 968.95,-131.49 958.55,-129.48 959.57,-136.41\"/>\n</g>\n<!-- 2131603145680 -->\n<g id=\"node13\" class=\"node\">\n<title>2131603145680</title>\n<polygon fill=\"none\" stroke=\"black\" points=\"328,-55.5 328,-91.5 550,-91.5 550,-55.5 328,-55.5\"/>\n<text text-anchor=\"middle\" x=\"354.5\" y=\"-69.8\" font-family=\"Times New Roman,serif\" font-size=\"14.00\">x1*w1</text>\n<polyline fill=\"none\" stroke=\"black\" points=\"381,-55.5 381,-91.5\"/>\n<text text-anchor=\"middle\" x=\"424\" y=\"-69.8\" font-family=\"Times New Roman,serif\" font-size=\"14.00\">data &#45;6.0000</text>\n<polyline fill=\"none\" stroke=\"black\" points=\"467,-55.5 467,-91.5\"/>\n<text text-anchor=\"middle\" x=\"508.5\" y=\"-69.8\" font-family=\"Times New Roman,serif\" font-size=\"14.00\">grad 0.5000</text>\n</g>\n<!-- 2131603145680&#45;&gt;2131603097152+ -->\n<g id=\"edge10\" class=\"edge\">\n<title>2131603145680&#45;&gt;2131603097152+</title>\n<path fill=\"none\" stroke=\"black\" d=\"M549.9,-90.75C558.72,-92.14 567.17,-93.46 574.84,-94.67\"/>\n<polygon fill=\"black\" stroke=\"black\" points=\"574.29,-98.12 584.71,-96.22 575.37,-91.21 574.29,-98.12\"/>\n</g>\n<!-- 2131603145680*&#45;&gt;2131603145680 -->\n<g id=\"edge5\" class=\"edge\">\n<title>2131603145680*&#45;&gt;2131603145680</title>\n<path fill=\"none\" stroke=\"black\" d=\"M292.5,-73.5C299.65,-73.5 307.89,-73.5 316.72,-73.5\"/>\n<polygon fill=\"black\" stroke=\"black\" points=\"316.69,-77 326.68,-73.5 316.68,-70 316.69,-77\"/>\n</g>\n<!-- 2131603145200 -->\n<g id=\"node15\" class=\"node\">\n<title>2131603145200</title>\n<polygon fill=\"none\" stroke=\"black\" points=\"4,-110.5 4,-146.5 198,-146.5 198,-110.5 4,-110.5\"/>\n<text text-anchor=\"middle\" x=\"19\" y=\"-124.8\" font-family=\"Times New Roman,serif\" font-size=\"14.00\">x2</text>\n<polyline fill=\"none\" stroke=\"black\" points=\"34,-110.5 34,-146.5\"/>\n<text text-anchor=\"middle\" x=\"74.5\" y=\"-124.8\" font-family=\"Times New Roman,serif\" font-size=\"14.00\">data 0.0000</text>\n<polyline fill=\"none\" stroke=\"black\" points=\"115,-110.5 115,-146.5\"/>\n<text text-anchor=\"middle\" x=\"156.5\" y=\"-124.8\" font-family=\"Times New Roman,serif\" font-size=\"14.00\">grad 0.5000</text>\n</g>\n<!-- 2131603145200&#45;&gt;2131603096720* -->\n<g id=\"edge9\" class=\"edge\">\n<title>2131603145200&#45;&gt;2131603096720*</title>\n<path fill=\"none\" stroke=\"black\" d=\"M197.64,-128.5C207.72,-128.5 217.49,-128.5 226.29,-128.5\"/>\n<polygon fill=\"black\" stroke=\"black\" points=\"226.11,-132 236.11,-128.5 226.11,-125 226.11,-132\"/>\n</g>\n</g>\n</svg>\n",
      "text/plain": [
       "<graphviz.graphs.Digraph at 0x1f04f7c6940>"
      ]
     },
     "execution_count": 32,
     "metadata": {},
     "output_type": "execute_result"
    }
   ],
   "source": [
    "draw_dot(o)"
   ]
  },
  {
   "attachments": {},
   "cell_type": "markdown",
   "metadata": {},
   "source": [
    "As w1 = 1.0 , Increasing it will increase the output of the neuron{w2.grad = 0}"
   ]
  },
  {
   "attachments": {},
   "cell_type": "markdown",
   "metadata": {},
   "source": [
    "## Automatic Backpropogation"
   ]
  },
  {
   "cell_type": "code",
   "execution_count": 33,
   "metadata": {},
   "outputs": [],
   "source": [
    "class Value:\n",
    "    def __init__(self,data,_children=(),_op='',label=''):\n",
    "        self.data = data\n",
    "        self.grad = 0.0 # means no effect, ie at initialisation every value does not effect the output\n",
    "        self._backward= lambda:None # empty function\n",
    "        self._prev = set(_children)\n",
    "        self._op = _op\n",
    "        self.label = label\n",
    "    def __repr__(self):\n",
    "        return f\"Value(data={self.data})\"\n",
    "    def __add__(self,other):\n",
    "        out = Value(self.data+other.data,(self,other),'+')\n",
    "        def _backward():\n",
    "            self.grad = 1.0 * out.grad\n",
    "            other.grad = 1.0 * out.grad\n",
    "        out._backward = _backward # linking the out to this specific ._backward Function\n",
    "        return out\n",
    "    def __mul__(self,other):\n",
    "        out = Value(self.data*other.data,(self,other),'*')\n",
    "        def _backward():\n",
    "            self.grad = (other.data) * out.grad\n",
    "            other.grad = (self.data)* out.grad\n",
    "        out._backward = _backward # linking the out to this specific ._backward Function\n",
    "        return out\n",
    "    #Implementing tanh function\n",
    "    def tanh(self):\n",
    "        n = self.data\n",
    "        t=(math.exp(2*n)-1)/(math.exp(2*n)+1)#tanh function \n",
    "        out = Value(t,(self,),'tanh')\n",
    "        def _backward():\n",
    "             self.grad = (1-(t**2))* out.grad\n",
    "            \n",
    "        out._backward = _backward # linking the out to this specific ._backward Function\n",
    "        return out\n",
    "    \n",
    "#inputs - x1,x2\n",
    "x1=Value(2.0,label='x1')\n",
    "x2=Value(0.0,label='x2')\n",
    "# weights- w1,w2\n",
    "w1=Value(-3.0,label='w1')\n",
    "w2=Value(1.0,label='w2')\n",
    "#bias of neuron\n",
    "b=Value(6.8813735870195432,label='b')# this specific number so when doing backprop numbers come out nice\n",
    "# x1w1 + x2w2 + b\n",
    "x1w1 = x1*w1;x1w1.label='x1*w1'\n",
    "x2w2 = x2*w2;x2w2.label='x2*w2'\n",
    "x1w1x2w2 = x1w1 + x2w2; x1w1x2w2.label='x1w1+ x2w2'\n",
    "n = x1w1x2w2 + b; n.label='n'\n",
    "o = n.tanh();o.label='o'\n",
    "        "
   ]
  },
  {
   "cell_type": "code",
   "execution_count": 34,
   "metadata": {},
   "outputs": [
    {
     "data": {
      "image/svg+xml": "<?xml version=\"1.0\" encoding=\"UTF-8\" standalone=\"no\"?>\n<!DOCTYPE svg PUBLIC \"-//W3C//DTD SVG 1.1//EN\"\n \"http://www.w3.org/Graphics/SVG/1.1/DTD/svg11.dtd\">\n<!-- Generated by graphviz version 7.1.0 (20230121.1956)\n -->\n<!-- Pages: 1 -->\n<svg width=\"1569pt\" height=\"210pt\"\n viewBox=\"0.00 0.00 1569.00 210.00\" xmlns=\"http://www.w3.org/2000/svg\" xmlns:xlink=\"http://www.w3.org/1999/xlink\">\n<g id=\"graph0\" class=\"graph\" transform=\"scale(1 1) rotate(0) translate(4 206)\">\n<polygon fill=\"white\" stroke=\"none\" points=\"-4,4 -4,-206 1565,-206 1565,4 -4,4\"/>\n<!-- 2131603165248 -->\n<g id=\"node1\" class=\"node\">\n<title>2131603165248</title>\n<polygon fill=\"none\" stroke=\"black\" points=\"2.5,-165.5 2.5,-201.5 199.5,-201.5 199.5,-165.5 2.5,-165.5\"/>\n<text text-anchor=\"middle\" x=\"19\" y=\"-179.8\" font-family=\"Times New Roman,serif\" font-size=\"14.00\">w2</text>\n<polyline fill=\"none\" stroke=\"black\" points=\"35.5,-165.5 35.5,-201.5\"/>\n<text text-anchor=\"middle\" x=\"76\" y=\"-179.8\" font-family=\"Times New Roman,serif\" font-size=\"14.00\">data 1.0000</text>\n<polyline fill=\"none\" stroke=\"black\" points=\"116.5,-165.5 116.5,-201.5\"/>\n<text text-anchor=\"middle\" x=\"158\" y=\"-179.8\" font-family=\"Times New Roman,serif\" font-size=\"14.00\">grad 0.0000</text>\n</g>\n<!-- 2131603165440* -->\n<g id=\"node7\" class=\"node\">\n<title>2131603165440*</title>\n<ellipse fill=\"none\" stroke=\"black\" cx=\"265\" cy=\"-128.5\" rx=\"27\" ry=\"18\"/>\n<text text-anchor=\"middle\" x=\"265\" y=\"-124.8\" font-family=\"Times New Roman,serif\" font-size=\"14.00\">*</text>\n</g>\n<!-- 2131603165248&#45;&gt;2131603165440* -->\n<g id=\"edge14\" class=\"edge\">\n<title>2131603165248&#45;&gt;2131603165440*</title>\n<path fill=\"none\" stroke=\"black\" d=\"M173.99,-165.56C183.48,-162.75 193.03,-159.71 202,-156.5 212.1,-152.88 222.83,-148.31 232.49,-143.91\"/>\n<polygon fill=\"black\" stroke=\"black\" points=\"233.88,-147.12 241.46,-139.72 230.92,-140.78 233.88,-147.12\"/>\n</g>\n<!-- 2131594445440 -->\n<g id=\"node2\" class=\"node\">\n<title>2131594445440</title>\n<polygon fill=\"none\" stroke=\"black\" points=\"4,-55.5 4,-91.5 198,-91.5 198,-55.5 4,-55.5\"/>\n<text text-anchor=\"middle\" x=\"19\" y=\"-69.8\" font-family=\"Times New Roman,serif\" font-size=\"14.00\">x1</text>\n<polyline fill=\"none\" stroke=\"black\" points=\"34,-55.5 34,-91.5\"/>\n<text text-anchor=\"middle\" x=\"74.5\" y=\"-69.8\" font-family=\"Times New Roman,serif\" font-size=\"14.00\">data 2.0000</text>\n<polyline fill=\"none\" stroke=\"black\" points=\"115,-55.5 115,-91.5\"/>\n<text text-anchor=\"middle\" x=\"156.5\" y=\"-69.8\" font-family=\"Times New Roman,serif\" font-size=\"14.00\">grad 0.0000</text>\n</g>\n<!-- 2131603166064* -->\n<g id=\"node9\" class=\"node\">\n<title>2131603166064*</title>\n<ellipse fill=\"none\" stroke=\"black\" cx=\"265\" cy=\"-73.5\" rx=\"27\" ry=\"18\"/>\n<text text-anchor=\"middle\" x=\"265\" y=\"-69.8\" font-family=\"Times New Roman,serif\" font-size=\"14.00\">*</text>\n</g>\n<!-- 2131594445440&#45;&gt;2131603166064* -->\n<g id=\"edge12\" class=\"edge\">\n<title>2131594445440&#45;&gt;2131603166064*</title>\n<path fill=\"none\" stroke=\"black\" d=\"M197.64,-73.5C207.72,-73.5 217.49,-73.5 226.29,-73.5\"/>\n<polygon fill=\"black\" stroke=\"black\" points=\"226.11,-77 236.11,-73.5 226.11,-70 226.11,-77\"/>\n</g>\n<!-- 2131603165392 -->\n<g id=\"node3\" class=\"node\">\n<title>2131603165392</title>\n<polygon fill=\"none\" stroke=\"black\" points=\"711,-27.5 711,-63.5 899,-63.5 899,-27.5 711,-27.5\"/>\n<text text-anchor=\"middle\" x=\"723\" y=\"-41.8\" font-family=\"Times New Roman,serif\" font-size=\"14.00\">b</text>\n<polyline fill=\"none\" stroke=\"black\" points=\"735,-27.5 735,-63.5\"/>\n<text text-anchor=\"middle\" x=\"775.5\" y=\"-41.8\" font-family=\"Times New Roman,serif\" font-size=\"14.00\">data 6.8814</text>\n<polyline fill=\"none\" stroke=\"black\" points=\"816,-27.5 816,-63.5\"/>\n<text text-anchor=\"middle\" x=\"857.5\" y=\"-41.8\" font-family=\"Times New Roman,serif\" font-size=\"14.00\">grad 0.0000</text>\n</g>\n<!-- 2131603191744+ -->\n<g id=\"node14\" class=\"node\">\n<title>2131603191744+</title>\n<ellipse fill=\"none\" stroke=\"black\" cx=\"997\" cy=\"-72.5\" rx=\"27\" ry=\"18\"/>\n<text text-anchor=\"middle\" x=\"997\" y=\"-68.8\" font-family=\"Times New Roman,serif\" font-size=\"14.00\">+</text>\n</g>\n<!-- 2131603165392&#45;&gt;2131603191744+ -->\n<g id=\"edge8\" class=\"edge\">\n<title>2131603165392&#45;&gt;2131603191744+</title>\n<path fill=\"none\" stroke=\"black\" d=\"M898.77,-58.68C920.2,-61.73 941.79,-64.8 959.15,-67.26\"/>\n<polygon fill=\"black\" stroke=\"black\" points=\"958.56,-70.71 968.95,-68.66 959.54,-63.78 958.56,-70.71\"/>\n</g>\n<!-- 2131603191552 -->\n<g id=\"node4\" class=\"node\">\n<title>2131603191552</title>\n<polygon fill=\"none\" stroke=\"black\" points=\"1373,-54.5 1373,-90.5 1561,-90.5 1561,-54.5 1373,-54.5\"/>\n<text text-anchor=\"middle\" x=\"1385\" y=\"-68.8\" font-family=\"Times New Roman,serif\" font-size=\"14.00\">o</text>\n<polyline fill=\"none\" stroke=\"black\" points=\"1397,-54.5 1397,-90.5\"/>\n<text text-anchor=\"middle\" x=\"1437.5\" y=\"-68.8\" font-family=\"Times New Roman,serif\" font-size=\"14.00\">data 0.7071</text>\n<polyline fill=\"none\" stroke=\"black\" points=\"1478,-54.5 1478,-90.5\"/>\n<text text-anchor=\"middle\" x=\"1519.5\" y=\"-68.8\" font-family=\"Times New Roman,serif\" font-size=\"14.00\">grad 0.0000</text>\n</g>\n<!-- 2131603191552tanh -->\n<g id=\"node5\" class=\"node\">\n<title>2131603191552tanh</title>\n<ellipse fill=\"none\" stroke=\"black\" cx=\"1310\" cy=\"-72.5\" rx=\"27\" ry=\"18\"/>\n<text text-anchor=\"middle\" x=\"1310\" y=\"-68.8\" font-family=\"Times New Roman,serif\" font-size=\"14.00\">tanh</text>\n</g>\n<!-- 2131603191552tanh&#45;&gt;2131603191552 -->\n<g id=\"edge1\" class=\"edge\">\n<title>2131603191552tanh&#45;&gt;2131603191552</title>\n<path fill=\"none\" stroke=\"black\" d=\"M1337.29,-72.5C1344.52,-72.5 1352.82,-72.5 1361.66,-72.5\"/>\n<polygon fill=\"black\" stroke=\"black\" points=\"1361.57,-76 1371.57,-72.5 1361.57,-69 1361.57,-76\"/>\n</g>\n<!-- 2131603165440 -->\n<g id=\"node6\" class=\"node\">\n<title>2131603165440</title>\n<polygon fill=\"none\" stroke=\"black\" points=\"330.5,-110.5 330.5,-146.5 547.5,-146.5 547.5,-110.5 330.5,-110.5\"/>\n<text text-anchor=\"middle\" x=\"357\" y=\"-124.8\" font-family=\"Times New Roman,serif\" font-size=\"14.00\">x2*w2</text>\n<polyline fill=\"none\" stroke=\"black\" points=\"383.5,-110.5 383.5,-146.5\"/>\n<text text-anchor=\"middle\" x=\"424\" y=\"-124.8\" font-family=\"Times New Roman,serif\" font-size=\"14.00\">data 0.0000</text>\n<polyline fill=\"none\" stroke=\"black\" points=\"464.5,-110.5 464.5,-146.5\"/>\n<text text-anchor=\"middle\" x=\"506\" y=\"-124.8\" font-family=\"Times New Roman,serif\" font-size=\"14.00\">grad 0.0000</text>\n</g>\n<!-- 2131603191696+ -->\n<g id=\"node11\" class=\"node\">\n<title>2131603191696+</title>\n<ellipse fill=\"none\" stroke=\"black\" cx=\"613\" cy=\"-100.5\" rx=\"27\" ry=\"18\"/>\n<text text-anchor=\"middle\" x=\"613\" y=\"-96.8\" font-family=\"Times New Roman,serif\" font-size=\"14.00\">+</text>\n</g>\n<!-- 2131603165440&#45;&gt;2131603191696+ -->\n<g id=\"edge10\" class=\"edge\">\n<title>2131603165440&#45;&gt;2131603191696+</title>\n<path fill=\"none\" stroke=\"black\" d=\"M547.46,-111.01C557.25,-109.41 566.64,-107.88 575.08,-106.51\"/>\n<polygon fill=\"black\" stroke=\"black\" points=\"575.52,-109.98 584.83,-104.92 574.4,-103.08 575.52,-109.98\"/>\n</g>\n<!-- 2131603165440*&#45;&gt;2131603165440 -->\n<g id=\"edge2\" class=\"edge\">\n<title>2131603165440*&#45;&gt;2131603165440</title>\n<path fill=\"none\" stroke=\"black\" d=\"M292.5,-128.5C300.37,-128.5 309.55,-128.5 319.4,-128.5\"/>\n<polygon fill=\"black\" stroke=\"black\" points=\"319.25,-132 329.25,-128.5 319.25,-125 319.25,-132\"/>\n</g>\n<!-- 2131603166064 -->\n<g id=\"node8\" class=\"node\">\n<title>2131603166064</title>\n<polygon fill=\"none\" stroke=\"black\" points=\"328,-55.5 328,-91.5 550,-91.5 550,-55.5 328,-55.5\"/>\n<text text-anchor=\"middle\" x=\"354.5\" y=\"-69.8\" font-family=\"Times New Roman,serif\" font-size=\"14.00\">x1*w1</text>\n<polyline fill=\"none\" stroke=\"black\" points=\"381,-55.5 381,-91.5\"/>\n<text text-anchor=\"middle\" x=\"424\" y=\"-69.8\" font-family=\"Times New Roman,serif\" font-size=\"14.00\">data &#45;6.0000</text>\n<polyline fill=\"none\" stroke=\"black\" points=\"467,-55.5 467,-91.5\"/>\n<text text-anchor=\"middle\" x=\"508.5\" y=\"-69.8\" font-family=\"Times New Roman,serif\" font-size=\"14.00\">grad 0.0000</text>\n</g>\n<!-- 2131603166064&#45;&gt;2131603191696+ -->\n<g id=\"edge13\" class=\"edge\">\n<title>2131603166064&#45;&gt;2131603191696+</title>\n<path fill=\"none\" stroke=\"black\" d=\"M549.9,-90.75C558.72,-92.14 567.17,-93.46 574.84,-94.67\"/>\n<polygon fill=\"black\" stroke=\"black\" points=\"574.29,-98.12 584.71,-96.22 575.37,-91.21 574.29,-98.12\"/>\n</g>\n<!-- 2131603166064*&#45;&gt;2131603166064 -->\n<g id=\"edge3\" class=\"edge\">\n<title>2131603166064*&#45;&gt;2131603166064</title>\n<path fill=\"none\" stroke=\"black\" d=\"M292.5,-73.5C299.65,-73.5 307.89,-73.5 316.72,-73.5\"/>\n<polygon fill=\"black\" stroke=\"black\" points=\"316.69,-77 326.68,-73.5 316.68,-70 316.69,-77\"/>\n</g>\n<!-- 2131603191696 -->\n<g id=\"node10\" class=\"node\">\n<title>2131603191696</title>\n<polygon fill=\"none\" stroke=\"black\" points=\"676,-82.5 676,-118.5 934,-118.5 934,-82.5 676,-82.5\"/>\n<text text-anchor=\"middle\" x=\"720.5\" y=\"-96.8\" font-family=\"Times New Roman,serif\" font-size=\"14.00\">x1w1+ x2w2</text>\n<polyline fill=\"none\" stroke=\"black\" points=\"765,-82.5 765,-118.5\"/>\n<text text-anchor=\"middle\" x=\"808\" y=\"-96.8\" font-family=\"Times New Roman,serif\" font-size=\"14.00\">data &#45;6.0000</text>\n<polyline fill=\"none\" stroke=\"black\" points=\"851,-82.5 851,-118.5\"/>\n<text text-anchor=\"middle\" x=\"892.5\" y=\"-96.8\" font-family=\"Times New Roman,serif\" font-size=\"14.00\">grad 0.0000</text>\n</g>\n<!-- 2131603191696&#45;&gt;2131603191744+ -->\n<g id=\"edge7\" class=\"edge\">\n<title>2131603191696&#45;&gt;2131603191744+</title>\n<path fill=\"none\" stroke=\"black\" d=\"M927.94,-82.53C939.12,-80.88 949.76,-79.31 959.16,-77.93\"/>\n<polygon fill=\"black\" stroke=\"black\" points=\"959.47,-81.42 968.86,-76.5 958.45,-74.5 959.47,-81.42\"/>\n</g>\n<!-- 2131603191696+&#45;&gt;2131603191696 -->\n<g id=\"edge4\" class=\"edge\">\n<title>2131603191696+&#45;&gt;2131603191696</title>\n<path fill=\"none\" stroke=\"black\" d=\"M640.42,-100.5C647.6,-100.5 655.89,-100.5 664.86,-100.5\"/>\n<polygon fill=\"black\" stroke=\"black\" points=\"664.59,-104 674.59,-100.5 664.59,-97 664.59,-104\"/>\n</g>\n<!-- 2131637803952 -->\n<g id=\"node12\" class=\"node\">\n<title>2131637803952</title>\n<polygon fill=\"none\" stroke=\"black\" points=\"4,-110.5 4,-146.5 198,-146.5 198,-110.5 4,-110.5\"/>\n<text text-anchor=\"middle\" x=\"19\" y=\"-124.8\" font-family=\"Times New Roman,serif\" font-size=\"14.00\">x2</text>\n<polyline fill=\"none\" stroke=\"black\" points=\"34,-110.5 34,-146.5\"/>\n<text text-anchor=\"middle\" x=\"74.5\" y=\"-124.8\" font-family=\"Times New Roman,serif\" font-size=\"14.00\">data 0.0000</text>\n<polyline fill=\"none\" stroke=\"black\" points=\"115,-110.5 115,-146.5\"/>\n<text text-anchor=\"middle\" x=\"156.5\" y=\"-124.8\" font-family=\"Times New Roman,serif\" font-size=\"14.00\">grad 0.0000</text>\n</g>\n<!-- 2131637803952&#45;&gt;2131603165440* -->\n<g id=\"edge11\" class=\"edge\">\n<title>2131637803952&#45;&gt;2131603165440*</title>\n<path fill=\"none\" stroke=\"black\" d=\"M197.64,-128.5C207.72,-128.5 217.49,-128.5 226.29,-128.5\"/>\n<polygon fill=\"black\" stroke=\"black\" points=\"226.11,-132 236.11,-128.5 226.11,-125 226.11,-132\"/>\n</g>\n<!-- 2131603191744 -->\n<g id=\"node13\" class=\"node\">\n<title>2131603191744</title>\n<polygon fill=\"none\" stroke=\"black\" points=\"1060,-54.5 1060,-90.5 1247,-90.5 1247,-54.5 1060,-54.5\"/>\n<text text-anchor=\"middle\" x=\"1071.5\" y=\"-68.8\" font-family=\"Times New Roman,serif\" font-size=\"14.00\">n</text>\n<polyline fill=\"none\" stroke=\"black\" points=\"1083,-54.5 1083,-90.5\"/>\n<text text-anchor=\"middle\" x=\"1123.5\" y=\"-68.8\" font-family=\"Times New Roman,serif\" font-size=\"14.00\">data 0.8814</text>\n<polyline fill=\"none\" stroke=\"black\" points=\"1164,-54.5 1164,-90.5\"/>\n<text text-anchor=\"middle\" x=\"1205.5\" y=\"-68.8\" font-family=\"Times New Roman,serif\" font-size=\"14.00\">grad 0.0000</text>\n</g>\n<!-- 2131603191744&#45;&gt;2131603191552tanh -->\n<g id=\"edge6\" class=\"edge\">\n<title>2131603191744&#45;&gt;2131603191552tanh</title>\n<path fill=\"none\" stroke=\"black\" d=\"M1246.6,-72.5C1255.26,-72.5 1263.65,-72.5 1271.33,-72.5\"/>\n<polygon fill=\"black\" stroke=\"black\" points=\"1271.23,-76 1281.23,-72.5 1271.23,-69 1271.23,-76\"/>\n</g>\n<!-- 2131603191744+&#45;&gt;2131603191744 -->\n<g id=\"edge5\" class=\"edge\">\n<title>2131603191744+&#45;&gt;2131603191744</title>\n<path fill=\"none\" stroke=\"black\" d=\"M1024.21,-72.5C1031.47,-72.5 1039.83,-72.5 1048.71,-72.5\"/>\n<polygon fill=\"black\" stroke=\"black\" points=\"1048.7,-76 1058.7,-72.5 1048.7,-69 1048.7,-76\"/>\n</g>\n<!-- 2131603024816 -->\n<g id=\"node15\" class=\"node\">\n<title>2131603024816</title>\n<polygon fill=\"none\" stroke=\"black\" points=\"0,-0.5 0,-36.5 202,-36.5 202,-0.5 0,-0.5\"/>\n<text text-anchor=\"middle\" x=\"16.5\" y=\"-14.8\" font-family=\"Times New Roman,serif\" font-size=\"14.00\">w1</text>\n<polyline fill=\"none\" stroke=\"black\" points=\"33,-0.5 33,-36.5\"/>\n<text text-anchor=\"middle\" x=\"76\" y=\"-14.8\" font-family=\"Times New Roman,serif\" font-size=\"14.00\">data &#45;3.0000</text>\n<polyline fill=\"none\" stroke=\"black\" points=\"119,-0.5 119,-36.5\"/>\n<text text-anchor=\"middle\" x=\"160.5\" y=\"-14.8\" font-family=\"Times New Roman,serif\" font-size=\"14.00\">grad 0.0000</text>\n</g>\n<!-- 2131603024816&#45;&gt;2131603166064* -->\n<g id=\"edge9\" class=\"edge\">\n<title>2131603024816&#45;&gt;2131603166064*</title>\n<path fill=\"none\" stroke=\"black\" d=\"M170.98,-36.47C181.45,-39.58 192.06,-42.96 202,-46.5 211.97,-50.05 222.6,-54.44 232.19,-58.65\"/>\n<polygon fill=\"black\" stroke=\"black\" points=\"230.55,-61.75 241.11,-62.64 233.41,-55.36 230.55,-61.75\"/>\n</g>\n</g>\n</svg>\n",
      "text/plain": [
       "<graphviz.graphs.Digraph at 0x1f04d731f70>"
      ]
     },
     "execution_count": 34,
     "metadata": {},
     "output_type": "execute_result"
    }
   ],
   "source": [
    "draw_dot(o)"
   ]
  },
  {
   "cell_type": "code",
   "execution_count": 35,
   "metadata": {},
   "outputs": [],
   "source": [
    "o.grad = 1.0\n",
    "o._backward()"
   ]
  },
  {
   "cell_type": "code",
   "execution_count": 36,
   "metadata": {},
   "outputs": [],
   "source": [
    "n._backward()\n",
    "b._backward()"
   ]
  },
  {
   "cell_type": "code",
   "execution_count": 37,
   "metadata": {},
   "outputs": [],
   "source": [
    "x1w1x2w2._backward()"
   ]
  },
  {
   "cell_type": "code",
   "execution_count": 38,
   "metadata": {},
   "outputs": [
    {
     "data": {
      "image/svg+xml": "<?xml version=\"1.0\" encoding=\"UTF-8\" standalone=\"no\"?>\n<!DOCTYPE svg PUBLIC \"-//W3C//DTD SVG 1.1//EN\"\n \"http://www.w3.org/Graphics/SVG/1.1/DTD/svg11.dtd\">\n<!-- Generated by graphviz version 7.1.0 (20230121.1956)\n -->\n<!-- Pages: 1 -->\n<svg width=\"1569pt\" height=\"210pt\"\n viewBox=\"0.00 0.00 1569.00 210.00\" xmlns=\"http://www.w3.org/2000/svg\" xmlns:xlink=\"http://www.w3.org/1999/xlink\">\n<g id=\"graph0\" class=\"graph\" transform=\"scale(1 1) rotate(0) translate(4 206)\">\n<polygon fill=\"white\" stroke=\"none\" points=\"-4,4 -4,-206 1565,-206 1565,4 -4,4\"/>\n<!-- 2131603165248 -->\n<g id=\"node1\" class=\"node\">\n<title>2131603165248</title>\n<polygon fill=\"none\" stroke=\"black\" points=\"2.5,-165.5 2.5,-201.5 199.5,-201.5 199.5,-165.5 2.5,-165.5\"/>\n<text text-anchor=\"middle\" x=\"19\" y=\"-179.8\" font-family=\"Times New Roman,serif\" font-size=\"14.00\">w2</text>\n<polyline fill=\"none\" stroke=\"black\" points=\"35.5,-165.5 35.5,-201.5\"/>\n<text text-anchor=\"middle\" x=\"76\" y=\"-179.8\" font-family=\"Times New Roman,serif\" font-size=\"14.00\">data 1.0000</text>\n<polyline fill=\"none\" stroke=\"black\" points=\"116.5,-165.5 116.5,-201.5\"/>\n<text text-anchor=\"middle\" x=\"158\" y=\"-179.8\" font-family=\"Times New Roman,serif\" font-size=\"14.00\">grad 0.0000</text>\n</g>\n<!-- 2131603165440* -->\n<g id=\"node7\" class=\"node\">\n<title>2131603165440*</title>\n<ellipse fill=\"none\" stroke=\"black\" cx=\"265\" cy=\"-128.5\" rx=\"27\" ry=\"18\"/>\n<text text-anchor=\"middle\" x=\"265\" y=\"-124.8\" font-family=\"Times New Roman,serif\" font-size=\"14.00\">*</text>\n</g>\n<!-- 2131603165248&#45;&gt;2131603165440* -->\n<g id=\"edge14\" class=\"edge\">\n<title>2131603165248&#45;&gt;2131603165440*</title>\n<path fill=\"none\" stroke=\"black\" d=\"M173.99,-165.56C183.48,-162.75 193.03,-159.71 202,-156.5 212.1,-152.88 222.83,-148.31 232.49,-143.91\"/>\n<polygon fill=\"black\" stroke=\"black\" points=\"233.88,-147.12 241.46,-139.72 230.92,-140.78 233.88,-147.12\"/>\n</g>\n<!-- 2131594445440 -->\n<g id=\"node2\" class=\"node\">\n<title>2131594445440</title>\n<polygon fill=\"none\" stroke=\"black\" points=\"4,-55.5 4,-91.5 198,-91.5 198,-55.5 4,-55.5\"/>\n<text text-anchor=\"middle\" x=\"19\" y=\"-69.8\" font-family=\"Times New Roman,serif\" font-size=\"14.00\">x1</text>\n<polyline fill=\"none\" stroke=\"black\" points=\"34,-55.5 34,-91.5\"/>\n<text text-anchor=\"middle\" x=\"74.5\" y=\"-69.8\" font-family=\"Times New Roman,serif\" font-size=\"14.00\">data 2.0000</text>\n<polyline fill=\"none\" stroke=\"black\" points=\"115,-55.5 115,-91.5\"/>\n<text text-anchor=\"middle\" x=\"156.5\" y=\"-69.8\" font-family=\"Times New Roman,serif\" font-size=\"14.00\">grad 0.0000</text>\n</g>\n<!-- 2131603166064* -->\n<g id=\"node9\" class=\"node\">\n<title>2131603166064*</title>\n<ellipse fill=\"none\" stroke=\"black\" cx=\"265\" cy=\"-73.5\" rx=\"27\" ry=\"18\"/>\n<text text-anchor=\"middle\" x=\"265\" y=\"-69.8\" font-family=\"Times New Roman,serif\" font-size=\"14.00\">*</text>\n</g>\n<!-- 2131594445440&#45;&gt;2131603166064* -->\n<g id=\"edge12\" class=\"edge\">\n<title>2131594445440&#45;&gt;2131603166064*</title>\n<path fill=\"none\" stroke=\"black\" d=\"M197.64,-73.5C207.72,-73.5 217.49,-73.5 226.29,-73.5\"/>\n<polygon fill=\"black\" stroke=\"black\" points=\"226.11,-77 236.11,-73.5 226.11,-70 226.11,-77\"/>\n</g>\n<!-- 2131603165392 -->\n<g id=\"node3\" class=\"node\">\n<title>2131603165392</title>\n<polygon fill=\"none\" stroke=\"black\" points=\"711,-27.5 711,-63.5 899,-63.5 899,-27.5 711,-27.5\"/>\n<text text-anchor=\"middle\" x=\"723\" y=\"-41.8\" font-family=\"Times New Roman,serif\" font-size=\"14.00\">b</text>\n<polyline fill=\"none\" stroke=\"black\" points=\"735,-27.5 735,-63.5\"/>\n<text text-anchor=\"middle\" x=\"775.5\" y=\"-41.8\" font-family=\"Times New Roman,serif\" font-size=\"14.00\">data 6.8814</text>\n<polyline fill=\"none\" stroke=\"black\" points=\"816,-27.5 816,-63.5\"/>\n<text text-anchor=\"middle\" x=\"857.5\" y=\"-41.8\" font-family=\"Times New Roman,serif\" font-size=\"14.00\">grad 0.5000</text>\n</g>\n<!-- 2131603191744+ -->\n<g id=\"node14\" class=\"node\">\n<title>2131603191744+</title>\n<ellipse fill=\"none\" stroke=\"black\" cx=\"997\" cy=\"-72.5\" rx=\"27\" ry=\"18\"/>\n<text text-anchor=\"middle\" x=\"997\" y=\"-68.8\" font-family=\"Times New Roman,serif\" font-size=\"14.00\">+</text>\n</g>\n<!-- 2131603165392&#45;&gt;2131603191744+ -->\n<g id=\"edge8\" class=\"edge\">\n<title>2131603165392&#45;&gt;2131603191744+</title>\n<path fill=\"none\" stroke=\"black\" d=\"M898.77,-58.68C920.2,-61.73 941.79,-64.8 959.15,-67.26\"/>\n<polygon fill=\"black\" stroke=\"black\" points=\"958.56,-70.71 968.95,-68.66 959.54,-63.78 958.56,-70.71\"/>\n</g>\n<!-- 2131603191552 -->\n<g id=\"node4\" class=\"node\">\n<title>2131603191552</title>\n<polygon fill=\"none\" stroke=\"black\" points=\"1373,-54.5 1373,-90.5 1561,-90.5 1561,-54.5 1373,-54.5\"/>\n<text text-anchor=\"middle\" x=\"1385\" y=\"-68.8\" font-family=\"Times New Roman,serif\" font-size=\"14.00\">o</text>\n<polyline fill=\"none\" stroke=\"black\" points=\"1397,-54.5 1397,-90.5\"/>\n<text text-anchor=\"middle\" x=\"1437.5\" y=\"-68.8\" font-family=\"Times New Roman,serif\" font-size=\"14.00\">data 0.7071</text>\n<polyline fill=\"none\" stroke=\"black\" points=\"1478,-54.5 1478,-90.5\"/>\n<text text-anchor=\"middle\" x=\"1519.5\" y=\"-68.8\" font-family=\"Times New Roman,serif\" font-size=\"14.00\">grad 1.0000</text>\n</g>\n<!-- 2131603191552tanh -->\n<g id=\"node5\" class=\"node\">\n<title>2131603191552tanh</title>\n<ellipse fill=\"none\" stroke=\"black\" cx=\"1310\" cy=\"-72.5\" rx=\"27\" ry=\"18\"/>\n<text text-anchor=\"middle\" x=\"1310\" y=\"-68.8\" font-family=\"Times New Roman,serif\" font-size=\"14.00\">tanh</text>\n</g>\n<!-- 2131603191552tanh&#45;&gt;2131603191552 -->\n<g id=\"edge1\" class=\"edge\">\n<title>2131603191552tanh&#45;&gt;2131603191552</title>\n<path fill=\"none\" stroke=\"black\" d=\"M1337.29,-72.5C1344.52,-72.5 1352.82,-72.5 1361.66,-72.5\"/>\n<polygon fill=\"black\" stroke=\"black\" points=\"1361.57,-76 1371.57,-72.5 1361.57,-69 1361.57,-76\"/>\n</g>\n<!-- 2131603165440 -->\n<g id=\"node6\" class=\"node\">\n<title>2131603165440</title>\n<polygon fill=\"none\" stroke=\"black\" points=\"330.5,-110.5 330.5,-146.5 547.5,-146.5 547.5,-110.5 330.5,-110.5\"/>\n<text text-anchor=\"middle\" x=\"357\" y=\"-124.8\" font-family=\"Times New Roman,serif\" font-size=\"14.00\">x2*w2</text>\n<polyline fill=\"none\" stroke=\"black\" points=\"383.5,-110.5 383.5,-146.5\"/>\n<text text-anchor=\"middle\" x=\"424\" y=\"-124.8\" font-family=\"Times New Roman,serif\" font-size=\"14.00\">data 0.0000</text>\n<polyline fill=\"none\" stroke=\"black\" points=\"464.5,-110.5 464.5,-146.5\"/>\n<text text-anchor=\"middle\" x=\"506\" y=\"-124.8\" font-family=\"Times New Roman,serif\" font-size=\"14.00\">grad 0.5000</text>\n</g>\n<!-- 2131603191696+ -->\n<g id=\"node11\" class=\"node\">\n<title>2131603191696+</title>\n<ellipse fill=\"none\" stroke=\"black\" cx=\"613\" cy=\"-100.5\" rx=\"27\" ry=\"18\"/>\n<text text-anchor=\"middle\" x=\"613\" y=\"-96.8\" font-family=\"Times New Roman,serif\" font-size=\"14.00\">+</text>\n</g>\n<!-- 2131603165440&#45;&gt;2131603191696+ -->\n<g id=\"edge10\" class=\"edge\">\n<title>2131603165440&#45;&gt;2131603191696+</title>\n<path fill=\"none\" stroke=\"black\" d=\"M547.46,-111.01C557.25,-109.41 566.64,-107.88 575.08,-106.51\"/>\n<polygon fill=\"black\" stroke=\"black\" points=\"575.52,-109.98 584.83,-104.92 574.4,-103.08 575.52,-109.98\"/>\n</g>\n<!-- 2131603165440*&#45;&gt;2131603165440 -->\n<g id=\"edge2\" class=\"edge\">\n<title>2131603165440*&#45;&gt;2131603165440</title>\n<path fill=\"none\" stroke=\"black\" d=\"M292.5,-128.5C300.37,-128.5 309.55,-128.5 319.4,-128.5\"/>\n<polygon fill=\"black\" stroke=\"black\" points=\"319.25,-132 329.25,-128.5 319.25,-125 319.25,-132\"/>\n</g>\n<!-- 2131603166064 -->\n<g id=\"node8\" class=\"node\">\n<title>2131603166064</title>\n<polygon fill=\"none\" stroke=\"black\" points=\"328,-55.5 328,-91.5 550,-91.5 550,-55.5 328,-55.5\"/>\n<text text-anchor=\"middle\" x=\"354.5\" y=\"-69.8\" font-family=\"Times New Roman,serif\" font-size=\"14.00\">x1*w1</text>\n<polyline fill=\"none\" stroke=\"black\" points=\"381,-55.5 381,-91.5\"/>\n<text text-anchor=\"middle\" x=\"424\" y=\"-69.8\" font-family=\"Times New Roman,serif\" font-size=\"14.00\">data &#45;6.0000</text>\n<polyline fill=\"none\" stroke=\"black\" points=\"467,-55.5 467,-91.5\"/>\n<text text-anchor=\"middle\" x=\"508.5\" y=\"-69.8\" font-family=\"Times New Roman,serif\" font-size=\"14.00\">grad 0.5000</text>\n</g>\n<!-- 2131603166064&#45;&gt;2131603191696+ -->\n<g id=\"edge13\" class=\"edge\">\n<title>2131603166064&#45;&gt;2131603191696+</title>\n<path fill=\"none\" stroke=\"black\" d=\"M549.9,-90.75C558.72,-92.14 567.17,-93.46 574.84,-94.67\"/>\n<polygon fill=\"black\" stroke=\"black\" points=\"574.29,-98.12 584.71,-96.22 575.37,-91.21 574.29,-98.12\"/>\n</g>\n<!-- 2131603166064*&#45;&gt;2131603166064 -->\n<g id=\"edge3\" class=\"edge\">\n<title>2131603166064*&#45;&gt;2131603166064</title>\n<path fill=\"none\" stroke=\"black\" d=\"M292.5,-73.5C299.65,-73.5 307.89,-73.5 316.72,-73.5\"/>\n<polygon fill=\"black\" stroke=\"black\" points=\"316.69,-77 326.68,-73.5 316.68,-70 316.69,-77\"/>\n</g>\n<!-- 2131603191696 -->\n<g id=\"node10\" class=\"node\">\n<title>2131603191696</title>\n<polygon fill=\"none\" stroke=\"black\" points=\"676,-82.5 676,-118.5 934,-118.5 934,-82.5 676,-82.5\"/>\n<text text-anchor=\"middle\" x=\"720.5\" y=\"-96.8\" font-family=\"Times New Roman,serif\" font-size=\"14.00\">x1w1+ x2w2</text>\n<polyline fill=\"none\" stroke=\"black\" points=\"765,-82.5 765,-118.5\"/>\n<text text-anchor=\"middle\" x=\"808\" y=\"-96.8\" font-family=\"Times New Roman,serif\" font-size=\"14.00\">data &#45;6.0000</text>\n<polyline fill=\"none\" stroke=\"black\" points=\"851,-82.5 851,-118.5\"/>\n<text text-anchor=\"middle\" x=\"892.5\" y=\"-96.8\" font-family=\"Times New Roman,serif\" font-size=\"14.00\">grad 0.5000</text>\n</g>\n<!-- 2131603191696&#45;&gt;2131603191744+ -->\n<g id=\"edge7\" class=\"edge\">\n<title>2131603191696&#45;&gt;2131603191744+</title>\n<path fill=\"none\" stroke=\"black\" d=\"M927.94,-82.53C939.12,-80.88 949.76,-79.31 959.16,-77.93\"/>\n<polygon fill=\"black\" stroke=\"black\" points=\"959.47,-81.42 968.86,-76.5 958.45,-74.5 959.47,-81.42\"/>\n</g>\n<!-- 2131603191696+&#45;&gt;2131603191696 -->\n<g id=\"edge4\" class=\"edge\">\n<title>2131603191696+&#45;&gt;2131603191696</title>\n<path fill=\"none\" stroke=\"black\" d=\"M640.42,-100.5C647.6,-100.5 655.89,-100.5 664.86,-100.5\"/>\n<polygon fill=\"black\" stroke=\"black\" points=\"664.59,-104 674.59,-100.5 664.59,-97 664.59,-104\"/>\n</g>\n<!-- 2131637803952 -->\n<g id=\"node12\" class=\"node\">\n<title>2131637803952</title>\n<polygon fill=\"none\" stroke=\"black\" points=\"4,-110.5 4,-146.5 198,-146.5 198,-110.5 4,-110.5\"/>\n<text text-anchor=\"middle\" x=\"19\" y=\"-124.8\" font-family=\"Times New Roman,serif\" font-size=\"14.00\">x2</text>\n<polyline fill=\"none\" stroke=\"black\" points=\"34,-110.5 34,-146.5\"/>\n<text text-anchor=\"middle\" x=\"74.5\" y=\"-124.8\" font-family=\"Times New Roman,serif\" font-size=\"14.00\">data 0.0000</text>\n<polyline fill=\"none\" stroke=\"black\" points=\"115,-110.5 115,-146.5\"/>\n<text text-anchor=\"middle\" x=\"156.5\" y=\"-124.8\" font-family=\"Times New Roman,serif\" font-size=\"14.00\">grad 0.0000</text>\n</g>\n<!-- 2131637803952&#45;&gt;2131603165440* -->\n<g id=\"edge11\" class=\"edge\">\n<title>2131637803952&#45;&gt;2131603165440*</title>\n<path fill=\"none\" stroke=\"black\" d=\"M197.64,-128.5C207.72,-128.5 217.49,-128.5 226.29,-128.5\"/>\n<polygon fill=\"black\" stroke=\"black\" points=\"226.11,-132 236.11,-128.5 226.11,-125 226.11,-132\"/>\n</g>\n<!-- 2131603191744 -->\n<g id=\"node13\" class=\"node\">\n<title>2131603191744</title>\n<polygon fill=\"none\" stroke=\"black\" points=\"1060,-54.5 1060,-90.5 1247,-90.5 1247,-54.5 1060,-54.5\"/>\n<text text-anchor=\"middle\" x=\"1071.5\" y=\"-68.8\" font-family=\"Times New Roman,serif\" font-size=\"14.00\">n</text>\n<polyline fill=\"none\" stroke=\"black\" points=\"1083,-54.5 1083,-90.5\"/>\n<text text-anchor=\"middle\" x=\"1123.5\" y=\"-68.8\" font-family=\"Times New Roman,serif\" font-size=\"14.00\">data 0.8814</text>\n<polyline fill=\"none\" stroke=\"black\" points=\"1164,-54.5 1164,-90.5\"/>\n<text text-anchor=\"middle\" x=\"1205.5\" y=\"-68.8\" font-family=\"Times New Roman,serif\" font-size=\"14.00\">grad 0.5000</text>\n</g>\n<!-- 2131603191744&#45;&gt;2131603191552tanh -->\n<g id=\"edge6\" class=\"edge\">\n<title>2131603191744&#45;&gt;2131603191552tanh</title>\n<path fill=\"none\" stroke=\"black\" d=\"M1246.6,-72.5C1255.26,-72.5 1263.65,-72.5 1271.33,-72.5\"/>\n<polygon fill=\"black\" stroke=\"black\" points=\"1271.23,-76 1281.23,-72.5 1271.23,-69 1271.23,-76\"/>\n</g>\n<!-- 2131603191744+&#45;&gt;2131603191744 -->\n<g id=\"edge5\" class=\"edge\">\n<title>2131603191744+&#45;&gt;2131603191744</title>\n<path fill=\"none\" stroke=\"black\" d=\"M1024.21,-72.5C1031.47,-72.5 1039.83,-72.5 1048.71,-72.5\"/>\n<polygon fill=\"black\" stroke=\"black\" points=\"1048.7,-76 1058.7,-72.5 1048.7,-69 1048.7,-76\"/>\n</g>\n<!-- 2131603024816 -->\n<g id=\"node15\" class=\"node\">\n<title>2131603024816</title>\n<polygon fill=\"none\" stroke=\"black\" points=\"0,-0.5 0,-36.5 202,-36.5 202,-0.5 0,-0.5\"/>\n<text text-anchor=\"middle\" x=\"16.5\" y=\"-14.8\" font-family=\"Times New Roman,serif\" font-size=\"14.00\">w1</text>\n<polyline fill=\"none\" stroke=\"black\" points=\"33,-0.5 33,-36.5\"/>\n<text text-anchor=\"middle\" x=\"76\" y=\"-14.8\" font-family=\"Times New Roman,serif\" font-size=\"14.00\">data &#45;3.0000</text>\n<polyline fill=\"none\" stroke=\"black\" points=\"119,-0.5 119,-36.5\"/>\n<text text-anchor=\"middle\" x=\"160.5\" y=\"-14.8\" font-family=\"Times New Roman,serif\" font-size=\"14.00\">grad 0.0000</text>\n</g>\n<!-- 2131603024816&#45;&gt;2131603166064* -->\n<g id=\"edge9\" class=\"edge\">\n<title>2131603024816&#45;&gt;2131603166064*</title>\n<path fill=\"none\" stroke=\"black\" d=\"M170.98,-36.47C181.45,-39.58 192.06,-42.96 202,-46.5 211.97,-50.05 222.6,-54.44 232.19,-58.65\"/>\n<polygon fill=\"black\" stroke=\"black\" points=\"230.55,-61.75 241.11,-62.64 233.41,-55.36 230.55,-61.75\"/>\n</g>\n</g>\n</svg>\n",
      "text/plain": [
       "<graphviz.graphs.Digraph at 0x1f04d731e80>"
      ]
     },
     "execution_count": 38,
     "metadata": {},
     "output_type": "execute_result"
    }
   ],
   "source": [
    "draw_dot(o)"
   ]
  },
  {
   "cell_type": "code",
   "execution_count": 39,
   "metadata": {},
   "outputs": [],
   "source": [
    "o.grad = 1.0\n",
    "o._backward()\n",
    "x1w1._backward()\n",
    "x2w2._backward()\n",
    "x1w1x2w2._backward()\n",
    "n._backward()\n",
    "b._backward()"
   ]
  },
  {
   "attachments": {},
   "cell_type": "markdown",
   "metadata": {},
   "source": [
    "### Automating this:\n",
    "Use a technique called Topological Sort to get the ordering of graphs to process all edges from left to right.\n"
   ]
  },
  {
   "cell_type": "code",
   "execution_count": 40,
   "metadata": {},
   "outputs": [
    {
     "data": {
      "image/svg+xml": "<?xml version=\"1.0\" encoding=\"UTF-8\" standalone=\"no\"?>\n<!DOCTYPE svg PUBLIC \"-//W3C//DTD SVG 1.1//EN\"\n \"http://www.w3.org/Graphics/SVG/1.1/DTD/svg11.dtd\">\n<!-- Generated by graphviz version 7.1.0 (20230121.1956)\n -->\n<!-- Pages: 1 -->\n<svg width=\"1569pt\" height=\"210pt\"\n viewBox=\"0.00 0.00 1569.00 210.00\" xmlns=\"http://www.w3.org/2000/svg\" xmlns:xlink=\"http://www.w3.org/1999/xlink\">\n<g id=\"graph0\" class=\"graph\" transform=\"scale(1 1) rotate(0) translate(4 206)\">\n<polygon fill=\"white\" stroke=\"none\" points=\"-4,4 -4,-206 1565,-206 1565,4 -4,4\"/>\n<!-- 2131603165248 -->\n<g id=\"node1\" class=\"node\">\n<title>2131603165248</title>\n<polygon fill=\"none\" stroke=\"black\" points=\"2.5,-165.5 2.5,-201.5 199.5,-201.5 199.5,-165.5 2.5,-165.5\"/>\n<text text-anchor=\"middle\" x=\"19\" y=\"-179.8\" font-family=\"Times New Roman,serif\" font-size=\"14.00\">w2</text>\n<polyline fill=\"none\" stroke=\"black\" points=\"35.5,-165.5 35.5,-201.5\"/>\n<text text-anchor=\"middle\" x=\"76\" y=\"-179.8\" font-family=\"Times New Roman,serif\" font-size=\"14.00\">data 1.0000</text>\n<polyline fill=\"none\" stroke=\"black\" points=\"116.5,-165.5 116.5,-201.5\"/>\n<text text-anchor=\"middle\" x=\"158\" y=\"-179.8\" font-family=\"Times New Roman,serif\" font-size=\"14.00\">grad 0.0000</text>\n</g>\n<!-- 2131603165440* -->\n<g id=\"node7\" class=\"node\">\n<title>2131603165440*</title>\n<ellipse fill=\"none\" stroke=\"black\" cx=\"265\" cy=\"-128.5\" rx=\"27\" ry=\"18\"/>\n<text text-anchor=\"middle\" x=\"265\" y=\"-124.8\" font-family=\"Times New Roman,serif\" font-size=\"14.00\">*</text>\n</g>\n<!-- 2131603165248&#45;&gt;2131603165440* -->\n<g id=\"edge14\" class=\"edge\">\n<title>2131603165248&#45;&gt;2131603165440*</title>\n<path fill=\"none\" stroke=\"black\" d=\"M173.99,-165.56C183.48,-162.75 193.03,-159.71 202,-156.5 212.1,-152.88 222.83,-148.31 232.49,-143.91\"/>\n<polygon fill=\"black\" stroke=\"black\" points=\"233.88,-147.12 241.46,-139.72 230.92,-140.78 233.88,-147.12\"/>\n</g>\n<!-- 2131594445440 -->\n<g id=\"node2\" class=\"node\">\n<title>2131594445440</title>\n<polygon fill=\"none\" stroke=\"black\" points=\"2,-55.5 2,-91.5 200,-91.5 200,-55.5 2,-55.5\"/>\n<text text-anchor=\"middle\" x=\"17\" y=\"-69.8\" font-family=\"Times New Roman,serif\" font-size=\"14.00\">x1</text>\n<polyline fill=\"none\" stroke=\"black\" points=\"32,-55.5 32,-91.5\"/>\n<text text-anchor=\"middle\" x=\"72.5\" y=\"-69.8\" font-family=\"Times New Roman,serif\" font-size=\"14.00\">data 2.0000</text>\n<polyline fill=\"none\" stroke=\"black\" points=\"113,-55.5 113,-91.5\"/>\n<text text-anchor=\"middle\" x=\"156.5\" y=\"-69.8\" font-family=\"Times New Roman,serif\" font-size=\"14.00\">grad &#45;1.5000</text>\n</g>\n<!-- 2131603166064* -->\n<g id=\"node9\" class=\"node\">\n<title>2131603166064*</title>\n<ellipse fill=\"none\" stroke=\"black\" cx=\"265\" cy=\"-73.5\" rx=\"27\" ry=\"18\"/>\n<text text-anchor=\"middle\" x=\"265\" y=\"-69.8\" font-family=\"Times New Roman,serif\" font-size=\"14.00\">*</text>\n</g>\n<!-- 2131594445440&#45;&gt;2131603166064* -->\n<g id=\"edge12\" class=\"edge\">\n<title>2131594445440&#45;&gt;2131603166064*</title>\n<path fill=\"none\" stroke=\"black\" d=\"M199.97,-73.5C209.29,-73.5 218.28,-73.5 226.45,-73.5\"/>\n<polygon fill=\"black\" stroke=\"black\" points=\"226.23,-77 236.23,-73.5 226.23,-70 226.23,-77\"/>\n</g>\n<!-- 2131603165392 -->\n<g id=\"node3\" class=\"node\">\n<title>2131603165392</title>\n<polygon fill=\"none\" stroke=\"black\" points=\"711,-27.5 711,-63.5 899,-63.5 899,-27.5 711,-27.5\"/>\n<text text-anchor=\"middle\" x=\"723\" y=\"-41.8\" font-family=\"Times New Roman,serif\" font-size=\"14.00\">b</text>\n<polyline fill=\"none\" stroke=\"black\" points=\"735,-27.5 735,-63.5\"/>\n<text text-anchor=\"middle\" x=\"775.5\" y=\"-41.8\" font-family=\"Times New Roman,serif\" font-size=\"14.00\">data 6.8814</text>\n<polyline fill=\"none\" stroke=\"black\" points=\"816,-27.5 816,-63.5\"/>\n<text text-anchor=\"middle\" x=\"857.5\" y=\"-41.8\" font-family=\"Times New Roman,serif\" font-size=\"14.00\">grad 0.5000</text>\n</g>\n<!-- 2131603191744+ -->\n<g id=\"node14\" class=\"node\">\n<title>2131603191744+</title>\n<ellipse fill=\"none\" stroke=\"black\" cx=\"997\" cy=\"-72.5\" rx=\"27\" ry=\"18\"/>\n<text text-anchor=\"middle\" x=\"997\" y=\"-68.8\" font-family=\"Times New Roman,serif\" font-size=\"14.00\">+</text>\n</g>\n<!-- 2131603165392&#45;&gt;2131603191744+ -->\n<g id=\"edge8\" class=\"edge\">\n<title>2131603165392&#45;&gt;2131603191744+</title>\n<path fill=\"none\" stroke=\"black\" d=\"M898.77,-58.68C920.2,-61.73 941.79,-64.8 959.15,-67.26\"/>\n<polygon fill=\"black\" stroke=\"black\" points=\"958.56,-70.71 968.95,-68.66 959.54,-63.78 958.56,-70.71\"/>\n</g>\n<!-- 2131603191552 -->\n<g id=\"node4\" class=\"node\">\n<title>2131603191552</title>\n<polygon fill=\"none\" stroke=\"black\" points=\"1373,-54.5 1373,-90.5 1561,-90.5 1561,-54.5 1373,-54.5\"/>\n<text text-anchor=\"middle\" x=\"1385\" y=\"-68.8\" font-family=\"Times New Roman,serif\" font-size=\"14.00\">o</text>\n<polyline fill=\"none\" stroke=\"black\" points=\"1397,-54.5 1397,-90.5\"/>\n<text text-anchor=\"middle\" x=\"1437.5\" y=\"-68.8\" font-family=\"Times New Roman,serif\" font-size=\"14.00\">data 0.7071</text>\n<polyline fill=\"none\" stroke=\"black\" points=\"1478,-54.5 1478,-90.5\"/>\n<text text-anchor=\"middle\" x=\"1519.5\" y=\"-68.8\" font-family=\"Times New Roman,serif\" font-size=\"14.00\">grad 1.0000</text>\n</g>\n<!-- 2131603191552tanh -->\n<g id=\"node5\" class=\"node\">\n<title>2131603191552tanh</title>\n<ellipse fill=\"none\" stroke=\"black\" cx=\"1310\" cy=\"-72.5\" rx=\"27\" ry=\"18\"/>\n<text text-anchor=\"middle\" x=\"1310\" y=\"-68.8\" font-family=\"Times New Roman,serif\" font-size=\"14.00\">tanh</text>\n</g>\n<!-- 2131603191552tanh&#45;&gt;2131603191552 -->\n<g id=\"edge1\" class=\"edge\">\n<title>2131603191552tanh&#45;&gt;2131603191552</title>\n<path fill=\"none\" stroke=\"black\" d=\"M1337.29,-72.5C1344.52,-72.5 1352.82,-72.5 1361.66,-72.5\"/>\n<polygon fill=\"black\" stroke=\"black\" points=\"1361.57,-76 1371.57,-72.5 1361.57,-69 1361.57,-76\"/>\n</g>\n<!-- 2131603165440 -->\n<g id=\"node6\" class=\"node\">\n<title>2131603165440</title>\n<polygon fill=\"none\" stroke=\"black\" points=\"330.5,-110.5 330.5,-146.5 547.5,-146.5 547.5,-110.5 330.5,-110.5\"/>\n<text text-anchor=\"middle\" x=\"357\" y=\"-124.8\" font-family=\"Times New Roman,serif\" font-size=\"14.00\">x2*w2</text>\n<polyline fill=\"none\" stroke=\"black\" points=\"383.5,-110.5 383.5,-146.5\"/>\n<text text-anchor=\"middle\" x=\"424\" y=\"-124.8\" font-family=\"Times New Roman,serif\" font-size=\"14.00\">data 0.0000</text>\n<polyline fill=\"none\" stroke=\"black\" points=\"464.5,-110.5 464.5,-146.5\"/>\n<text text-anchor=\"middle\" x=\"506\" y=\"-124.8\" font-family=\"Times New Roman,serif\" font-size=\"14.00\">grad 0.5000</text>\n</g>\n<!-- 2131603191696+ -->\n<g id=\"node11\" class=\"node\">\n<title>2131603191696+</title>\n<ellipse fill=\"none\" stroke=\"black\" cx=\"613\" cy=\"-100.5\" rx=\"27\" ry=\"18\"/>\n<text text-anchor=\"middle\" x=\"613\" y=\"-96.8\" font-family=\"Times New Roman,serif\" font-size=\"14.00\">+</text>\n</g>\n<!-- 2131603165440&#45;&gt;2131603191696+ -->\n<g id=\"edge10\" class=\"edge\">\n<title>2131603165440&#45;&gt;2131603191696+</title>\n<path fill=\"none\" stroke=\"black\" d=\"M547.46,-111.01C557.25,-109.41 566.64,-107.88 575.08,-106.51\"/>\n<polygon fill=\"black\" stroke=\"black\" points=\"575.52,-109.98 584.83,-104.92 574.4,-103.08 575.52,-109.98\"/>\n</g>\n<!-- 2131603165440*&#45;&gt;2131603165440 -->\n<g id=\"edge2\" class=\"edge\">\n<title>2131603165440*&#45;&gt;2131603165440</title>\n<path fill=\"none\" stroke=\"black\" d=\"M292.5,-128.5C300.37,-128.5 309.55,-128.5 319.4,-128.5\"/>\n<polygon fill=\"black\" stroke=\"black\" points=\"319.25,-132 329.25,-128.5 319.25,-125 319.25,-132\"/>\n</g>\n<!-- 2131603166064 -->\n<g id=\"node8\" class=\"node\">\n<title>2131603166064</title>\n<polygon fill=\"none\" stroke=\"black\" points=\"328,-55.5 328,-91.5 550,-91.5 550,-55.5 328,-55.5\"/>\n<text text-anchor=\"middle\" x=\"354.5\" y=\"-69.8\" font-family=\"Times New Roman,serif\" font-size=\"14.00\">x1*w1</text>\n<polyline fill=\"none\" stroke=\"black\" points=\"381,-55.5 381,-91.5\"/>\n<text text-anchor=\"middle\" x=\"424\" y=\"-69.8\" font-family=\"Times New Roman,serif\" font-size=\"14.00\">data &#45;6.0000</text>\n<polyline fill=\"none\" stroke=\"black\" points=\"467,-55.5 467,-91.5\"/>\n<text text-anchor=\"middle\" x=\"508.5\" y=\"-69.8\" font-family=\"Times New Roman,serif\" font-size=\"14.00\">grad 0.5000</text>\n</g>\n<!-- 2131603166064&#45;&gt;2131603191696+ -->\n<g id=\"edge13\" class=\"edge\">\n<title>2131603166064&#45;&gt;2131603191696+</title>\n<path fill=\"none\" stroke=\"black\" d=\"M549.9,-90.75C558.72,-92.14 567.17,-93.46 574.84,-94.67\"/>\n<polygon fill=\"black\" stroke=\"black\" points=\"574.29,-98.12 584.71,-96.22 575.37,-91.21 574.29,-98.12\"/>\n</g>\n<!-- 2131603166064*&#45;&gt;2131603166064 -->\n<g id=\"edge3\" class=\"edge\">\n<title>2131603166064*&#45;&gt;2131603166064</title>\n<path fill=\"none\" stroke=\"black\" d=\"M292.5,-73.5C299.65,-73.5 307.89,-73.5 316.72,-73.5\"/>\n<polygon fill=\"black\" stroke=\"black\" points=\"316.69,-77 326.68,-73.5 316.68,-70 316.69,-77\"/>\n</g>\n<!-- 2131603191696 -->\n<g id=\"node10\" class=\"node\">\n<title>2131603191696</title>\n<polygon fill=\"none\" stroke=\"black\" points=\"676,-82.5 676,-118.5 934,-118.5 934,-82.5 676,-82.5\"/>\n<text text-anchor=\"middle\" x=\"720.5\" y=\"-96.8\" font-family=\"Times New Roman,serif\" font-size=\"14.00\">x1w1+ x2w2</text>\n<polyline fill=\"none\" stroke=\"black\" points=\"765,-82.5 765,-118.5\"/>\n<text text-anchor=\"middle\" x=\"808\" y=\"-96.8\" font-family=\"Times New Roman,serif\" font-size=\"14.00\">data &#45;6.0000</text>\n<polyline fill=\"none\" stroke=\"black\" points=\"851,-82.5 851,-118.5\"/>\n<text text-anchor=\"middle\" x=\"892.5\" y=\"-96.8\" font-family=\"Times New Roman,serif\" font-size=\"14.00\">grad 0.5000</text>\n</g>\n<!-- 2131603191696&#45;&gt;2131603191744+ -->\n<g id=\"edge7\" class=\"edge\">\n<title>2131603191696&#45;&gt;2131603191744+</title>\n<path fill=\"none\" stroke=\"black\" d=\"M927.94,-82.53C939.12,-80.88 949.76,-79.31 959.16,-77.93\"/>\n<polygon fill=\"black\" stroke=\"black\" points=\"959.47,-81.42 968.86,-76.5 958.45,-74.5 959.47,-81.42\"/>\n</g>\n<!-- 2131603191696+&#45;&gt;2131603191696 -->\n<g id=\"edge4\" class=\"edge\">\n<title>2131603191696+&#45;&gt;2131603191696</title>\n<path fill=\"none\" stroke=\"black\" d=\"M640.42,-100.5C647.6,-100.5 655.89,-100.5 664.86,-100.5\"/>\n<polygon fill=\"black\" stroke=\"black\" points=\"664.59,-104 674.59,-100.5 664.59,-97 664.59,-104\"/>\n</g>\n<!-- 2131637803952 -->\n<g id=\"node12\" class=\"node\">\n<title>2131637803952</title>\n<polygon fill=\"none\" stroke=\"black\" points=\"4,-110.5 4,-146.5 198,-146.5 198,-110.5 4,-110.5\"/>\n<text text-anchor=\"middle\" x=\"19\" y=\"-124.8\" font-family=\"Times New Roman,serif\" font-size=\"14.00\">x2</text>\n<polyline fill=\"none\" stroke=\"black\" points=\"34,-110.5 34,-146.5\"/>\n<text text-anchor=\"middle\" x=\"74.5\" y=\"-124.8\" font-family=\"Times New Roman,serif\" font-size=\"14.00\">data 0.0000</text>\n<polyline fill=\"none\" stroke=\"black\" points=\"115,-110.5 115,-146.5\"/>\n<text text-anchor=\"middle\" x=\"156.5\" y=\"-124.8\" font-family=\"Times New Roman,serif\" font-size=\"14.00\">grad 0.5000</text>\n</g>\n<!-- 2131637803952&#45;&gt;2131603165440* -->\n<g id=\"edge11\" class=\"edge\">\n<title>2131637803952&#45;&gt;2131603165440*</title>\n<path fill=\"none\" stroke=\"black\" d=\"M197.64,-128.5C207.72,-128.5 217.49,-128.5 226.29,-128.5\"/>\n<polygon fill=\"black\" stroke=\"black\" points=\"226.11,-132 236.11,-128.5 226.11,-125 226.11,-132\"/>\n</g>\n<!-- 2131603191744 -->\n<g id=\"node13\" class=\"node\">\n<title>2131603191744</title>\n<polygon fill=\"none\" stroke=\"black\" points=\"1060,-54.5 1060,-90.5 1247,-90.5 1247,-54.5 1060,-54.5\"/>\n<text text-anchor=\"middle\" x=\"1071.5\" y=\"-68.8\" font-family=\"Times New Roman,serif\" font-size=\"14.00\">n</text>\n<polyline fill=\"none\" stroke=\"black\" points=\"1083,-54.5 1083,-90.5\"/>\n<text text-anchor=\"middle\" x=\"1123.5\" y=\"-68.8\" font-family=\"Times New Roman,serif\" font-size=\"14.00\">data 0.8814</text>\n<polyline fill=\"none\" stroke=\"black\" points=\"1164,-54.5 1164,-90.5\"/>\n<text text-anchor=\"middle\" x=\"1205.5\" y=\"-68.8\" font-family=\"Times New Roman,serif\" font-size=\"14.00\">grad 0.5000</text>\n</g>\n<!-- 2131603191744&#45;&gt;2131603191552tanh -->\n<g id=\"edge6\" class=\"edge\">\n<title>2131603191744&#45;&gt;2131603191552tanh</title>\n<path fill=\"none\" stroke=\"black\" d=\"M1246.6,-72.5C1255.26,-72.5 1263.65,-72.5 1271.33,-72.5\"/>\n<polygon fill=\"black\" stroke=\"black\" points=\"1271.23,-76 1281.23,-72.5 1271.23,-69 1271.23,-76\"/>\n</g>\n<!-- 2131603191744+&#45;&gt;2131603191744 -->\n<g id=\"edge5\" class=\"edge\">\n<title>2131603191744+&#45;&gt;2131603191744</title>\n<path fill=\"none\" stroke=\"black\" d=\"M1024.21,-72.5C1031.47,-72.5 1039.83,-72.5 1048.71,-72.5\"/>\n<polygon fill=\"black\" stroke=\"black\" points=\"1048.7,-76 1058.7,-72.5 1048.7,-69 1048.7,-76\"/>\n</g>\n<!-- 2131603024816 -->\n<g id=\"node15\" class=\"node\">\n<title>2131603024816</title>\n<polygon fill=\"none\" stroke=\"black\" points=\"0,-0.5 0,-36.5 202,-36.5 202,-0.5 0,-0.5\"/>\n<text text-anchor=\"middle\" x=\"16.5\" y=\"-14.8\" font-family=\"Times New Roman,serif\" font-size=\"14.00\">w1</text>\n<polyline fill=\"none\" stroke=\"black\" points=\"33,-0.5 33,-36.5\"/>\n<text text-anchor=\"middle\" x=\"76\" y=\"-14.8\" font-family=\"Times New Roman,serif\" font-size=\"14.00\">data &#45;3.0000</text>\n<polyline fill=\"none\" stroke=\"black\" points=\"119,-0.5 119,-36.5\"/>\n<text text-anchor=\"middle\" x=\"160.5\" y=\"-14.8\" font-family=\"Times New Roman,serif\" font-size=\"14.00\">grad 1.0000</text>\n</g>\n<!-- 2131603024816&#45;&gt;2131603166064* -->\n<g id=\"edge9\" class=\"edge\">\n<title>2131603024816&#45;&gt;2131603166064*</title>\n<path fill=\"none\" stroke=\"black\" d=\"M170.98,-36.47C181.45,-39.58 192.06,-42.96 202,-46.5 211.97,-50.05 222.6,-54.44 232.19,-58.65\"/>\n<polygon fill=\"black\" stroke=\"black\" points=\"230.55,-61.75 241.11,-62.64 233.41,-55.36 230.55,-61.75\"/>\n</g>\n</g>\n</svg>\n",
      "text/plain": [
       "<graphviz.graphs.Digraph at 0x1f04d7374f0>"
      ]
     },
     "execution_count": 40,
     "metadata": {},
     "output_type": "execute_result"
    }
   ],
   "source": [
    "topo = []\n",
    "visited = set()\n",
    "def build_topo(v):\n",
    "    if v not in visited:\n",
    "        visited.add(v)\n",
    "        for child in v._prev:\n",
    "            build_topo(child)\n",
    "        topo.append(v) # o is added last , so it gurrantees all child nodes are processed before\n",
    "build_topo(o) # root node\n",
    "for node in reversed(topo):\n",
    "    node._backward()\n",
    "draw_dot(o)"
   ]
  },
  {
   "cell_type": "code",
   "execution_count": 41,
   "metadata": {},
   "outputs": [],
   "source": [
    "class Value:\n",
    "    def __init__(self,data,_children=(),_op='',label=''):\n",
    "        self.data = data\n",
    "        self.grad = 0.0 # means no effect, ie at initialisation every value does not effect the output\n",
    "        self._backward= lambda:None # empty function\n",
    "        self._prev = set(_children)\n",
    "        self._op = _op\n",
    "        self.label = label\n",
    "    def __repr__(self):\n",
    "        return f\"Value(data={self.data})\"\n",
    "    def __add__(self,other):\n",
    "        out = Value(self.data+other.data,(self,other),'+')\n",
    "        def _backward():\n",
    "            self.grad += 1.0 * out.grad\n",
    "            other.grad += 1.0 * out.grad\n",
    "        out._backward = _backward # linking the out to this specific ._backward Function\n",
    "        return out\n",
    "    def __mul__(self,other):\n",
    "        out = Value(self.data*other.data,(self,other),'*')\n",
    "        def _backward():\n",
    "            self.grad += (other.data) * out.grad\n",
    "            other.grad += (self.data)* out.grad\n",
    "        out._backward = _backward # linking the out to this specific ._backward Function\n",
    "        return out\n",
    "    #Implementing tanh function\n",
    "    def tanh(self):\n",
    "        n = self.data\n",
    "        t=(math.exp(2*n)-1)/(math.exp(2*n)+1)#tanh function \n",
    "        out = Value(t,(self,),'tanh')\n",
    "        def _backward():\n",
    "             self.grad += (1-(t**2))* out.grad\n",
    "            \n",
    "        out._backward = _backward # linking the out to this specific ._backward Function\n",
    "        return out\n",
    "    def backward(self):\n",
    "        \n",
    "        topo = []\n",
    "        visited = set()\n",
    "        def build_topo(v):\n",
    "            if v not in visited:\n",
    "                visited.add(v)\n",
    "                for child in v._prev:\n",
    "                    build_topo(child)\n",
    "                topo.append(v) # o is added last , so it gurrantees all child nodes are processed before\n",
    "        build_topo(self) # root node\n",
    "        self.grad=1.0\n",
    "        for node in reversed(topo):\n",
    "            node._backward()\n",
    "#inputs - x1,x2\n",
    "x1=Value(2.0,label='x1')\n",
    "x2=Value(0.0,label='x2')\n",
    "# weights- w1,w2\n",
    "w1=Value(-3.0,label='w1')\n",
    "w2=Value(1.0,label='w2')\n",
    "#bias of neuron\n",
    "b=Value(6.8813735870195432,label='b')# this specific number so when doing backprop numbers come out nice\n",
    "# x1w1 + x2w2 + b\n",
    "x1w1 = x1*w1;x1w1.label='x1*w1'\n",
    "x2w2 = x2*w2;x2w2.label='x2*w2'\n",
    "x1w1x2w2 = x1w1 + x2w2; x1w1x2w2.label='x1w1+ x2w2'\n",
    "n = x1w1x2w2 + b; n.label='n'\n",
    "o = n.tanh();o.label='o'"
   ]
  },
  {
   "cell_type": "code",
   "execution_count": 42,
   "metadata": {},
   "outputs": [
    {
     "data": {
      "image/svg+xml": "<?xml version=\"1.0\" encoding=\"UTF-8\" standalone=\"no\"?>\n<!DOCTYPE svg PUBLIC \"-//W3C//DTD SVG 1.1//EN\"\n \"http://www.w3.org/Graphics/SVG/1.1/DTD/svg11.dtd\">\n<!-- Generated by graphviz version 7.1.0 (20230121.1956)\n -->\n<!-- Pages: 1 -->\n<svg width=\"1569pt\" height=\"210pt\"\n viewBox=\"0.00 0.00 1569.00 210.00\" xmlns=\"http://www.w3.org/2000/svg\" xmlns:xlink=\"http://www.w3.org/1999/xlink\">\n<g id=\"graph0\" class=\"graph\" transform=\"scale(1 1) rotate(0) translate(4 206)\">\n<polygon fill=\"white\" stroke=\"none\" points=\"-4,4 -4,-206 1565,-206 1565,4 -4,4\"/>\n<!-- 2131603098112 -->\n<g id=\"node1\" class=\"node\">\n<title>2131603098112</title>\n<polygon fill=\"none\" stroke=\"black\" points=\"1060,-54.5 1060,-90.5 1247,-90.5 1247,-54.5 1060,-54.5\"/>\n<text text-anchor=\"middle\" x=\"1071.5\" y=\"-68.8\" font-family=\"Times New Roman,serif\" font-size=\"14.00\">n</text>\n<polyline fill=\"none\" stroke=\"black\" points=\"1083,-54.5 1083,-90.5\"/>\n<text text-anchor=\"middle\" x=\"1123.5\" y=\"-68.8\" font-family=\"Times New Roman,serif\" font-size=\"14.00\">data 0.8814</text>\n<polyline fill=\"none\" stroke=\"black\" points=\"1164,-54.5 1164,-90.5\"/>\n<text text-anchor=\"middle\" x=\"1205.5\" y=\"-68.8\" font-family=\"Times New Roman,serif\" font-size=\"14.00\">grad 0.5000</text>\n</g>\n<!-- 2131603099216tanh -->\n<g id=\"node4\" class=\"node\">\n<title>2131603099216tanh</title>\n<ellipse fill=\"none\" stroke=\"black\" cx=\"1310\" cy=\"-72.5\" rx=\"27\" ry=\"18\"/>\n<text text-anchor=\"middle\" x=\"1310\" y=\"-68.8\" font-family=\"Times New Roman,serif\" font-size=\"14.00\">tanh</text>\n</g>\n<!-- 2131603098112&#45;&gt;2131603099216tanh -->\n<g id=\"edge10\" class=\"edge\">\n<title>2131603098112&#45;&gt;2131603099216tanh</title>\n<path fill=\"none\" stroke=\"black\" d=\"M1246.6,-72.5C1255.26,-72.5 1263.65,-72.5 1271.33,-72.5\"/>\n<polygon fill=\"black\" stroke=\"black\" points=\"1271.23,-76 1281.23,-72.5 1271.23,-69 1271.23,-76\"/>\n</g>\n<!-- 2131603098112+ -->\n<g id=\"node2\" class=\"node\">\n<title>2131603098112+</title>\n<ellipse fill=\"none\" stroke=\"black\" cx=\"997\" cy=\"-72.5\" rx=\"27\" ry=\"18\"/>\n<text text-anchor=\"middle\" x=\"997\" y=\"-68.8\" font-family=\"Times New Roman,serif\" font-size=\"14.00\">+</text>\n</g>\n<!-- 2131603098112+&#45;&gt;2131603098112 -->\n<g id=\"edge1\" class=\"edge\">\n<title>2131603098112+&#45;&gt;2131603098112</title>\n<path fill=\"none\" stroke=\"black\" d=\"M1024.21,-72.5C1031.47,-72.5 1039.83,-72.5 1048.71,-72.5\"/>\n<polygon fill=\"black\" stroke=\"black\" points=\"1048.7,-76 1058.7,-72.5 1048.7,-69 1048.7,-76\"/>\n</g>\n<!-- 2131603099216 -->\n<g id=\"node3\" class=\"node\">\n<title>2131603099216</title>\n<polygon fill=\"none\" stroke=\"black\" points=\"1373,-54.5 1373,-90.5 1561,-90.5 1561,-54.5 1373,-54.5\"/>\n<text text-anchor=\"middle\" x=\"1385\" y=\"-68.8\" font-family=\"Times New Roman,serif\" font-size=\"14.00\">o</text>\n<polyline fill=\"none\" stroke=\"black\" points=\"1397,-54.5 1397,-90.5\"/>\n<text text-anchor=\"middle\" x=\"1437.5\" y=\"-68.8\" font-family=\"Times New Roman,serif\" font-size=\"14.00\">data 0.7071</text>\n<polyline fill=\"none\" stroke=\"black\" points=\"1478,-54.5 1478,-90.5\"/>\n<text text-anchor=\"middle\" x=\"1519.5\" y=\"-68.8\" font-family=\"Times New Roman,serif\" font-size=\"14.00\">grad 1.0000</text>\n</g>\n<!-- 2131603099216tanh&#45;&gt;2131603099216 -->\n<g id=\"edge2\" class=\"edge\">\n<title>2131603099216tanh&#45;&gt;2131603099216</title>\n<path fill=\"none\" stroke=\"black\" d=\"M1337.29,-72.5C1344.52,-72.5 1352.82,-72.5 1361.66,-72.5\"/>\n<polygon fill=\"black\" stroke=\"black\" points=\"1361.57,-76 1371.57,-72.5 1361.57,-69 1361.57,-76\"/>\n</g>\n<!-- 2131603098208 -->\n<g id=\"node5\" class=\"node\">\n<title>2131603098208</title>\n<polygon fill=\"none\" stroke=\"black\" points=\"676,-82.5 676,-118.5 934,-118.5 934,-82.5 676,-82.5\"/>\n<text text-anchor=\"middle\" x=\"720.5\" y=\"-96.8\" font-family=\"Times New Roman,serif\" font-size=\"14.00\">x1w1+ x2w2</text>\n<polyline fill=\"none\" stroke=\"black\" points=\"765,-82.5 765,-118.5\"/>\n<text text-anchor=\"middle\" x=\"808\" y=\"-96.8\" font-family=\"Times New Roman,serif\" font-size=\"14.00\">data &#45;6.0000</text>\n<polyline fill=\"none\" stroke=\"black\" points=\"851,-82.5 851,-118.5\"/>\n<text text-anchor=\"middle\" x=\"892.5\" y=\"-96.8\" font-family=\"Times New Roman,serif\" font-size=\"14.00\">grad 0.5000</text>\n</g>\n<!-- 2131603098208&#45;&gt;2131603098112+ -->\n<g id=\"edge6\" class=\"edge\">\n<title>2131603098208&#45;&gt;2131603098112+</title>\n<path fill=\"none\" stroke=\"black\" d=\"M927.94,-82.53C939.12,-80.88 949.76,-79.31 959.16,-77.93\"/>\n<polygon fill=\"black\" stroke=\"black\" points=\"959.47,-81.42 968.86,-76.5 958.45,-74.5 959.47,-81.42\"/>\n</g>\n<!-- 2131603098208+ -->\n<g id=\"node6\" class=\"node\">\n<title>2131603098208+</title>\n<ellipse fill=\"none\" stroke=\"black\" cx=\"613\" cy=\"-100.5\" rx=\"27\" ry=\"18\"/>\n<text text-anchor=\"middle\" x=\"613\" y=\"-96.8\" font-family=\"Times New Roman,serif\" font-size=\"14.00\">+</text>\n</g>\n<!-- 2131603098208+&#45;&gt;2131603098208 -->\n<g id=\"edge3\" class=\"edge\">\n<title>2131603098208+&#45;&gt;2131603098208</title>\n<path fill=\"none\" stroke=\"black\" d=\"M640.42,-100.5C647.6,-100.5 655.89,-100.5 664.86,-100.5\"/>\n<polygon fill=\"black\" stroke=\"black\" points=\"664.59,-104 674.59,-100.5 664.59,-97 664.59,-104\"/>\n</g>\n<!-- 2131637804672 -->\n<g id=\"node7\" class=\"node\">\n<title>2131637804672</title>\n<polygon fill=\"none\" stroke=\"black\" points=\"2,-55.5 2,-91.5 200,-91.5 200,-55.5 2,-55.5\"/>\n<text text-anchor=\"middle\" x=\"17\" y=\"-69.8\" font-family=\"Times New Roman,serif\" font-size=\"14.00\">x1</text>\n<polyline fill=\"none\" stroke=\"black\" points=\"32,-55.5 32,-91.5\"/>\n<text text-anchor=\"middle\" x=\"72.5\" y=\"-69.8\" font-family=\"Times New Roman,serif\" font-size=\"14.00\">data 2.0000</text>\n<polyline fill=\"none\" stroke=\"black\" points=\"113,-55.5 113,-91.5\"/>\n<text text-anchor=\"middle\" x=\"156.5\" y=\"-69.8\" font-family=\"Times New Roman,serif\" font-size=\"14.00\">grad &#45;1.5000</text>\n</g>\n<!-- 2131603169184* -->\n<g id=\"node15\" class=\"node\">\n<title>2131603169184*</title>\n<ellipse fill=\"none\" stroke=\"black\" cx=\"265\" cy=\"-73.5\" rx=\"27\" ry=\"18\"/>\n<text text-anchor=\"middle\" x=\"265\" y=\"-69.8\" font-family=\"Times New Roman,serif\" font-size=\"14.00\">*</text>\n</g>\n<!-- 2131637804672&#45;&gt;2131603169184* -->\n<g id=\"edge11\" class=\"edge\">\n<title>2131637804672&#45;&gt;2131603169184*</title>\n<path fill=\"none\" stroke=\"black\" d=\"M199.97,-73.5C209.29,-73.5 218.28,-73.5 226.45,-73.5\"/>\n<polygon fill=\"black\" stroke=\"black\" points=\"226.23,-77 236.23,-73.5 226.23,-70 226.23,-77\"/>\n</g>\n<!-- 2131603190928 -->\n<g id=\"node8\" class=\"node\">\n<title>2131603190928</title>\n<polygon fill=\"none\" stroke=\"black\" points=\"2.5,-165.5 2.5,-201.5 199.5,-201.5 199.5,-165.5 2.5,-165.5\"/>\n<text text-anchor=\"middle\" x=\"19\" y=\"-179.8\" font-family=\"Times New Roman,serif\" font-size=\"14.00\">w2</text>\n<polyline fill=\"none\" stroke=\"black\" points=\"35.5,-165.5 35.5,-201.5\"/>\n<text text-anchor=\"middle\" x=\"76\" y=\"-179.8\" font-family=\"Times New Roman,serif\" font-size=\"14.00\">data 1.0000</text>\n<polyline fill=\"none\" stroke=\"black\" points=\"116.5,-165.5 116.5,-201.5\"/>\n<text text-anchor=\"middle\" x=\"158\" y=\"-179.8\" font-family=\"Times New Roman,serif\" font-size=\"14.00\">grad 0.0000</text>\n</g>\n<!-- 2131603167552* -->\n<g id=\"node13\" class=\"node\">\n<title>2131603167552*</title>\n<ellipse fill=\"none\" stroke=\"black\" cx=\"265\" cy=\"-128.5\" rx=\"27\" ry=\"18\"/>\n<text text-anchor=\"middle\" x=\"265\" y=\"-124.8\" font-family=\"Times New Roman,serif\" font-size=\"14.00\">*</text>\n</g>\n<!-- 2131603190928&#45;&gt;2131603167552* -->\n<g id=\"edge12\" class=\"edge\">\n<title>2131603190928&#45;&gt;2131603167552*</title>\n<path fill=\"none\" stroke=\"black\" d=\"M173.99,-165.56C183.48,-162.75 193.03,-159.71 202,-156.5 212.1,-152.88 222.83,-148.31 232.49,-143.91\"/>\n<polygon fill=\"black\" stroke=\"black\" points=\"233.88,-147.12 241.46,-139.72 230.92,-140.78 233.88,-147.12\"/>\n</g>\n<!-- 2130922952352 -->\n<g id=\"node9\" class=\"node\">\n<title>2130922952352</title>\n<polygon fill=\"none\" stroke=\"black\" points=\"4,-110.5 4,-146.5 198,-146.5 198,-110.5 4,-110.5\"/>\n<text text-anchor=\"middle\" x=\"19\" y=\"-124.8\" font-family=\"Times New Roman,serif\" font-size=\"14.00\">x2</text>\n<polyline fill=\"none\" stroke=\"black\" points=\"34,-110.5 34,-146.5\"/>\n<text text-anchor=\"middle\" x=\"74.5\" y=\"-124.8\" font-family=\"Times New Roman,serif\" font-size=\"14.00\">data 0.0000</text>\n<polyline fill=\"none\" stroke=\"black\" points=\"115,-110.5 115,-146.5\"/>\n<text text-anchor=\"middle\" x=\"156.5\" y=\"-124.8\" font-family=\"Times New Roman,serif\" font-size=\"14.00\">grad 0.5000</text>\n</g>\n<!-- 2130922952352&#45;&gt;2131603167552* -->\n<g id=\"edge7\" class=\"edge\">\n<title>2130922952352&#45;&gt;2131603167552*</title>\n<path fill=\"none\" stroke=\"black\" d=\"M197.64,-128.5C207.72,-128.5 217.49,-128.5 226.29,-128.5\"/>\n<polygon fill=\"black\" stroke=\"black\" points=\"226.11,-132 236.11,-128.5 226.11,-125 226.11,-132\"/>\n</g>\n<!-- 2131603192560 -->\n<g id=\"node10\" class=\"node\">\n<title>2131603192560</title>\n<polygon fill=\"none\" stroke=\"black\" points=\"711,-27.5 711,-63.5 899,-63.5 899,-27.5 711,-27.5\"/>\n<text text-anchor=\"middle\" x=\"723\" y=\"-41.8\" font-family=\"Times New Roman,serif\" font-size=\"14.00\">b</text>\n<polyline fill=\"none\" stroke=\"black\" points=\"735,-27.5 735,-63.5\"/>\n<text text-anchor=\"middle\" x=\"775.5\" y=\"-41.8\" font-family=\"Times New Roman,serif\" font-size=\"14.00\">data 6.8814</text>\n<polyline fill=\"none\" stroke=\"black\" points=\"816,-27.5 816,-63.5\"/>\n<text text-anchor=\"middle\" x=\"857.5\" y=\"-41.8\" font-family=\"Times New Roman,serif\" font-size=\"14.00\">grad 0.5000</text>\n</g>\n<!-- 2131603192560&#45;&gt;2131603098112+ -->\n<g id=\"edge14\" class=\"edge\">\n<title>2131603192560&#45;&gt;2131603098112+</title>\n<path fill=\"none\" stroke=\"black\" d=\"M898.77,-58.68C920.2,-61.73 941.79,-64.8 959.15,-67.26\"/>\n<polygon fill=\"black\" stroke=\"black\" points=\"958.56,-70.71 968.95,-68.66 959.54,-63.78 958.56,-70.71\"/>\n</g>\n<!-- 2130922953504 -->\n<g id=\"node11\" class=\"node\">\n<title>2130922953504</title>\n<polygon fill=\"none\" stroke=\"black\" points=\"0,-0.5 0,-36.5 202,-36.5 202,-0.5 0,-0.5\"/>\n<text text-anchor=\"middle\" x=\"16.5\" y=\"-14.8\" font-family=\"Times New Roman,serif\" font-size=\"14.00\">w1</text>\n<polyline fill=\"none\" stroke=\"black\" points=\"33,-0.5 33,-36.5\"/>\n<text text-anchor=\"middle\" x=\"76\" y=\"-14.8\" font-family=\"Times New Roman,serif\" font-size=\"14.00\">data &#45;3.0000</text>\n<polyline fill=\"none\" stroke=\"black\" points=\"119,-0.5 119,-36.5\"/>\n<text text-anchor=\"middle\" x=\"160.5\" y=\"-14.8\" font-family=\"Times New Roman,serif\" font-size=\"14.00\">grad 1.0000</text>\n</g>\n<!-- 2130922953504&#45;&gt;2131603169184* -->\n<g id=\"edge9\" class=\"edge\">\n<title>2130922953504&#45;&gt;2131603169184*</title>\n<path fill=\"none\" stroke=\"black\" d=\"M173.99,-36.44C183.48,-39.25 193.03,-42.29 202,-45.5 212.1,-49.12 222.83,-53.69 232.49,-58.09\"/>\n<polygon fill=\"black\" stroke=\"black\" points=\"230.92,-61.22 241.46,-62.28 233.88,-54.88 230.92,-61.22\"/>\n</g>\n<!-- 2131603167552 -->\n<g id=\"node12\" class=\"node\">\n<title>2131603167552</title>\n<polygon fill=\"none\" stroke=\"black\" points=\"330.5,-110.5 330.5,-146.5 547.5,-146.5 547.5,-110.5 330.5,-110.5\"/>\n<text text-anchor=\"middle\" x=\"357\" y=\"-124.8\" font-family=\"Times New Roman,serif\" font-size=\"14.00\">x2*w2</text>\n<polyline fill=\"none\" stroke=\"black\" points=\"383.5,-110.5 383.5,-146.5\"/>\n<text text-anchor=\"middle\" x=\"424\" y=\"-124.8\" font-family=\"Times New Roman,serif\" font-size=\"14.00\">data 0.0000</text>\n<polyline fill=\"none\" stroke=\"black\" points=\"464.5,-110.5 464.5,-146.5\"/>\n<text text-anchor=\"middle\" x=\"506\" y=\"-124.8\" font-family=\"Times New Roman,serif\" font-size=\"14.00\">grad 0.5000</text>\n</g>\n<!-- 2131603167552&#45;&gt;2131603098208+ -->\n<g id=\"edge13\" class=\"edge\">\n<title>2131603167552&#45;&gt;2131603098208+</title>\n<path fill=\"none\" stroke=\"black\" d=\"M547.46,-111.01C557.25,-109.41 566.64,-107.88 575.08,-106.51\"/>\n<polygon fill=\"black\" stroke=\"black\" points=\"575.52,-109.98 584.83,-104.92 574.4,-103.08 575.52,-109.98\"/>\n</g>\n<!-- 2131603167552*&#45;&gt;2131603167552 -->\n<g id=\"edge4\" class=\"edge\">\n<title>2131603167552*&#45;&gt;2131603167552</title>\n<path fill=\"none\" stroke=\"black\" d=\"M292.5,-128.5C300.37,-128.5 309.55,-128.5 319.4,-128.5\"/>\n<polygon fill=\"black\" stroke=\"black\" points=\"319.25,-132 329.25,-128.5 319.25,-125 319.25,-132\"/>\n</g>\n<!-- 2131603169184 -->\n<g id=\"node14\" class=\"node\">\n<title>2131603169184</title>\n<polygon fill=\"none\" stroke=\"black\" points=\"328,-55.5 328,-91.5 550,-91.5 550,-55.5 328,-55.5\"/>\n<text text-anchor=\"middle\" x=\"354.5\" y=\"-69.8\" font-family=\"Times New Roman,serif\" font-size=\"14.00\">x1*w1</text>\n<polyline fill=\"none\" stroke=\"black\" points=\"381,-55.5 381,-91.5\"/>\n<text text-anchor=\"middle\" x=\"424\" y=\"-69.8\" font-family=\"Times New Roman,serif\" font-size=\"14.00\">data &#45;6.0000</text>\n<polyline fill=\"none\" stroke=\"black\" points=\"467,-55.5 467,-91.5\"/>\n<text text-anchor=\"middle\" x=\"508.5\" y=\"-69.8\" font-family=\"Times New Roman,serif\" font-size=\"14.00\">grad 0.5000</text>\n</g>\n<!-- 2131603169184&#45;&gt;2131603098208+ -->\n<g id=\"edge8\" class=\"edge\">\n<title>2131603169184&#45;&gt;2131603098208+</title>\n<path fill=\"none\" stroke=\"black\" d=\"M549.9,-90.75C558.72,-92.14 567.17,-93.46 574.84,-94.67\"/>\n<polygon fill=\"black\" stroke=\"black\" points=\"574.29,-98.12 584.71,-96.22 575.37,-91.21 574.29,-98.12\"/>\n</g>\n<!-- 2131603169184*&#45;&gt;2131603169184 -->\n<g id=\"edge5\" class=\"edge\">\n<title>2131603169184*&#45;&gt;2131603169184</title>\n<path fill=\"none\" stroke=\"black\" d=\"M292.5,-73.5C299.65,-73.5 307.89,-73.5 316.72,-73.5\"/>\n<polygon fill=\"black\" stroke=\"black\" points=\"316.69,-77 326.68,-73.5 316.68,-70 316.69,-77\"/>\n</g>\n</g>\n</svg>\n",
      "text/plain": [
       "<graphviz.graphs.Digraph at 0x1f04d712f10>"
      ]
     },
     "execution_count": 42,
     "metadata": {},
     "output_type": "execute_result"
    }
   ],
   "source": [
    "o.backward()\n",
    "draw_dot(o)"
   ]
  },
  {
   "attachments": {},
   "cell_type": "markdown",
   "metadata": {},
   "source": [
    "#### Fixing a bug when a node is used multiple times, say b = a+ a,, or d = a+b and e = a* b. Overwriting of Gradients happen, when there should be accumulation of gradients. So we can repalce  = by += in _backward function in Class Value."
   ]
  },
  {
   "attachments": {},
   "cell_type": "markdown",
   "metadata": {},
   "source": [
    "# 1:27:05"
   ]
  },
  {
   "cell_type": "code",
   "execution_count": 68,
   "metadata": {},
   "outputs": [],
   "source": [
    "class Value:\n",
    "    def __init__(self,data,_children=(),_op='',label=''):\n",
    "        self.data = data\n",
    "        self.grad = 0.0 # means no effect, ie at initialisation every value does not effect the output\n",
    "        self._backward= lambda:None # empty function\n",
    "        self._prev = set(_children)\n",
    "        self._op = _op\n",
    "        self.label = label\n",
    "    def __repr__(self):\n",
    "        return f\"Value(data={self.data})\"\n",
    "    def __add__(self,other):\n",
    "        other = other if isinstance(other,Value) else Value(other)\n",
    "        out = Value(self.data+other.data,(self,other),'+')\n",
    "        def _backward():\n",
    "            self.grad += 1.0 * out.grad\n",
    "            other.grad += 1.0 * out.grad\n",
    "        out._backward = _backward # linking the out to this specific ._backward Function\n",
    "        return out\n",
    "    def __radd__(self, other):\n",
    "        return self + other\n",
    "    def __mul__(self,other):\n",
    "        other = other if isinstance(other,Value) else Value(other)\n",
    "        out = Value(self.data*other.data,(self,other),'*')\n",
    "        def _backward():\n",
    "            self.grad += (other.data) * out.grad\n",
    "            other.grad += (self.data)* out.grad\n",
    "        out._backward = _backward # linking the out to this specific ._backward Function\n",
    "        return out\n",
    "    #Implementing tanh function\n",
    "    def __rmul__(self,other):\n",
    "        return self * other\n",
    "    \n",
    "    def exp(self):\n",
    "        x = self.data\n",
    "        out = Value(math.exp(x),(self,),'exp')\n",
    "        def _backward():\n",
    "            self.grad += out.data * out.grad\n",
    "        out._backward = _backward\n",
    "        return out\n",
    "    def __pow__(self,other):\n",
    "        assert isinstance(other,(int,float)), \"only supports int/float for now\"\n",
    "        out = Value(self.data**other,(self,),f'**{other}')\n",
    "        def _backward():\n",
    "            self.grad += (other * (self.data**(other-1))) * out.grad\n",
    "        out._backward = _backward\n",
    "        return out\n",
    "    \n",
    "    \n",
    "    def __truediv__(self,other):\n",
    "        return self * other ** -1\n",
    "    \n",
    "    def __neg__(self):\n",
    "        return self * -1\n",
    "    \n",
    "    def __sub__(self,other):\n",
    "        \n",
    "        return self + (-other)\n",
    "    \n",
    "    def tanh(self):\n",
    "        n = self.data\n",
    "        t=(math.exp(2*n)-1)/(math.exp(2*n)+1)#tanh function \n",
    "        out = Value(t,(self,),'tanh')\n",
    "        def _backward():\n",
    "             self.grad += (1-(t**2))* out.grad\n",
    "            \n",
    "        out._backward = _backward # linking the out to this specific ._backward Function\n",
    "        return out\n",
    "    def backward(self):\n",
    "        \n",
    "        topo = []\n",
    "        visited = set()\n",
    "        def build_topo(v):\n",
    "            if v not in visited:\n",
    "                visited.add(v)\n",
    "                for child in v._prev:\n",
    "                    build_topo(child)\n",
    "                topo.append(v) # o is added last , so it gurrantees all child nodes are processed before\n",
    "        build_topo(self) # root node\n",
    "        self.grad=1.0\n",
    "        for node in reversed(topo):\n",
    "            node._backward()"
   ]
  },
  {
   "attachments": {},
   "cell_type": "markdown",
   "metadata": {},
   "source": [
    "we define __rmul__ method so as to make 2 * x work and Python will look for right multiplication function when it cannot find one for the left one.\n",
    "a + 2 works , but 2 + a does not work\n",
    "#### Division :\n",
    "a/b >> a * (1/b) >> a * (b **-1)"
   ]
  },
  {
   "cell_type": "code",
   "execution_count": 61,
   "metadata": {},
   "outputs": [],
   "source": [
    "#inputs - x1,x2\n",
    "x1=Value(2.0,label='x1')\n",
    "x2=Value(0.0,label='x2')\n",
    "# weights- w1,w2\n",
    "w1=Value(-3.0,label='w1')\n",
    "w2=Value(1.0,label='w2')\n",
    "#bias of neuron\n",
    "b=Value(6.8813735870195432,label='b')# this specific number so when doing backprop numbers come out nice\n",
    "# x1w1 + x2w2 + b\n",
    "x1w1 = x1*w1;x1w1.label='x1*w1'\n",
    "x2w2 = x2*w2;x2w2.label='x2*w2'\n",
    "x1w1x2w2 = x1w1 + x2w2; x1w1x2w2.label='x1w1+ x2w2'\n",
    "n = x1w1x2w2 + b; n.label='n'\n",
    "#------------\n",
    "\n",
    "e = (2*n).exp()\n",
    "o = (e-1)/(e+1);o.label='o'\n",
    "\n"
   ]
  },
  {
   "cell_type": "code",
   "execution_count": 62,
   "metadata": {},
   "outputs": [
    {
     "data": {
      "image/svg+xml": "<?xml version=\"1.0\" encoding=\"UTF-8\" standalone=\"no\"?>\n<!DOCTYPE svg PUBLIC \"-//W3C//DTD SVG 1.1//EN\"\n \"http://www.w3.org/Graphics/SVG/1.1/DTD/svg11.dtd\">\n<!-- Generated by graphviz version 7.1.0 (20230121.1956)\n -->\n<!-- Pages: 1 -->\n<svg width=\"2948pt\" height=\"236pt\"\n viewBox=\"0.00 0.00 2948.00 236.00\" xmlns=\"http://www.w3.org/2000/svg\" xmlns:xlink=\"http://www.w3.org/1999/xlink\">\n<g id=\"graph0\" class=\"graph\" transform=\"scale(1 1) rotate(0) translate(4 232)\">\n<polygon fill=\"white\" stroke=\"none\" points=\"-4,4 -4,-232 2944,-232 2944,4 -4,4\"/>\n<!-- 2130365176320 -->\n<g id=\"node1\" class=\"node\">\n<title>2130365176320</title>\n<polygon fill=\"none\" stroke=\"black\" points=\"1685.5,-136.5 1685.5,-172.5 1869.5,-172.5 1869.5,-136.5 1685.5,-136.5\"/>\n<text text-anchor=\"middle\" x=\"1695.5\" y=\"-150.8\" font-family=\"Times New Roman,serif\" font-size=\"14.00\"> </text>\n<polyline fill=\"none\" stroke=\"black\" points=\"1705.5,-136.5 1705.5,-172.5\"/>\n<text text-anchor=\"middle\" x=\"1746\" y=\"-150.8\" font-family=\"Times New Roman,serif\" font-size=\"14.00\">data 5.8284</text>\n<polyline fill=\"none\" stroke=\"black\" points=\"1786.5,-136.5 1786.5,-172.5\"/>\n<text text-anchor=\"middle\" x=\"1828\" y=\"-150.8\" font-family=\"Times New Roman,serif\" font-size=\"14.00\">grad 0.0429</text>\n</g>\n<!-- 2130365175888+ -->\n<g id=\"node4\" class=\"node\">\n<title>2130365175888+</title>\n<ellipse fill=\"none\" stroke=\"black\" cx=\"1935\" cy=\"-126.5\" rx=\"27\" ry=\"18\"/>\n<text text-anchor=\"middle\" x=\"1935\" y=\"-122.8\" font-family=\"Times New Roman,serif\" font-size=\"14.00\">+</text>\n</g>\n<!-- 2130365176320&#45;&gt;2130365175888+ -->\n<g id=\"edge15\" class=\"edge\">\n<title>2130365176320&#45;&gt;2130365175888+</title>\n<path fill=\"none\" stroke=\"black\" d=\"M1869.4,-138.13C1879.27,-136.35 1888.85,-134.63 1897.48,-133.08\"/>\n<polygon fill=\"black\" stroke=\"black\" points=\"1897.88,-136.56 1907.1,-131.34 1896.64,-129.67 1897.88,-136.56\"/>\n</g>\n<!-- 2130365176176+ -->\n<g id=\"node24\" class=\"node\">\n<title>2130365176176+</title>\n<ellipse fill=\"none\" stroke=\"black\" cx=\"1935\" cy=\"-181.5\" rx=\"27\" ry=\"18\"/>\n<text text-anchor=\"middle\" x=\"1935\" y=\"-177.8\" font-family=\"Times New Roman,serif\" font-size=\"14.00\">+</text>\n</g>\n<!-- 2130365176320&#45;&gt;2130365176176+ -->\n<g id=\"edge27\" class=\"edge\">\n<title>2130365176320&#45;&gt;2130365176176+</title>\n<path fill=\"none\" stroke=\"black\" d=\"M1869.4,-170.28C1879.27,-172 1888.85,-173.66 1897.48,-175.16\"/>\n<polygon fill=\"black\" stroke=\"black\" points=\"1896.65,-178.57 1907.1,-176.83 1897.84,-171.67 1896.65,-178.57\"/>\n</g>\n<!-- 2130365176320exp -->\n<g id=\"node2\" class=\"node\">\n<title>2130365176320exp</title>\n<ellipse fill=\"none\" stroke=\"black\" cx=\"1620\" cy=\"-154.5\" rx=\"27\" ry=\"18\"/>\n<text text-anchor=\"middle\" x=\"1620\" y=\"-150.8\" font-family=\"Times New Roman,serif\" font-size=\"14.00\">exp</text>\n</g>\n<!-- 2130365176320exp&#45;&gt;2130365176320 -->\n<g id=\"edge1\" class=\"edge\">\n<title>2130365176320exp&#45;&gt;2130365176320</title>\n<path fill=\"none\" stroke=\"black\" d=\"M1647.38,-154.5C1655.31,-154.5 1664.53,-154.5 1674.33,-154.5\"/>\n<polygon fill=\"black\" stroke=\"black\" points=\"1674.09,-158 1684.09,-154.5 1674.09,-151 1674.09,-158\"/>\n</g>\n<!-- 2130365175888 -->\n<g id=\"node3\" class=\"node\">\n<title>2130365175888</title>\n<polygon fill=\"none\" stroke=\"black\" points=\"1998,-108.5 1998,-144.5 2186,-144.5 2186,-108.5 1998,-108.5\"/>\n<text text-anchor=\"middle\" x=\"2008\" y=\"-122.8\" font-family=\"Times New Roman,serif\" font-size=\"14.00\"> </text>\n<polyline fill=\"none\" stroke=\"black\" points=\"2018,-108.5 2018,-144.5\"/>\n<text text-anchor=\"middle\" x=\"2058.5\" y=\"-122.8\" font-family=\"Times New Roman,serif\" font-size=\"14.00\">data 6.8284</text>\n<polyline fill=\"none\" stroke=\"black\" points=\"2099,-108.5 2099,-144.5\"/>\n<text text-anchor=\"middle\" x=\"2142.5\" y=\"-122.8\" font-family=\"Times New Roman,serif\" font-size=\"14.00\">grad &#45;0.1036</text>\n</g>\n<!-- 2130365176080**&#45;1 -->\n<g id=\"node13\" class=\"node\">\n<title>2130365176080**&#45;1</title>\n<ellipse fill=\"none\" stroke=\"black\" cx=\"2314\" cy=\"-126.5\" rx=\"27\" ry=\"18\"/>\n<text text-anchor=\"middle\" x=\"2314\" y=\"-122.8\" font-family=\"Times New Roman,serif\" font-size=\"14.00\">**&#45;1</text>\n</g>\n<!-- 2130365175888&#45;&gt;2130365176080**&#45;1 -->\n<g id=\"edge17\" class=\"edge\">\n<title>2130365175888&#45;&gt;2130365176080**&#45;1</title>\n<path fill=\"none\" stroke=\"black\" d=\"M2185.98,-126.5C2217.42,-126.5 2250.77,-126.5 2275.4,-126.5\"/>\n<polygon fill=\"black\" stroke=\"black\" points=\"2275.23,-130 2285.23,-126.5 2275.23,-123 2275.23,-130\"/>\n</g>\n<!-- 2130365175888+&#45;&gt;2130365175888 -->\n<g id=\"edge2\" class=\"edge\">\n<title>2130365175888+&#45;&gt;2130365175888</title>\n<path fill=\"none\" stroke=\"black\" d=\"M1962.29,-126.5C1969.52,-126.5 1977.82,-126.5 1986.66,-126.5\"/>\n<polygon fill=\"black\" stroke=\"black\" points=\"1986.57,-130 1996.57,-126.5 1986.57,-123 1986.57,-130\"/>\n</g>\n<!-- 2130365173872 -->\n<g id=\"node5\" class=\"node\">\n<title>2130365173872</title>\n<polygon fill=\"none\" stroke=\"black\" points=\"2.5,-55.5 2.5,-91.5 199.5,-91.5 199.5,-55.5 2.5,-55.5\"/>\n<text text-anchor=\"middle\" x=\"19\" y=\"-69.8\" font-family=\"Times New Roman,serif\" font-size=\"14.00\">w2</text>\n<polyline fill=\"none\" stroke=\"black\" points=\"35.5,-55.5 35.5,-91.5\"/>\n<text text-anchor=\"middle\" x=\"76\" y=\"-69.8\" font-family=\"Times New Roman,serif\" font-size=\"14.00\">data 1.0000</text>\n<polyline fill=\"none\" stroke=\"black\" points=\"116.5,-55.5 116.5,-91.5\"/>\n<text text-anchor=\"middle\" x=\"158\" y=\"-69.8\" font-family=\"Times New Roman,serif\" font-size=\"14.00\">grad 0.0000</text>\n</g>\n<!-- 2130365175264* -->\n<g id=\"node27\" class=\"node\">\n<title>2130365175264*</title>\n<ellipse fill=\"none\" stroke=\"black\" cx=\"265\" cy=\"-73.5\" rx=\"27\" ry=\"18\"/>\n<text text-anchor=\"middle\" x=\"265\" y=\"-69.8\" font-family=\"Times New Roman,serif\" font-size=\"14.00\">*</text>\n</g>\n<!-- 2130365173872&#45;&gt;2130365175264* -->\n<g id=\"edge14\" class=\"edge\">\n<title>2130365173872&#45;&gt;2130365175264*</title>\n<path fill=\"none\" stroke=\"black\" d=\"M199.04,-73.5C208.66,-73.5 217.96,-73.5 226.38,-73.5\"/>\n<polygon fill=\"black\" stroke=\"black\" points=\"226.12,-77 236.12,-73.5 226.12,-70 226.12,-77\"/>\n</g>\n<!-- 2130365174400 -->\n<g id=\"node6\" class=\"node\">\n<title>2130365174400</title>\n<polygon fill=\"none\" stroke=\"black\" points=\"711,-137.5 711,-173.5 899,-173.5 899,-137.5 711,-137.5\"/>\n<text text-anchor=\"middle\" x=\"723\" y=\"-151.8\" font-family=\"Times New Roman,serif\" font-size=\"14.00\">b</text>\n<polyline fill=\"none\" stroke=\"black\" points=\"735,-137.5 735,-173.5\"/>\n<text text-anchor=\"middle\" x=\"775.5\" y=\"-151.8\" font-family=\"Times New Roman,serif\" font-size=\"14.00\">data 6.8814</text>\n<polyline fill=\"none\" stroke=\"black\" points=\"816,-137.5 816,-173.5\"/>\n<text text-anchor=\"middle\" x=\"857.5\" y=\"-151.8\" font-family=\"Times New Roman,serif\" font-size=\"14.00\">grad 0.5000</text>\n</g>\n<!-- 2130365177616+ -->\n<g id=\"node15\" class=\"node\">\n<title>2130365177616+</title>\n<ellipse fill=\"none\" stroke=\"black\" cx=\"997\" cy=\"-127.5\" rx=\"27\" ry=\"18\"/>\n<text text-anchor=\"middle\" x=\"997\" y=\"-123.8\" font-family=\"Times New Roman,serif\" font-size=\"14.00\">+</text>\n</g>\n<!-- 2130365174400&#45;&gt;2130365177616+ -->\n<g id=\"edge23\" class=\"edge\">\n<title>2130365174400&#45;&gt;2130365177616+</title>\n<path fill=\"none\" stroke=\"black\" d=\"M898.77,-141.83C920.2,-138.67 941.79,-135.49 959.15,-132.93\"/>\n<polygon fill=\"black\" stroke=\"black\" points=\"959.57,-136.41 968.95,-131.49 958.55,-129.48 959.57,-136.41\"/>\n</g>\n<!-- 2130365174448 -->\n<g id=\"node7\" class=\"node\">\n<title>2130365174448</title>\n<polygon fill=\"none\" stroke=\"black\" points=\"328,-110.5 328,-146.5 550,-146.5 550,-110.5 328,-110.5\"/>\n<text text-anchor=\"middle\" x=\"354.5\" y=\"-124.8\" font-family=\"Times New Roman,serif\" font-size=\"14.00\">x1*w1</text>\n<polyline fill=\"none\" stroke=\"black\" points=\"381,-110.5 381,-146.5\"/>\n<text text-anchor=\"middle\" x=\"424\" y=\"-124.8\" font-family=\"Times New Roman,serif\" font-size=\"14.00\">data &#45;6.0000</text>\n<polyline fill=\"none\" stroke=\"black\" points=\"467,-110.5 467,-146.5\"/>\n<text text-anchor=\"middle\" x=\"508.5\" y=\"-124.8\" font-family=\"Times New Roman,serif\" font-size=\"14.00\">grad 0.5000</text>\n</g>\n<!-- 2130365175120+ -->\n<g id=\"node22\" class=\"node\">\n<title>2130365175120+</title>\n<ellipse fill=\"none\" stroke=\"black\" cx=\"613\" cy=\"-100.5\" rx=\"27\" ry=\"18\"/>\n<text text-anchor=\"middle\" x=\"613\" y=\"-96.8\" font-family=\"Times New Roman,serif\" font-size=\"14.00\">+</text>\n</g>\n<!-- 2130365174448&#45;&gt;2130365175120+ -->\n<g id=\"edge12\" class=\"edge\">\n<title>2130365174448&#45;&gt;2130365175120+</title>\n<path fill=\"none\" stroke=\"black\" d=\"M549.9,-110.61C558.91,-109.14 567.54,-107.74 575.34,-106.47\"/>\n<polygon fill=\"black\" stroke=\"black\" points=\"575.7,-109.95 585.01,-104.89 574.58,-103.05 575.7,-109.95\"/>\n</g>\n<!-- 2130365174448* -->\n<g id=\"node8\" class=\"node\">\n<title>2130365174448*</title>\n<ellipse fill=\"none\" stroke=\"black\" cx=\"265\" cy=\"-128.5\" rx=\"27\" ry=\"18\"/>\n<text text-anchor=\"middle\" x=\"265\" y=\"-124.8\" font-family=\"Times New Roman,serif\" font-size=\"14.00\">*</text>\n</g>\n<!-- 2130365174448*&#45;&gt;2130365174448 -->\n<g id=\"edge3\" class=\"edge\">\n<title>2130365174448*&#45;&gt;2130365174448</title>\n<path fill=\"none\" stroke=\"black\" d=\"M292.5,-128.5C299.65,-128.5 307.89,-128.5 316.72,-128.5\"/>\n<polygon fill=\"black\" stroke=\"black\" points=\"316.69,-132 326.68,-128.5 316.68,-125 316.69,-132\"/>\n</g>\n<!-- 2130365174976 -->\n<g id=\"node9\" class=\"node\">\n<title>2130365174976</title>\n<polygon fill=\"none\" stroke=\"black\" points=\"2,-165.5 2,-201.5 200,-201.5 200,-165.5 2,-165.5\"/>\n<text text-anchor=\"middle\" x=\"17\" y=\"-179.8\" font-family=\"Times New Roman,serif\" font-size=\"14.00\">x1</text>\n<polyline fill=\"none\" stroke=\"black\" points=\"32,-165.5 32,-201.5\"/>\n<text text-anchor=\"middle\" x=\"72.5\" y=\"-179.8\" font-family=\"Times New Roman,serif\" font-size=\"14.00\">data 2.0000</text>\n<polyline fill=\"none\" stroke=\"black\" points=\"113,-165.5 113,-201.5\"/>\n<text text-anchor=\"middle\" x=\"156.5\" y=\"-179.8\" font-family=\"Times New Roman,serif\" font-size=\"14.00\">grad &#45;1.5000</text>\n</g>\n<!-- 2130365174976&#45;&gt;2130365174448* -->\n<g id=\"edge16\" class=\"edge\">\n<title>2130365174976&#45;&gt;2130365174448*</title>\n<path fill=\"none\" stroke=\"black\" d=\"M173.99,-165.56C183.48,-162.75 193.03,-159.71 202,-156.5 212.1,-152.88 222.83,-148.31 232.49,-143.91\"/>\n<polygon fill=\"black\" stroke=\"black\" points=\"233.88,-147.12 241.46,-139.72 230.92,-140.78 233.88,-147.12\"/>\n</g>\n<!-- 2130365176560 -->\n<g id=\"node10\" class=\"node\">\n<title>2130365176560</title>\n<polygon fill=\"none\" stroke=\"black\" points=\"1061.5,-164.5 1061.5,-200.5 1245.5,-200.5 1245.5,-164.5 1061.5,-164.5\"/>\n<text text-anchor=\"middle\" x=\"1071.5\" y=\"-178.8\" font-family=\"Times New Roman,serif\" font-size=\"14.00\"> </text>\n<polyline fill=\"none\" stroke=\"black\" points=\"1081.5,-164.5 1081.5,-200.5\"/>\n<text text-anchor=\"middle\" x=\"1122\" y=\"-178.8\" font-family=\"Times New Roman,serif\" font-size=\"14.00\">data 2.0000</text>\n<polyline fill=\"none\" stroke=\"black\" points=\"1162.5,-164.5 1162.5,-200.5\"/>\n<text text-anchor=\"middle\" x=\"1204\" y=\"-178.8\" font-family=\"Times New Roman,serif\" font-size=\"14.00\">grad 0.2203</text>\n</g>\n<!-- 2130365176656* -->\n<g id=\"node20\" class=\"node\">\n<title>2130365176656*</title>\n<ellipse fill=\"none\" stroke=\"black\" cx=\"1310\" cy=\"-154.5\" rx=\"27\" ry=\"18\"/>\n<text text-anchor=\"middle\" x=\"1310\" y=\"-150.8\" font-family=\"Times New Roman,serif\" font-size=\"14.00\">*</text>\n</g>\n<!-- 2130365176560&#45;&gt;2130365176656* -->\n<g id=\"edge24\" class=\"edge\">\n<title>2130365176560&#45;&gt;2130365176656*</title>\n<path fill=\"none\" stroke=\"black\" d=\"M1245.27,-166.05C1254.82,-164.32 1264.09,-162.64 1272.47,-161.12\"/>\n<polygon fill=\"black\" stroke=\"black\" points=\"1272.94,-164.59 1282.16,-159.36 1271.69,-157.7 1272.94,-164.59\"/>\n</g>\n<!-- 2130365175552 -->\n<g id=\"node11\" class=\"node\">\n<title>2130365175552</title>\n<polygon fill=\"none\" stroke=\"black\" points=\"1683.5,-81.5 1683.5,-117.5 1871.5,-117.5 1871.5,-81.5 1683.5,-81.5\"/>\n<text text-anchor=\"middle\" x=\"1693.5\" y=\"-95.8\" font-family=\"Times New Roman,serif\" font-size=\"14.00\"> </text>\n<polyline fill=\"none\" stroke=\"black\" points=\"1703.5,-81.5 1703.5,-117.5\"/>\n<text text-anchor=\"middle\" x=\"1744\" y=\"-95.8\" font-family=\"Times New Roman,serif\" font-size=\"14.00\">data 1.0000</text>\n<polyline fill=\"none\" stroke=\"black\" points=\"1784.5,-81.5 1784.5,-117.5\"/>\n<text text-anchor=\"middle\" x=\"1828\" y=\"-95.8\" font-family=\"Times New Roman,serif\" font-size=\"14.00\">grad &#45;0.1036</text>\n</g>\n<!-- 2130365175552&#45;&gt;2130365175888+ -->\n<g id=\"edge13\" class=\"edge\">\n<title>2130365175552&#45;&gt;2130365175888+</title>\n<path fill=\"none\" stroke=\"black\" d=\"M1871.2,-115.6C1880.38,-117.19 1889.27,-118.73 1897.33,-120.13\"/>\n<polygon fill=\"black\" stroke=\"black\" points=\"1896.54,-123.55 1906.99,-121.81 1897.74,-116.65 1896.54,-123.55\"/>\n</g>\n<!-- 2130365176080 -->\n<g id=\"node12\" class=\"node\">\n<title>2130365176080</title>\n<polygon fill=\"none\" stroke=\"black\" points=\"2442,-112.5 2442,-148.5 2626,-148.5 2626,-112.5 2442,-112.5\"/>\n<text text-anchor=\"middle\" x=\"2452\" y=\"-126.8\" font-family=\"Times New Roman,serif\" font-size=\"14.00\"> </text>\n<polyline fill=\"none\" stroke=\"black\" points=\"2462,-112.5 2462,-148.5\"/>\n<text text-anchor=\"middle\" x=\"2502.5\" y=\"-126.8\" font-family=\"Times New Roman,serif\" font-size=\"14.00\">data 0.1464</text>\n<polyline fill=\"none\" stroke=\"black\" points=\"2543,-112.5 2543,-148.5\"/>\n<text text-anchor=\"middle\" x=\"2584.5\" y=\"-126.8\" font-family=\"Times New Roman,serif\" font-size=\"14.00\">grad 4.8284</text>\n</g>\n<!-- 2130362687792* -->\n<g id=\"node17\" class=\"node\">\n<title>2130362687792*</title>\n<ellipse fill=\"none\" stroke=\"black\" cx=\"2689\" cy=\"-153.5\" rx=\"27\" ry=\"18\"/>\n<text text-anchor=\"middle\" x=\"2689\" y=\"-149.8\" font-family=\"Times New Roman,serif\" font-size=\"14.00\">*</text>\n</g>\n<!-- 2130365176080&#45;&gt;2130362687792* -->\n<g id=\"edge11\" class=\"edge\">\n<title>2130365176080&#45;&gt;2130362687792*</title>\n<path fill=\"none\" stroke=\"black\" d=\"M2625.77,-144.15C2634.66,-145.48 2643.28,-146.78 2651.13,-147.96\"/>\n<polygon fill=\"black\" stroke=\"black\" points=\"2650.49,-151.4 2660.89,-149.43 2651.53,-144.48 2650.49,-151.4\"/>\n</g>\n<!-- 2130365176080**&#45;1&#45;&gt;2130365176080 -->\n<g id=\"edge4\" class=\"edge\">\n<title>2130365176080**&#45;1&#45;&gt;2130365176080</title>\n<path fill=\"none\" stroke=\"black\" d=\"M2341.3,-126.98C2363.88,-127.4 2397.96,-128.02 2431.16,-128.63\"/>\n<polygon fill=\"black\" stroke=\"black\" points=\"2430.79,-132.12 2440.85,-128.81 2430.91,-125.13 2430.79,-132.12\"/>\n</g>\n<!-- 2130365177616 -->\n<g id=\"node14\" class=\"node\">\n<title>2130365177616</title>\n<polygon fill=\"none\" stroke=\"black\" points=\"1060,-109.5 1060,-145.5 1247,-145.5 1247,-109.5 1060,-109.5\"/>\n<text text-anchor=\"middle\" x=\"1071.5\" y=\"-123.8\" font-family=\"Times New Roman,serif\" font-size=\"14.00\">n</text>\n<polyline fill=\"none\" stroke=\"black\" points=\"1083,-109.5 1083,-145.5\"/>\n<text text-anchor=\"middle\" x=\"1123.5\" y=\"-123.8\" font-family=\"Times New Roman,serif\" font-size=\"14.00\">data 0.8814</text>\n<polyline fill=\"none\" stroke=\"black\" points=\"1164,-109.5 1164,-145.5\"/>\n<text text-anchor=\"middle\" x=\"1205.5\" y=\"-123.8\" font-family=\"Times New Roman,serif\" font-size=\"14.00\">grad 0.5000</text>\n</g>\n<!-- 2130365177616&#45;&gt;2130365176656* -->\n<g id=\"edge18\" class=\"edge\">\n<title>2130365177616&#45;&gt;2130365176656*</title>\n<path fill=\"none\" stroke=\"black\" d=\"M1246.6,-143.6C1255.53,-145.16 1264.18,-146.67 1272.06,-148.04\"/>\n<polygon fill=\"black\" stroke=\"black\" points=\"1271.4,-151.48 1281.86,-149.76 1272.61,-144.59 1271.4,-151.48\"/>\n</g>\n<!-- 2130365177616+&#45;&gt;2130365177616 -->\n<g id=\"edge5\" class=\"edge\">\n<title>2130365177616+&#45;&gt;2130365177616</title>\n<path fill=\"none\" stroke=\"black\" d=\"M1024.21,-127.5C1031.47,-127.5 1039.83,-127.5 1048.71,-127.5\"/>\n<polygon fill=\"black\" stroke=\"black\" points=\"1048.7,-131 1058.7,-127.5 1048.7,-124 1048.7,-131\"/>\n</g>\n<!-- 2130362687792 -->\n<g id=\"node16\" class=\"node\">\n<title>2130362687792</title>\n<polygon fill=\"none\" stroke=\"black\" points=\"2752,-135.5 2752,-171.5 2940,-171.5 2940,-135.5 2752,-135.5\"/>\n<text text-anchor=\"middle\" x=\"2764\" y=\"-149.8\" font-family=\"Times New Roman,serif\" font-size=\"14.00\">o</text>\n<polyline fill=\"none\" stroke=\"black\" points=\"2776,-135.5 2776,-171.5\"/>\n<text text-anchor=\"middle\" x=\"2816.5\" y=\"-149.8\" font-family=\"Times New Roman,serif\" font-size=\"14.00\">data 0.7071</text>\n<polyline fill=\"none\" stroke=\"black\" points=\"2857,-135.5 2857,-171.5\"/>\n<text text-anchor=\"middle\" x=\"2898.5\" y=\"-149.8\" font-family=\"Times New Roman,serif\" font-size=\"14.00\">grad 1.0000</text>\n</g>\n<!-- 2130362687792*&#45;&gt;2130362687792 -->\n<g id=\"edge6\" class=\"edge\">\n<title>2130362687792*&#45;&gt;2130362687792</title>\n<path fill=\"none\" stroke=\"black\" d=\"M2716.29,-153.5C2723.52,-153.5 2731.82,-153.5 2740.66,-153.5\"/>\n<polygon fill=\"black\" stroke=\"black\" points=\"2740.57,-157 2750.57,-153.5 2740.57,-150 2740.57,-157\"/>\n</g>\n<!-- 2130365176608 -->\n<g id=\"node18\" class=\"node\">\n<title>2130365176608</title>\n<polygon fill=\"none\" stroke=\"black\" points=\"1683,-191.5 1683,-227.5 1872,-227.5 1872,-191.5 1683,-191.5\"/>\n<text text-anchor=\"middle\" x=\"1693\" y=\"-205.8\" font-family=\"Times New Roman,serif\" font-size=\"14.00\"> </text>\n<polyline fill=\"none\" stroke=\"black\" points=\"1703,-191.5 1703,-227.5\"/>\n<text text-anchor=\"middle\" x=\"1746\" y=\"-205.8\" font-family=\"Times New Roman,serif\" font-size=\"14.00\">data &#45;1.0000</text>\n<polyline fill=\"none\" stroke=\"black\" points=\"1789,-191.5 1789,-227.5\"/>\n<text text-anchor=\"middle\" x=\"1830.5\" y=\"-205.8\" font-family=\"Times New Roman,serif\" font-size=\"14.00\">grad 0.1464</text>\n</g>\n<!-- 2130365176608&#45;&gt;2130365176176+ -->\n<g id=\"edge25\" class=\"edge\">\n<title>2130365176608&#45;&gt;2130365176176+</title>\n<path fill=\"none\" stroke=\"black\" d=\"M1871.65,-192.73C1880.58,-191.12 1889.23,-189.56 1897.11,-188.14\"/>\n<polygon fill=\"black\" stroke=\"black\" points=\"1897.68,-191.6 1906.9,-186.38 1896.44,-184.71 1897.68,-191.6\"/>\n</g>\n<!-- 2130365176656 -->\n<g id=\"node19\" class=\"node\">\n<title>2130365176656</title>\n<polygon fill=\"none\" stroke=\"black\" points=\"1373,-136.5 1373,-172.5 1557,-172.5 1557,-136.5 1373,-136.5\"/>\n<text text-anchor=\"middle\" x=\"1383\" y=\"-150.8\" font-family=\"Times New Roman,serif\" font-size=\"14.00\"> </text>\n<polyline fill=\"none\" stroke=\"black\" points=\"1393,-136.5 1393,-172.5\"/>\n<text text-anchor=\"middle\" x=\"1433.5\" y=\"-150.8\" font-family=\"Times New Roman,serif\" font-size=\"14.00\">data 1.7627</text>\n<polyline fill=\"none\" stroke=\"black\" points=\"1474,-136.5 1474,-172.5\"/>\n<text text-anchor=\"middle\" x=\"1515.5\" y=\"-150.8\" font-family=\"Times New Roman,serif\" font-size=\"14.00\">grad 0.2500</text>\n</g>\n<!-- 2130365176656&#45;&gt;2130365176320exp -->\n<g id=\"edge28\" class=\"edge\">\n<title>2130365176656&#45;&gt;2130365176320exp</title>\n<path fill=\"none\" stroke=\"black\" d=\"M1556.77,-154.5C1565.38,-154.5 1573.75,-154.5 1581.4,-154.5\"/>\n<polygon fill=\"black\" stroke=\"black\" points=\"1581.27,-158 1591.27,-154.5 1581.27,-151 1581.27,-158\"/>\n</g>\n<!-- 2130365176656*&#45;&gt;2130365176656 -->\n<g id=\"edge7\" class=\"edge\">\n<title>2130365176656*&#45;&gt;2130365176656</title>\n<path fill=\"none\" stroke=\"black\" d=\"M1337.3,-154.5C1344.57,-154.5 1352.92,-154.5 1361.8,-154.5\"/>\n<polygon fill=\"black\" stroke=\"black\" points=\"1361.76,-158 1371.76,-154.5 1361.76,-151 1361.76,-158\"/>\n</g>\n<!-- 2130365175120 -->\n<g id=\"node21\" class=\"node\">\n<title>2130365175120</title>\n<polygon fill=\"none\" stroke=\"black\" points=\"676,-82.5 676,-118.5 934,-118.5 934,-82.5 676,-82.5\"/>\n<text text-anchor=\"middle\" x=\"720.5\" y=\"-96.8\" font-family=\"Times New Roman,serif\" font-size=\"14.00\">x1w1+ x2w2</text>\n<polyline fill=\"none\" stroke=\"black\" points=\"765,-82.5 765,-118.5\"/>\n<text text-anchor=\"middle\" x=\"808\" y=\"-96.8\" font-family=\"Times New Roman,serif\" font-size=\"14.00\">data &#45;6.0000</text>\n<polyline fill=\"none\" stroke=\"black\" points=\"851,-82.5 851,-118.5\"/>\n<text text-anchor=\"middle\" x=\"892.5\" y=\"-96.8\" font-family=\"Times New Roman,serif\" font-size=\"14.00\">grad 0.5000</text>\n</g>\n<!-- 2130365175120&#45;&gt;2130365177616+ -->\n<g id=\"edge20\" class=\"edge\">\n<title>2130365175120&#45;&gt;2130365177616+</title>\n<path fill=\"none\" stroke=\"black\" d=\"M932.47,-118.47C941.92,-119.82 950.91,-121.09 958.99,-122.24\"/>\n<polygon fill=\"black\" stroke=\"black\" points=\"958.23,-125.67 968.63,-123.61 959.22,-118.74 958.23,-125.67\"/>\n</g>\n<!-- 2130365175120+&#45;&gt;2130365175120 -->\n<g id=\"edge8\" class=\"edge\">\n<title>2130365175120+&#45;&gt;2130365175120</title>\n<path fill=\"none\" stroke=\"black\" d=\"M640.42,-100.5C647.6,-100.5 655.89,-100.5 664.86,-100.5\"/>\n<polygon fill=\"black\" stroke=\"black\" points=\"664.59,-104 674.59,-100.5 664.59,-97 664.59,-104\"/>\n</g>\n<!-- 2130365176176 -->\n<g id=\"node23\" class=\"node\">\n<title>2130365176176</title>\n<polygon fill=\"none\" stroke=\"black\" points=\"2222,-163.5 2222,-199.5 2406,-199.5 2406,-163.5 2222,-163.5\"/>\n<text text-anchor=\"middle\" x=\"2232\" y=\"-177.8\" font-family=\"Times New Roman,serif\" font-size=\"14.00\"> </text>\n<polyline fill=\"none\" stroke=\"black\" points=\"2242,-163.5 2242,-199.5\"/>\n<text text-anchor=\"middle\" x=\"2282.5\" y=\"-177.8\" font-family=\"Times New Roman,serif\" font-size=\"14.00\">data 4.8284</text>\n<polyline fill=\"none\" stroke=\"black\" points=\"2323,-163.5 2323,-199.5\"/>\n<text text-anchor=\"middle\" x=\"2364.5\" y=\"-177.8\" font-family=\"Times New Roman,serif\" font-size=\"14.00\">grad 0.1464</text>\n</g>\n<!-- 2130365176176&#45;&gt;2130362687792* -->\n<g id=\"edge26\" class=\"edge\">\n<title>2130365176176&#45;&gt;2130362687792*</title>\n<path fill=\"none\" stroke=\"black\" d=\"M2405.85,-174.94C2467.87,-170.42 2551.91,-164.23 2626,-158.5 2633.88,-157.89 2642.33,-157.22 2650.38,-156.57\"/>\n<polygon fill=\"black\" stroke=\"black\" points=\"2650.56,-160.07 2660.25,-155.78 2650,-153.09 2650.56,-160.07\"/>\n</g>\n<!-- 2130365176176+&#45;&gt;2130365176176 -->\n<g id=\"edge9\" class=\"edge\">\n<title>2130365176176+&#45;&gt;2130365176176</title>\n<path fill=\"none\" stroke=\"black\" d=\"M1962.21,-181.5C2012.82,-181.5 2126.42,-181.5 2210.71,-181.5\"/>\n<polygon fill=\"black\" stroke=\"black\" points=\"2210.63,-185 2220.63,-181.5 2210.63,-178 2210.63,-185\"/>\n</g>\n<!-- 2130365174208 -->\n<g id=\"node25\" class=\"node\">\n<title>2130365174208</title>\n<polygon fill=\"none\" stroke=\"black\" points=\"0,-110.5 0,-146.5 202,-146.5 202,-110.5 0,-110.5\"/>\n<text text-anchor=\"middle\" x=\"16.5\" y=\"-124.8\" font-family=\"Times New Roman,serif\" font-size=\"14.00\">w1</text>\n<polyline fill=\"none\" stroke=\"black\" points=\"33,-110.5 33,-146.5\"/>\n<text text-anchor=\"middle\" x=\"76\" y=\"-124.8\" font-family=\"Times New Roman,serif\" font-size=\"14.00\">data &#45;3.0000</text>\n<polyline fill=\"none\" stroke=\"black\" points=\"119,-110.5 119,-146.5\"/>\n<text text-anchor=\"middle\" x=\"160.5\" y=\"-124.8\" font-family=\"Times New Roman,serif\" font-size=\"14.00\">grad 1.0000</text>\n</g>\n<!-- 2130365174208&#45;&gt;2130365174448* -->\n<g id=\"edge19\" class=\"edge\">\n<title>2130365174208&#45;&gt;2130365174448*</title>\n<path fill=\"none\" stroke=\"black\" d=\"M201.83,-128.5C210.46,-128.5 218.79,-128.5 226.4,-128.5\"/>\n<polygon fill=\"black\" stroke=\"black\" points=\"226.18,-132 236.18,-128.5 226.18,-125 226.18,-132\"/>\n</g>\n<!-- 2130365175264 -->\n<g id=\"node26\" class=\"node\">\n<title>2130365175264</title>\n<polygon fill=\"none\" stroke=\"black\" points=\"330.5,-55.5 330.5,-91.5 547.5,-91.5 547.5,-55.5 330.5,-55.5\"/>\n<text text-anchor=\"middle\" x=\"357\" y=\"-69.8\" font-family=\"Times New Roman,serif\" font-size=\"14.00\">x2*w2</text>\n<polyline fill=\"none\" stroke=\"black\" points=\"383.5,-55.5 383.5,-91.5\"/>\n<text text-anchor=\"middle\" x=\"424\" y=\"-69.8\" font-family=\"Times New Roman,serif\" font-size=\"14.00\">data 0.0000</text>\n<polyline fill=\"none\" stroke=\"black\" points=\"464.5,-55.5 464.5,-91.5\"/>\n<text text-anchor=\"middle\" x=\"506\" y=\"-69.8\" font-family=\"Times New Roman,serif\" font-size=\"14.00\">grad 0.5000</text>\n</g>\n<!-- 2130365175264&#45;&gt;2130365175120+ -->\n<g id=\"edge21\" class=\"edge\">\n<title>2130365175264&#45;&gt;2130365175120+</title>\n<path fill=\"none\" stroke=\"black\" d=\"M547.46,-90.37C557.25,-91.91 566.64,-93.38 575.08,-94.7\"/>\n<polygon fill=\"black\" stroke=\"black\" points=\"574.41,-98.14 584.83,-96.23 575.49,-91.23 574.41,-98.14\"/>\n</g>\n<!-- 2130365175264*&#45;&gt;2130365175264 -->\n<g id=\"edge10\" class=\"edge\">\n<title>2130365175264*&#45;&gt;2130365175264</title>\n<path fill=\"none\" stroke=\"black\" d=\"M292.5,-73.5C300.37,-73.5 309.55,-73.5 319.4,-73.5\"/>\n<polygon fill=\"black\" stroke=\"black\" points=\"319.25,-77 329.25,-73.5 319.25,-70 319.25,-77\"/>\n</g>\n<!-- 2130365174256 -->\n<g id=\"node28\" class=\"node\">\n<title>2130365174256</title>\n<polygon fill=\"none\" stroke=\"black\" points=\"4,-0.5 4,-36.5 198,-36.5 198,-0.5 4,-0.5\"/>\n<text text-anchor=\"middle\" x=\"19\" y=\"-14.8\" font-family=\"Times New Roman,serif\" font-size=\"14.00\">x2</text>\n<polyline fill=\"none\" stroke=\"black\" points=\"34,-0.5 34,-36.5\"/>\n<text text-anchor=\"middle\" x=\"74.5\" y=\"-14.8\" font-family=\"Times New Roman,serif\" font-size=\"14.00\">data 0.0000</text>\n<polyline fill=\"none\" stroke=\"black\" points=\"115,-0.5 115,-36.5\"/>\n<text text-anchor=\"middle\" x=\"156.5\" y=\"-14.8\" font-family=\"Times New Roman,serif\" font-size=\"14.00\">grad 0.5000</text>\n</g>\n<!-- 2130365174256&#45;&gt;2130365175264* -->\n<g id=\"edge22\" class=\"edge\">\n<title>2130365174256&#45;&gt;2130365175264*</title>\n<path fill=\"none\" stroke=\"black\" d=\"M173.99,-36.44C183.48,-39.25 193.03,-42.29 202,-45.5 212.1,-49.12 222.83,-53.69 232.49,-58.09\"/>\n<polygon fill=\"black\" stroke=\"black\" points=\"230.92,-61.22 241.46,-62.28 233.88,-54.88 230.92,-61.22\"/>\n</g>\n</g>\n</svg>\n",
      "text/plain": [
       "<graphviz.graphs.Digraph at 0x1f003abda30>"
      ]
     },
     "execution_count": 62,
     "metadata": {},
     "output_type": "execute_result"
    }
   ],
   "source": [
    "o.backward()\n",
    "draw_dot(o)"
   ]
  },
  {
   "attachments": {},
   "cell_type": "markdown",
   "metadata": {},
   "source": [
    "# Using PyTorch Api"
   ]
  },
  {
   "cell_type": "code",
   "execution_count": 46,
   "metadata": {},
   "outputs": [
    {
     "name": "stderr",
     "output_type": "stream",
     "text": [
      "d:\\work\\work\\lib\\site-packages\\tqdm\\auto.py:22: TqdmWarning: IProgress not found. Please update jupyter and ipywidgets. See https://ipywidgets.readthedocs.io/en/stable/user_install.html\n",
      "  from .autonotebook import tqdm as notebook_tqdm\n"
     ]
    },
    {
     "name": "stdout",
     "output_type": "stream",
     "text": [
      "cuda:0\n"
     ]
    }
   ],
   "source": [
    "import torch\n",
    "torch.cuda.is_available()\n",
    "device = torch.device(\"cuda:0\" if torch.cuda.is_available() else \"cpu\")\n",
    "print(device)"
   ]
  },
  {
   "cell_type": "code",
   "execution_count": 47,
   "metadata": {},
   "outputs": [
    {
     "data": {
      "text/plain": [
       "'NVIDIA GeForce RTX 3070 Ti Laptop GPU'"
      ]
     },
     "execution_count": 47,
     "metadata": {},
     "output_type": "execute_result"
    }
   ],
   "source": [
    "torch.cuda.get_device_name(0)"
   ]
  },
  {
   "cell_type": "code",
   "execution_count": 48,
   "metadata": {},
   "outputs": [
    {
     "name": "stdout",
     "output_type": "stream",
     "text": [
      "0.7071066904050358\n",
      "------\n",
      "x2 0.5000001283844369\n",
      "w2 0.0\n",
      "x1 -1.5000003851533106\n",
      "w1 1.0000002567688737\n"
     ]
    }
   ],
   "source": [
    "\n",
    "x1 = torch.Tensor([2.0]).double().cpu()               ;   x1.requires_grad = True\n",
    "x2 = torch.Tensor([0.0]).double().cpu()              ;   x2.requires_grad = True\n",
    "w1 = torch.Tensor([-3.0]).double().cpu()              ;   w1.requires_grad = True\n",
    "w2 = torch.Tensor([1.0]).double().cpu()                ;   w2.requires_grad = True\n",
    "b = torch.Tensor([6.8813735870195432]).double().cpu()  ;   b.requires_grad = True\n",
    "\n",
    "n = x1*w1 + x2*w2 + b\n",
    "o = torch.tanh(n)\n",
    "print(o.data.item())\n",
    "o.backward()\n",
    "\n",
    "print('------')\n",
    "print('x2',x2.grad.item())\n",
    "print('w2',w2.grad.item())\n",
    "print('x1',x1.grad.item())\n",
    "print('w1',w1.grad.item())\n"
   ]
  },
  {
   "cell_type": "code",
   "execution_count": 49,
   "metadata": {},
   "outputs": [
    {
     "name": "stdout",
     "output_type": "stream",
     "text": [
      "0.7071066904050358\n",
      "------\n",
      "x2 0.5000001283844369\n",
      "w2 0.0\n",
      "x1 -1.5000003851533106\n",
      "w1 1.0000002567688737\n"
     ]
    }
   ],
   "source": [
    "\n",
    "x1 = torch.Tensor([2.0]).double().cuda()               ;   x1.requires_grad = True\n",
    "x2 = torch.Tensor([0.0]).double().cuda()               ;   x2.requires_grad = True\n",
    "w1 = torch.Tensor([-3.0]).double().cuda()               ;   w1.requires_grad = True\n",
    "w2 = torch.Tensor([1.0]).double().cuda()                ;   w2.requires_grad = True\n",
    "b = torch.Tensor([6.8813735870195432]).double().cuda()  ;   b.requires_grad = True\n",
    "\n",
    "n = x1*w1 + x2*w2 + b\n",
    "\n",
    "o = torch.tanh(n).cuda()\n",
    "print(o.data.item())\n",
    "o.backward()\n",
    "\n",
    "print('------')\n",
    "print('x2',x2.grad.item())\n",
    "print('w2',w2.grad.item())\n",
    "print('x1',x1.grad.item())\n",
    "print('w1',w1.grad.item())\n"
   ]
  },
  {
   "cell_type": "code",
   "execution_count": 50,
   "metadata": {},
   "outputs": [
    {
     "data": {
      "text/plain": [
       "True"
      ]
     },
     "execution_count": 50,
     "metadata": {},
     "output_type": "execute_result"
    }
   ],
   "source": [
    "n.is_cuda"
   ]
  },
  {
   "attachments": {},
   "cell_type": "markdown",
   "metadata": {},
   "source": [
    "## Neural Net And Multi Layer Perceptron"
   ]
  },
  {
   "cell_type": "code",
   "execution_count": 158,
   "metadata": {},
   "outputs": [],
   "source": [
    "import random\n",
    "class Neuron:\n",
    "    def __init__(self,nin):\n",
    "        self.w = [Value(random.uniform(-1,1)) for _ in range(nin)]\n",
    "        self.b = Value(random.uniform(-1,1))\n",
    "    # __call__ == f(x)\n",
    "    def __call__(self,x):\n",
    "        act = sum(wi*xi for wi, xi in zip(self.w,x)) + self.b # Activation\n",
    "        act = sum((wi*xi for wi,xi in zip(self.w,x)),self.b)\n",
    "        out = act.tanh()\n",
    "        return out\n",
    "    def parameters(self):\n",
    "        return self.w + [self.b]\n",
    "class Layer:\n",
    "    def __init__(self,nin,nout):\n",
    "        self.neurons = [Neuron(nin) for _ in range(nout)]\n",
    "        \n",
    "    def __call__(self,x):\n",
    "        outs = [n(x) for n in self.neurons]\n",
    "        return outs[0] if len(outs) == 1 else outs\n",
    "    \n",
    "    def parameters(self):\n",
    "        params = []\n",
    "        for neuron in self.neurons:\n",
    "            ps = neuron.parameters()\n",
    "            params.extend(ps)\n",
    "        return params\n",
    "        \n",
    "    \n",
    "class MLP:\n",
    "    def __init__(self,nin,nouts):\n",
    "        sz = [nin] + nouts\n",
    "        self.layers = [Layer(sz[i],sz[i+1]) for i in range(len(nouts))]\n",
    "    def __call__(self,x):\n",
    "        for layer in self.layers:\n",
    "            x = layer(x)\n",
    "        return x    \n",
    "    \n",
    "    def parameters(self):\n",
    "        return [p for layer in self.layers for p in layer.parameters()]\n",
    "\n",
    "        \n",
    "    "
   ]
  },
  {
   "cell_type": "code",
   "execution_count": 159,
   "metadata": {},
   "outputs": [
    {
     "data": {
      "text/plain": [
       "Value(data=-0.09392588462569473)"
      ]
     },
     "execution_count": 159,
     "metadata": {},
     "output_type": "execute_result"
    }
   ],
   "source": [
    "x = [2.0,3.0,-1.0]\n",
    "n = MLP(3,[4,4,1])\n",
    "n(x)"
   ]
  },
  {
   "cell_type": "code",
   "execution_count": 117,
   "metadata": {},
   "outputs": [],
   "source": [
    "#draw_dot(n(x))"
   ]
  },
  {
   "cell_type": "code",
   "execution_count": 160,
   "metadata": {},
   "outputs": [],
   "source": [
    "xs = [\n",
    "    [2.0,3.0,-1.0],\n",
    "     [3.0,-1.0,0.5],\n",
    "     [0.5,1.0,1.0],\n",
    "     [1.0,1.0,-1.0],\n",
    "    ] # inputs\n",
    "ys = [1.0,-1.0,-1.0,1.0] # targets"
   ]
  },
  {
   "cell_type": "code",
   "execution_count": 161,
   "metadata": {},
   "outputs": [
    {
     "data": {
      "text/plain": [
       "[Value(data=-0.09392588462569473),\n",
       " Value(data=-0.1912051917123738),\n",
       " Value(data=0.8623924329580089),\n",
       " Value(data=0.00608349195705894)]"
      ]
     },
     "execution_count": 161,
     "metadata": {},
     "output_type": "execute_result"
    }
   ],
   "source": [
    "ypred = [n(x) for x in xs ]\n",
    "ypred"
   ]
  },
  {
   "attachments": {},
   "cell_type": "markdown",
   "metadata": {},
   "source": [
    "Loss measures how overall the neural net is performing"
   ]
  },
  {
   "cell_type": "code",
   "execution_count": 125,
   "metadata": {},
   "outputs": [
    {
     "data": {
      "text/plain": [
       "[Value(data=2.5018984713648216),\n",
       " Value(data=0.33107795680964164),\n",
       " Value(data=0.2657184999375139),\n",
       " Value(data=2.057593036599211)]"
      ]
     },
     "execution_count": 125,
     "metadata": {},
     "output_type": "execute_result"
    }
   ],
   "source": [
    "[(yout-ygt)**2 for ygt,yout in zip(ys,ypred)]"
   ]
  },
  {
   "cell_type": "code",
   "execution_count": 162,
   "metadata": {},
   "outputs": [
    {
     "data": {
      "text/plain": [
       "Value(data=6.307198482266652)"
      ]
     },
     "execution_count": 162,
     "metadata": {},
     "output_type": "execute_result"
    }
   ],
   "source": [
    "loss = sum([(yout-ygt)**2 for ygt,yout in zip(ys,ypred)])\n",
    "loss"
   ]
  },
  {
   "cell_type": "code",
   "execution_count": 127,
   "metadata": {},
   "outputs": [
    {
     "data": {
      "text/plain": [
       "0.21438907733964263"
      ]
     },
     "execution_count": 127,
     "metadata": {},
     "output_type": "execute_result"
    }
   ],
   "source": [
    "loss.backward()\n"
   ]
  },
  {
   "cell_type": "code",
   "execution_count": 133,
   "metadata": {},
   "outputs": [
    {
     "data": {
      "text/plain": [
       "[Value(data=-0.08284808198560256),\n",
       " Value(data=0.8448751413835169),\n",
       " Value(data=0.1773464505920943),\n",
       " Value(data=-0.8384969036716514),\n",
       " Value(data=-0.05484065701639396),\n",
       " Value(data=0.5904078181232868),\n",
       " Value(data=0.2634142975256406),\n",
       " Value(data=0.13753732078227432),\n",
       " Value(data=0.43671352361384197),\n",
       " Value(data=0.8655852952695493),\n",
       " Value(data=0.9287410051387395),\n",
       " Value(data=-0.14129522154821195),\n",
       " Value(data=-0.3898993739663317),\n",
       " Value(data=-0.6525246661979627),\n",
       " Value(data=0.277501778051082),\n",
       " Value(data=0.08112640903505053),\n",
       " Value(data=-0.6467729003698321),\n",
       " Value(data=-0.755344018630115),\n",
       " Value(data=0.2925004789382275),\n",
       " Value(data=0.10628716841579888),\n",
       " Value(data=-0.4520388414443981),\n",
       " Value(data=0.22570753580709835),\n",
       " Value(data=-0.43563605958350626),\n",
       " Value(data=0.14688215098976865),\n",
       " Value(data=0.4802098394935601),\n",
       " Value(data=-0.2772372516163797),\n",
       " Value(data=0.06292081246155434),\n",
       " Value(data=0.7574771493342498),\n",
       " Value(data=0.5383053343508601),\n",
       " Value(data=-0.36658937013853987),\n",
       " Value(data=0.04602385856795399),\n",
       " Value(data=-0.8328849233791473),\n",
       " Value(data=0.6452639489232284),\n",
       " Value(data=0.03754561560849434),\n",
       " Value(data=0.11332028585166731),\n",
       " Value(data=-0.5156555354135977),\n",
       " Value(data=-0.4205566301794539),\n",
       " Value(data=0.1993457338679694),\n",
       " Value(data=-0.6795478425293935),\n",
       " Value(data=0.3354655670778466),\n",
       " Value(data=-0.07027863150967484)]"
      ]
     },
     "execution_count": 133,
     "metadata": {},
     "output_type": "execute_result"
    }
   ],
   "source": [
    "n.parameters()"
   ]
  },
  {
   "attachments": {},
   "cell_type": "markdown",
   "metadata": {},
   "source": [
    "We want to minimise the loss so we flip the sign as the gradient of all parameters is a vector pointing towards loss, i.e negative sign"
   ]
  },
  {
   "cell_type": "code",
   "execution_count": 134,
   "metadata": {},
   "outputs": [],
   "source": [
    "for p in n.parameters():\n",
    "    p.data += -0.01 * p.grad"
   ]
  },
  {
   "cell_type": "code",
   "execution_count": 163,
   "metadata": {},
   "outputs": [
    {
     "data": {
      "text/plain": [
       "-0.6089652627858093"
      ]
     },
     "execution_count": 163,
     "metadata": {},
     "output_type": "execute_result"
    }
   ],
   "source": [
    "n.layers[0].neurons[0].w[0].data"
   ]
  },
  {
   "cell_type": "code",
   "execution_count": 136,
   "metadata": {},
   "outputs": [
    {
     "data": {
      "text/plain": [
       "Value(data=4.7670144508428365)"
      ]
     },
     "execution_count": 136,
     "metadata": {},
     "output_type": "execute_result"
    }
   ],
   "source": [
    "ypred = [n(x) for x in xs ]\n",
    "loss = sum([(yout-ygt)**2 for ygt,yout in zip(ys,ypred)])\n",
    "loss\n",
    "# We expect the overall loss to decrease when doing the forward pass again."
   ]
  },
  {
   "cell_type": "code",
   "execution_count": 210,
   "metadata": {},
   "outputs": [
    {
     "data": {
      "text/plain": [
       "(-0.5002091204310899, Value(data=0.3725384387814767))"
      ]
     },
     "execution_count": 210,
     "metadata": {},
     "output_type": "execute_result"
    }
   ],
   "source": [
    "for p in n.parameters():\n",
    "    p.grad = 0.0\n",
    "\n",
    "loss.backward()\n",
    "for p in n.parameters():\n",
    "    p.data += -0.01 * p.grad\n",
    "ypred = [n(x) for x in xs ]\n",
    "loss = sum([(yout-ygt)**2 for ygt,yout in zip(ys,ypred)])\n",
    "\n",
    "n.layers[0].neurons[0].w[0].data,loss"
   ]
  },
  {
   "cell_type": "code",
   "execution_count": 211,
   "metadata": {},
   "outputs": [
    {
     "data": {
      "text/plain": [
       "[Value(data=0.7884514703143852),\n",
       " Value(data=-0.844110333581102),\n",
       " Value(data=-0.5947526895107823),\n",
       " Value(data=0.6268261965057146)]"
      ]
     },
     "execution_count": 211,
     "metadata": {},
     "output_type": "execute_result"
    }
   ],
   "source": [
    "ypred"
   ]
  }
 ],
 "metadata": {
  "kernelspec": {
   "display_name": "work",
   "language": "python",
   "name": "python3"
  },
  "language_info": {
   "codemirror_mode": {
    "name": "ipython",
    "version": 3
   },
   "file_extension": ".py",
   "mimetype": "text/x-python",
   "name": "python",
   "nbconvert_exporter": "python",
   "pygments_lexer": "ipython3",
   "version": "3.9.6"
  },
  "orig_nbformat": 4,
  "vscode": {
   "interpreter": {
    "hash": "ca6a80a0f84814d048c4a16905d328a4fcd5274c1a53f6898e38443bd2cf5806"
   }
  }
 },
 "nbformat": 4,
 "nbformat_minor": 2
}
